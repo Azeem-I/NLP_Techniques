{
  "nbformat": 4,
  "nbformat_minor": 0,
  "metadata": {
    "colab": {
      "provenance": []
    },
    "kernelspec": {
      "name": "python3",
      "display_name": "Python 3"
    },
    "language_info": {
      "name": "python"
    }
  },
  "cells": [
    {
      "cell_type": "markdown",
      "source": [
        "# IMPLEMENTATION OF PARTS OF SPEECH TAGGING,NAMED ENTITY RECOGNITION,DEPENDENCY PARSING ,RULE BASED RELATION EXTRACTION"
      ],
      "metadata": {
        "id": "vCbvzMqZtzTy"
      }
    },
    {
      "cell_type": "code",
      "execution_count": null,
      "metadata": {
        "id": "KZDCypp4tKnQ"
      },
      "outputs": [],
      "source": [
        "import spacy\n",
        "import re\n",
        "from spacy import displacy"
      ]
    },
    {
      "cell_type": "markdown",
      "source": [
        "## Parts Of Speech Tagging"
      ],
      "metadata": {
        "id": "jogW7M6LuCM6"
      }
    },
    {
      "cell_type": "code",
      "source": [
        "#defining the string\n",
        "text=\"I am not afraid of storms, for I am learning how to sail my ship\"\n",
        "\n",
        "##loading the spacy model\n",
        "nlp=spacy.load(\"en_core_web_sm\")\n",
        "\n",
        "##creating the doc object\n",
        "doc=nlp(text)\n",
        "\n",
        "##printing the tokens present\n",
        "print([token for token in doc])"
      ],
      "metadata": {
        "colab": {
          "base_uri": "https://localhost:8080/"
        },
        "id": "8nN-UvP9uPY0",
        "outputId": "82e0fd26-9af0-4cd2-879b-f6113f3474ea"
      },
      "execution_count": null,
      "outputs": [
        {
          "output_type": "stream",
          "name": "stdout",
          "text": [
            "[I, am, not, afraid, of, storms, ,, for, I, am, learning, how, to, sail, my, ship]\n"
          ]
        }
      ]
    },
    {
      "cell_type": "code",
      "source": [
        "## finding POS tags associated with each token.\n",
        "\n",
        "for token in doc:\n",
        "  print(token.text,\"==>\",token.pos_,\"==>\",token.tag_)"
      ],
      "metadata": {
        "colab": {
          "base_uri": "https://localhost:8080/"
        },
        "id": "oVdaeq4wvRpS",
        "outputId": "d5b98a6d-3943-4e55-c757-b2499367e944"
      },
      "execution_count": null,
      "outputs": [
        {
          "output_type": "stream",
          "name": "stdout",
          "text": [
            "I ==> PRON ==> PRP\n",
            "am ==> AUX ==> VBP\n",
            "not ==> PART ==> RB\n",
            "afraid ==> ADJ ==> JJ\n",
            "of ==> ADP ==> IN\n",
            "storms ==> NOUN ==> NNS\n",
            ", ==> PUNCT ==> ,\n",
            "for ==> SCONJ ==> IN\n",
            "I ==> PRON ==> PRP\n",
            "am ==> AUX ==> VBP\n",
            "learning ==> VERB ==> VBG\n",
            "how ==> SCONJ ==> WRB\n",
            "to ==> PART ==> TO\n",
            "sail ==> VERB ==> VB\n",
            "my ==> PRON ==> PRP$\n",
            "ship ==> NOUN ==> NN\n"
          ]
        }
      ]
    },
    {
      "cell_type": "code",
      "source": [
        "##Extracting verbs from the sentence\n",
        "\n",
        "print(\"Verbs present in the sentence are :\")\n",
        "for token in doc:\n",
        "  if token.pos_==\"VERB\":\n",
        "    print(token.text)\n",
        "\n",
        "\n",
        "### Extracting Nouns from the sentence\n",
        "print(\"===================================\")\n",
        "print(\"Nouns in the sentence  are :\")\n",
        "for token in doc:\n",
        "  if token.pos_==\"NOUN\":\n",
        "    print(token.text)\n"
      ],
      "metadata": {
        "colab": {
          "base_uri": "https://localhost:8080/"
        },
        "id": "kgymxgKlwUTs",
        "outputId": "0dda976d-e511-4742-85f0-69dcfecaccb2"
      },
      "execution_count": null,
      "outputs": [
        {
          "output_type": "stream",
          "name": "stdout",
          "text": [
            "Verbs present in the sentence are :\n",
            "learning\n",
            "sail\n",
            "===================================\n",
            "Nouns in the sentence  are :\n",
            "storms\n",
            "ship\n"
          ]
        }
      ]
    },
    {
      "cell_type": "markdown",
      "source": [
        "#### Reading The moon.txt file and finding pos tags"
      ],
      "metadata": {
        "id": "jy6hb0yMxzmc"
      }
    },
    {
      "cell_type": "code",
      "source": [
        "file1=open(\"/content/moon.txt\",mode=\"r\")\n",
        "text=file1.read()\n",
        "file1.close()"
      ],
      "metadata": {
        "id": "AI0uR6S0xXML"
      },
      "execution_count": null,
      "outputs": []
    },
    {
      "cell_type": "code",
      "source": [
        "text"
      ],
      "metadata": {
        "colab": {
          "base_uri": "https://localhost:8080/",
          "height": 244
        },
        "id": "zV9pEUcyyHdx",
        "outputId": "b3130c21-efb1-4f3a-ac45-c04bf4fd3550"
      },
      "execution_count": null,
      "outputs": [
        {
          "output_type": "execute_result",
          "data": {
            "text/plain": [
              "'The moon is the satellite of the earth. It moves round the earth. It shines at night by light reflected from the Sun. It looks beautiful. The bright Moonlight is very soothing. The earthly objects shine like silver in the moonlight. We are fascinated by the enchanting beauty of the Moon. The moon is not as beautiful as it looks. It seems to be lovely when it shines in the sky at night. As a matter of fact it is devoid of plants and animals. The moon is not a suitable place for plants and animals. Therefore, no form of life can be found on the moon. Unlike the earth, the moon has got no atmosphere. Therefore, the lunar days are very hot and the lunar nights are intensely cold. The moon looks beautiful from the earth but in fact it has up forbidding appearance. It is full of rocks and craters. When we look at the moon at night we see some dark spots on it. These dark spots are dangerous rocks and craters. The gravitational pull of the moon is less than that of the earth, so it is difficult to walk on the surface of the Moon. The moon has fascinated man since the beginning of his life on the earth. He has looked at it with wonder. Many poets have composed beautiful poems on the moon. Scientists tried to reveal the mystery of the moon. They wanted to send human to the moon. Several attempts were made to place man on the moon. At last two Americans-Neil Armstrong and Edwin Aldrin-reached the moon on July 21, 1969. They walked on the surface of the moon and collected the lunar rocks. They returned to the earth safely. The American scientists have sent men to the moon several times. Now the moon has been conquered by man. It is no longer a mysterious object. The journey of the moon may be thrilling but it cannot make our life on the earth happy. It is better to have a happy life on the earth then to go to the moon.\\n'"
            ],
            "application/vnd.google.colaboratory.intrinsic+json": {
              "type": "string"
            }
          },
          "metadata": {},
          "execution_count": 9
        }
      ]
    },
    {
      "cell_type": "code",
      "source": [
        "##removing some unnecessary characters\n",
        "text=re.sub(\"\\n\",\"\",text)\n",
        "text"
      ],
      "metadata": {
        "colab": {
          "base_uri": "https://localhost:8080/",
          "height": 244
        },
        "id": "m5MgNYU4yIug",
        "outputId": "2beac6d2-ed13-4eff-d64b-fb6eb43b1bf4"
      },
      "execution_count": null,
      "outputs": [
        {
          "output_type": "execute_result",
          "data": {
            "text/plain": [
              "'The moon is the satellite of the earth. It moves round the earth. It shines at night by light reflected from the Sun. It looks beautiful. The bright Moonlight is very soothing. The earthly objects shine like silver in the moonlight. We are fascinated by the enchanting beauty of the Moon. The moon is not as beautiful as it looks. It seems to be lovely when it shines in the sky at night. As a matter of fact it is devoid of plants and animals. The moon is not a suitable place for plants and animals. Therefore, no form of life can be found on the moon. Unlike the earth, the moon has got no atmosphere. Therefore, the lunar days are very hot and the lunar nights are intensely cold. The moon looks beautiful from the earth but in fact it has up forbidding appearance. It is full of rocks and craters. When we look at the moon at night we see some dark spots on it. These dark spots are dangerous rocks and craters. The gravitational pull of the moon is less than that of the earth, so it is difficult to walk on the surface of the Moon. The moon has fascinated man since the beginning of his life on the earth. He has looked at it with wonder. Many poets have composed beautiful poems on the moon. Scientists tried to reveal the mystery of the moon. They wanted to send human to the moon. Several attempts were made to place man on the moon. At last two Americans-Neil Armstrong and Edwin Aldrin-reached the moon on July 21, 1969. They walked on the surface of the moon and collected the lunar rocks. They returned to the earth safely. The American scientists have sent men to the moon several times. Now the moon has been conquered by man. It is no longer a mysterious object. The journey of the moon may be thrilling but it cannot make our life on the earth happy. It is better to have a happy life on the earth then to go to the moon.'"
            ],
            "application/vnd.google.colaboratory.intrinsic+json": {
              "type": "string"
            }
          },
          "metadata": {},
          "execution_count": 12
        }
      ]
    },
    {
      "cell_type": "code",
      "source": [
        "##creating doc object\n",
        "doc=nlp(text)\n",
        "\n",
        "##printing tokens and annoataing words with parts of speech tags\n",
        "for token in doc:\n",
        "  print(token.text,\"==>\",token.pos_,\"==>\",token.tag_)\n"
      ],
      "metadata": {
        "colab": {
          "base_uri": "https://localhost:8080/"
        },
        "id": "bIyXxpUTyf9z",
        "outputId": "6bb393c0-9c86-4419-a2c2-021493a9fc80"
      },
      "execution_count": null,
      "outputs": [
        {
          "output_type": "stream",
          "name": "stdout",
          "text": [
            "The ==> DET ==> DT\n",
            "moon ==> NOUN ==> NN\n",
            "is ==> AUX ==> VBZ\n",
            "the ==> DET ==> DT\n",
            "satellite ==> NOUN ==> NN\n",
            "of ==> ADP ==> IN\n",
            "the ==> DET ==> DT\n",
            "earth ==> NOUN ==> NN\n",
            ". ==> PUNCT ==> .\n",
            "It ==> PRON ==> PRP\n",
            "moves ==> VERB ==> VBZ\n",
            "round ==> ADP ==> IN\n",
            "the ==> DET ==> DT\n",
            "earth ==> NOUN ==> NN\n",
            ". ==> PUNCT ==> .\n",
            "It ==> PRON ==> PRP\n",
            "shines ==> VERB ==> VBZ\n",
            "at ==> ADP ==> IN\n",
            "night ==> NOUN ==> NN\n",
            "by ==> ADP ==> IN\n",
            "light ==> NOUN ==> NN\n",
            "reflected ==> VERB ==> VBN\n",
            "from ==> ADP ==> IN\n",
            "the ==> DET ==> DT\n",
            "Sun ==> PROPN ==> NNP\n",
            ". ==> PUNCT ==> .\n",
            "It ==> PRON ==> PRP\n",
            "looks ==> VERB ==> VBZ\n",
            "beautiful ==> ADJ ==> JJ\n",
            ". ==> PUNCT ==> .\n",
            "The ==> DET ==> DT\n",
            "bright ==> ADJ ==> JJ\n",
            "Moonlight ==> PROPN ==> NNP\n",
            "is ==> AUX ==> VBZ\n",
            "very ==> ADV ==> RB\n",
            "soothing ==> ADJ ==> JJ\n",
            ". ==> PUNCT ==> .\n",
            "The ==> DET ==> DT\n",
            "earthly ==> ADJ ==> JJ\n",
            "objects ==> NOUN ==> NNS\n",
            "shine ==> VERB ==> VBP\n",
            "like ==> ADP ==> IN\n",
            "silver ==> NOUN ==> NN\n",
            "in ==> ADP ==> IN\n",
            "the ==> DET ==> DT\n",
            "moonlight ==> NOUN ==> NN\n",
            ". ==> PUNCT ==> .\n",
            "We ==> PRON ==> PRP\n",
            "are ==> AUX ==> VBP\n",
            "fascinated ==> VERB ==> VBN\n",
            "by ==> ADP ==> IN\n",
            "the ==> DET ==> DT\n",
            "enchanting ==> ADJ ==> JJ\n",
            "beauty ==> NOUN ==> NN\n",
            "of ==> ADP ==> IN\n",
            "the ==> DET ==> DT\n",
            "Moon ==> PROPN ==> NNP\n",
            ". ==> PUNCT ==> .\n",
            "The ==> DET ==> DT\n",
            "moon ==> NOUN ==> NN\n",
            "is ==> AUX ==> VBZ\n",
            "not ==> PART ==> RB\n",
            "as ==> ADV ==> RB\n",
            "beautiful ==> ADJ ==> JJ\n",
            "as ==> SCONJ ==> IN\n",
            "it ==> PRON ==> PRP\n",
            "looks ==> VERB ==> VBZ\n",
            ". ==> PUNCT ==> .\n",
            "It ==> PRON ==> PRP\n",
            "seems ==> VERB ==> VBZ\n",
            "to ==> PART ==> TO\n",
            "be ==> AUX ==> VB\n",
            "lovely ==> ADJ ==> JJ\n",
            "when ==> SCONJ ==> WRB\n",
            "it ==> PRON ==> PRP\n",
            "shines ==> VERB ==> VBZ\n",
            "in ==> ADP ==> IN\n",
            "the ==> DET ==> DT\n",
            "sky ==> NOUN ==> NN\n",
            "at ==> ADP ==> IN\n",
            "night ==> NOUN ==> NN\n",
            ". ==> PUNCT ==> .\n",
            "As ==> ADP ==> IN\n",
            "a ==> DET ==> DT\n",
            "matter ==> NOUN ==> NN\n",
            "of ==> ADP ==> IN\n",
            "fact ==> NOUN ==> NN\n",
            "it ==> PRON ==> PRP\n",
            "is ==> AUX ==> VBZ\n",
            "devoid ==> ADJ ==> JJ\n",
            "of ==> ADP ==> IN\n",
            "plants ==> NOUN ==> NNS\n",
            "and ==> CCONJ ==> CC\n",
            "animals ==> NOUN ==> NNS\n",
            ". ==> PUNCT ==> .\n",
            "The ==> DET ==> DT\n",
            "moon ==> NOUN ==> NN\n",
            "is ==> AUX ==> VBZ\n",
            "not ==> PART ==> RB\n",
            "a ==> DET ==> DT\n",
            "suitable ==> ADJ ==> JJ\n",
            "place ==> NOUN ==> NN\n",
            "for ==> ADP ==> IN\n",
            "plants ==> NOUN ==> NNS\n",
            "and ==> CCONJ ==> CC\n",
            "animals ==> NOUN ==> NNS\n",
            ". ==> PUNCT ==> .\n",
            "Therefore ==> ADV ==> RB\n",
            ", ==> PUNCT ==> ,\n",
            "no ==> DET ==> DT\n",
            "form ==> NOUN ==> NN\n",
            "of ==> ADP ==> IN\n",
            "life ==> NOUN ==> NN\n",
            "can ==> AUX ==> MD\n",
            "be ==> AUX ==> VB\n",
            "found ==> VERB ==> VBN\n",
            "on ==> ADP ==> IN\n",
            "the ==> DET ==> DT\n",
            "moon ==> NOUN ==> NN\n",
            ". ==> PUNCT ==> .\n",
            "Unlike ==> ADP ==> IN\n",
            "the ==> DET ==> DT\n",
            "earth ==> NOUN ==> NN\n",
            ", ==> PUNCT ==> ,\n",
            "the ==> DET ==> DT\n",
            "moon ==> NOUN ==> NN\n",
            "has ==> AUX ==> VBZ\n",
            "got ==> VERB ==> VBN\n",
            "no ==> DET ==> DT\n",
            "atmosphere ==> NOUN ==> NN\n",
            ". ==> PUNCT ==> .\n",
            "Therefore ==> ADV ==> RB\n",
            ", ==> PUNCT ==> ,\n",
            "the ==> DET ==> DT\n",
            "lunar ==> ADJ ==> JJ\n",
            "days ==> NOUN ==> NNS\n",
            "are ==> AUX ==> VBP\n",
            "very ==> ADV ==> RB\n",
            "hot ==> ADJ ==> JJ\n",
            "and ==> CCONJ ==> CC\n",
            "the ==> DET ==> DT\n",
            "lunar ==> ADJ ==> JJ\n",
            "nights ==> NOUN ==> NNS\n",
            "are ==> AUX ==> VBP\n",
            "intensely ==> ADV ==> RB\n",
            "cold ==> ADJ ==> JJ\n",
            ". ==> PUNCT ==> .\n",
            "The ==> DET ==> DT\n",
            "moon ==> NOUN ==> NN\n",
            "looks ==> VERB ==> VBZ\n",
            "beautiful ==> ADJ ==> JJ\n",
            "from ==> ADP ==> IN\n",
            "the ==> DET ==> DT\n",
            "earth ==> NOUN ==> NN\n",
            "but ==> CCONJ ==> CC\n",
            "in ==> ADP ==> IN\n",
            "fact ==> NOUN ==> NN\n",
            "it ==> PRON ==> PRP\n",
            "has ==> VERB ==> VBZ\n",
            "up ==> ADP ==> RP\n",
            "forbidding ==> VERB ==> VBG\n",
            "appearance ==> NOUN ==> NN\n",
            ". ==> PUNCT ==> .\n",
            "It ==> PRON ==> PRP\n",
            "is ==> AUX ==> VBZ\n",
            "full ==> ADJ ==> JJ\n",
            "of ==> ADP ==> IN\n",
            "rocks ==> NOUN ==> NNS\n",
            "and ==> CCONJ ==> CC\n",
            "craters ==> NOUN ==> NNS\n",
            ". ==> PUNCT ==> .\n",
            "When ==> SCONJ ==> WRB\n",
            "we ==> PRON ==> PRP\n",
            "look ==> VERB ==> VBP\n",
            "at ==> ADP ==> IN\n",
            "the ==> DET ==> DT\n",
            "moon ==> NOUN ==> NN\n",
            "at ==> ADP ==> IN\n",
            "night ==> NOUN ==> NN\n",
            "we ==> PRON ==> PRP\n",
            "see ==> VERB ==> VBP\n",
            "some ==> DET ==> DT\n",
            "dark ==> ADJ ==> JJ\n",
            "spots ==> NOUN ==> NNS\n",
            "on ==> ADP ==> IN\n",
            "it ==> PRON ==> PRP\n",
            ". ==> PUNCT ==> .\n",
            "These ==> DET ==> DT\n",
            "dark ==> ADJ ==> JJ\n",
            "spots ==> NOUN ==> NNS\n",
            "are ==> AUX ==> VBP\n",
            "dangerous ==> ADJ ==> JJ\n",
            "rocks ==> NOUN ==> NNS\n",
            "and ==> CCONJ ==> CC\n",
            "craters ==> NOUN ==> NNS\n",
            ". ==> PUNCT ==> .\n",
            "The ==> DET ==> DT\n",
            "gravitational ==> ADJ ==> JJ\n",
            "pull ==> NOUN ==> NN\n",
            "of ==> ADP ==> IN\n",
            "the ==> DET ==> DT\n",
            "moon ==> NOUN ==> NN\n",
            "is ==> AUX ==> VBZ\n",
            "less ==> ADJ ==> JJR\n",
            "than ==> ADP ==> IN\n",
            "that ==> PRON ==> DT\n",
            "of ==> ADP ==> IN\n",
            "the ==> DET ==> DT\n",
            "earth ==> NOUN ==> NN\n",
            ", ==> PUNCT ==> ,\n",
            "so ==> SCONJ ==> IN\n",
            "it ==> PRON ==> PRP\n",
            "is ==> AUX ==> VBZ\n",
            "difficult ==> ADJ ==> JJ\n",
            "to ==> PART ==> TO\n",
            "walk ==> VERB ==> VB\n",
            "on ==> ADP ==> IN\n",
            "the ==> DET ==> DT\n",
            "surface ==> NOUN ==> NN\n",
            "of ==> ADP ==> IN\n",
            "the ==> DET ==> DT\n",
            "Moon ==> PROPN ==> NNP\n",
            ". ==> PUNCT ==> .\n",
            "The ==> DET ==> DT\n",
            "moon ==> NOUN ==> NN\n",
            "has ==> VERB ==> VBZ\n",
            "fascinated ==> VERB ==> VBN\n",
            "man ==> NOUN ==> NN\n",
            "since ==> SCONJ ==> IN\n",
            "the ==> DET ==> DT\n",
            "beginning ==> NOUN ==> NN\n",
            "of ==> ADP ==> IN\n",
            "his ==> PRON ==> PRP$\n",
            "life ==> NOUN ==> NN\n",
            "on ==> ADP ==> IN\n",
            "the ==> DET ==> DT\n",
            "earth ==> NOUN ==> NN\n",
            ". ==> PUNCT ==> .\n",
            "He ==> PRON ==> PRP\n",
            "has ==> AUX ==> VBZ\n",
            "looked ==> VERB ==> VBN\n",
            "at ==> ADP ==> IN\n",
            "it ==> PRON ==> PRP\n",
            "with ==> ADP ==> IN\n",
            "wonder ==> NOUN ==> NN\n",
            ". ==> PUNCT ==> .\n",
            "Many ==> ADJ ==> JJ\n",
            "poets ==> NOUN ==> NNS\n",
            "have ==> AUX ==> VBP\n",
            "composed ==> VERB ==> VBN\n",
            "beautiful ==> ADJ ==> JJ\n",
            "poems ==> NOUN ==> NNS\n",
            "on ==> ADP ==> IN\n",
            "the ==> DET ==> DT\n",
            "moon ==> NOUN ==> NN\n",
            ". ==> PUNCT ==> .\n",
            "Scientists ==> NOUN ==> NNS\n",
            "tried ==> VERB ==> VBD\n",
            "to ==> PART ==> TO\n",
            "reveal ==> VERB ==> VB\n",
            "the ==> DET ==> DT\n",
            "mystery ==> NOUN ==> NN\n",
            "of ==> ADP ==> IN\n",
            "the ==> DET ==> DT\n",
            "moon ==> NOUN ==> NN\n",
            ". ==> PUNCT ==> .\n",
            "They ==> PRON ==> PRP\n",
            "wanted ==> VERB ==> VBD\n",
            "to ==> PART ==> TO\n",
            "send ==> VERB ==> VB\n",
            "human ==> NOUN ==> NN\n",
            "to ==> ADP ==> IN\n",
            "the ==> DET ==> DT\n",
            "moon ==> NOUN ==> NN\n",
            ". ==> PUNCT ==> .\n",
            "Several ==> ADJ ==> JJ\n",
            "attempts ==> NOUN ==> NNS\n",
            "were ==> AUX ==> VBD\n",
            "made ==> VERB ==> VBN\n",
            "to ==> PART ==> TO\n",
            "place ==> VERB ==> VB\n",
            "man ==> NOUN ==> NN\n",
            "on ==> ADP ==> IN\n",
            "the ==> DET ==> DT\n",
            "moon ==> NOUN ==> NN\n",
            ". ==> PUNCT ==> .\n",
            "At ==> ADP ==> IN\n",
            "last ==> ADJ ==> JJ\n",
            "two ==> NUM ==> CD\n",
            "Americans ==> PROPN ==> NNPS\n",
            "- ==> PUNCT ==> :\n",
            "Neil ==> PROPN ==> NNP\n",
            "Armstrong ==> PROPN ==> NNP\n",
            "and ==> CCONJ ==> CC\n",
            "Edwin ==> PROPN ==> NNP\n",
            "Aldrin ==> PROPN ==> NNP\n",
            "- ==> PUNCT ==> HYPH\n",
            "reached ==> VERB ==> VBD\n",
            "the ==> DET ==> DT\n",
            "moon ==> NOUN ==> NN\n",
            "on ==> ADP ==> IN\n",
            "July ==> PROPN ==> NNP\n",
            "21 ==> NUM ==> CD\n",
            ", ==> PUNCT ==> ,\n",
            "1969 ==> NUM ==> CD\n",
            ". ==> PUNCT ==> .\n",
            "They ==> PRON ==> PRP\n",
            "walked ==> VERB ==> VBD\n",
            "on ==> ADP ==> IN\n",
            "the ==> DET ==> DT\n",
            "surface ==> NOUN ==> NN\n",
            "of ==> ADP ==> IN\n",
            "the ==> DET ==> DT\n",
            "moon ==> NOUN ==> NN\n",
            "and ==> CCONJ ==> CC\n",
            "collected ==> VERB ==> VBD\n",
            "the ==> DET ==> DT\n",
            "lunar ==> ADJ ==> JJ\n",
            "rocks ==> NOUN ==> NNS\n",
            ". ==> PUNCT ==> .\n",
            "They ==> PRON ==> PRP\n",
            "returned ==> VERB ==> VBD\n",
            "to ==> ADP ==> IN\n",
            "the ==> DET ==> DT\n",
            "earth ==> NOUN ==> NN\n",
            "safely ==> ADV ==> RB\n",
            ". ==> PUNCT ==> .\n",
            "The ==> DET ==> DT\n",
            "American ==> ADJ ==> JJ\n",
            "scientists ==> NOUN ==> NNS\n",
            "have ==> AUX ==> VBP\n",
            "sent ==> VERB ==> VBN\n",
            "men ==> NOUN ==> NNS\n",
            "to ==> ADP ==> IN\n",
            "the ==> DET ==> DT\n",
            "moon ==> NOUN ==> NN\n",
            "several ==> ADJ ==> JJ\n",
            "times ==> NOUN ==> NNS\n",
            ". ==> PUNCT ==> .\n",
            "Now ==> ADV ==> RB\n",
            "the ==> DET ==> DT\n",
            "moon ==> NOUN ==> NN\n",
            "has ==> AUX ==> VBZ\n",
            "been ==> AUX ==> VBN\n",
            "conquered ==> VERB ==> VBN\n",
            "by ==> ADP ==> IN\n",
            "man ==> NOUN ==> NN\n",
            ". ==> PUNCT ==> .\n",
            "It ==> PRON ==> PRP\n",
            "is ==> AUX ==> VBZ\n",
            "no ==> ADV ==> RB\n",
            "longer ==> ADV ==> RBR\n",
            "a ==> DET ==> DT\n",
            "mysterious ==> ADJ ==> JJ\n",
            "object ==> NOUN ==> NN\n",
            ". ==> PUNCT ==> .\n",
            "The ==> DET ==> DT\n",
            "journey ==> NOUN ==> NN\n",
            "of ==> ADP ==> IN\n",
            "the ==> DET ==> DT\n",
            "moon ==> NOUN ==> NN\n",
            "may ==> AUX ==> MD\n",
            "be ==> AUX ==> VB\n",
            "thrilling ==> VERB ==> VBG\n",
            "but ==> CCONJ ==> CC\n",
            "it ==> PRON ==> PRP\n",
            "can ==> AUX ==> MD\n",
            "not ==> PART ==> RB\n",
            "make ==> VERB ==> VB\n",
            "our ==> PRON ==> PRP$\n",
            "life ==> NOUN ==> NN\n",
            "on ==> ADP ==> IN\n",
            "the ==> DET ==> DT\n",
            "earth ==> NOUN ==> NN\n",
            "happy ==> ADJ ==> JJ\n",
            ". ==> PUNCT ==> .\n",
            "It ==> PRON ==> PRP\n",
            "is ==> AUX ==> VBZ\n",
            "better ==> ADJ ==> JJR\n",
            "to ==> PART ==> TO\n",
            "have ==> VERB ==> VB\n",
            "a ==> DET ==> DT\n",
            "happy ==> ADJ ==> JJ\n",
            "life ==> NOUN ==> NN\n",
            "on ==> ADP ==> IN\n",
            "the ==> DET ==> DT\n",
            "earth ==> NOUN ==> NN\n",
            "then ==> ADV ==> RB\n",
            "to ==> PART ==> TO\n",
            "go ==> VERB ==> VB\n",
            "to ==> ADP ==> IN\n",
            "the ==> DET ==> DT\n",
            "moon ==> NOUN ==> NN\n",
            ". ==> PUNCT ==> .\n"
          ]
        }
      ]
    },
    {
      "cell_type": "code",
      "source": [
        "##counting the numbers of nouns and verbs present\n",
        "verb_list=[token.text for token in doc if(token.pos_==\"VERB\")]\n",
        "noun_list=[token.text for token in doc if(token.pos_==\"NOUN\")]\n",
        "\n",
        "print(\"The number of verbs present are : \",len(verb_list))\n",
        "print(verb_list)\n",
        "print(\"=======================\")\n",
        "\n",
        "print(\"The number of nouns present are :\",len(noun_list))\n",
        "print(noun_list)"
      ],
      "metadata": {
        "colab": {
          "base_uri": "https://localhost:8080/"
        },
        "id": "U4NK9MFczPB8",
        "outputId": "e784903b-c8ff-41ac-fc96-f302cbb48399"
      },
      "execution_count": null,
      "outputs": [
        {
          "output_type": "stream",
          "name": "stdout",
          "text": [
            "The number of verbs present are :  37\n",
            "['moves', 'shines', 'reflected', 'looks', 'shine', 'fascinated', 'looks', 'seems', 'shines', 'found', 'got', 'looks', 'has', 'forbidding', 'look', 'see', 'walk', 'has', 'fascinated', 'looked', 'composed', 'tried', 'reveal', 'wanted', 'send', 'made', 'place', 'reached', 'walked', 'collected', 'returned', 'sent', 'conquered', 'thrilling', 'make', 'have', 'go']\n",
            "=======================\n",
            "The number of nouns present are : 81\n",
            "['moon', 'satellite', 'earth', 'earth', 'night', 'light', 'objects', 'silver', 'moonlight', 'beauty', 'moon', 'sky', 'night', 'matter', 'fact', 'plants', 'animals', 'moon', 'place', 'plants', 'animals', 'form', 'life', 'moon', 'earth', 'moon', 'atmosphere', 'days', 'nights', 'moon', 'earth', 'fact', 'appearance', 'rocks', 'craters', 'moon', 'night', 'spots', 'spots', 'rocks', 'craters', 'pull', 'moon', 'earth', 'surface', 'moon', 'man', 'beginning', 'life', 'earth', 'wonder', 'poets', 'poems', 'moon', 'Scientists', 'mystery', 'moon', 'human', 'moon', 'attempts', 'man', 'moon', 'moon', 'surface', 'moon', 'rocks', 'earth', 'scientists', 'men', 'moon', 'times', 'moon', 'man', 'object', 'journey', 'moon', 'life', 'earth', 'life', 'earth', 'moon']\n"
          ]
        }
      ]
    },
    {
      "cell_type": "markdown",
      "source": [
        "## Implementing Named Entity Recognition"
      ],
      "metadata": {
        "id": "jhFiZQzO0dOr"
      }
    },
    {
      "cell_type": "code",
      "source": [
        "#loading the text\n",
        "file2=open(\"/content/switzerland.txt\",mode=\"r\")\n",
        "text=file2.read()\n",
        "text"
      ],
      "metadata": {
        "colab": {
          "base_uri": "https://localhost:8080/",
          "height": 140
        },
        "id": "u7zgWM5w0K38",
        "outputId": "2a050b78-5f43-4050-df74-4df103508f20"
      },
      "execution_count": null,
      "outputs": [
        {
          "output_type": "execute_result",
          "data": {
            "text/plain": [
              "\"Switzerland, officially the Swiss Confederation, is a country situated in the confluence of Western, Central, and Southern Europe. It is a federal republic composed of 26 cantons, with federal authorities based in Bern. Switzerland is a landlocked country bordered by Italy to the south, France to the west, Germany to the north, and Austria and Liechtenstein to the east. It is geographically divided among the Swiss Plateau, the Alps, and the Jura, spanning a total area of 41,285 km2 (15,940 sq mi), and land area of 39,997 km2 (15,443 sq mi). While the Alps occupy the greater part of the territory, the Swiss population of approximately 8.5 million is concentrated mostly on the plateau, where the largest cities and economic centres are located, among them Zürich, Geneva and Basel, where multiple international organisations are domiciled (such as FIFA, the UN's second-largest Office, and the Bank for International Settlements) and where the main international airports of Switzerland are.\\n\""
            ],
            "application/vnd.google.colaboratory.intrinsic+json": {
              "type": "string"
            }
          },
          "metadata": {},
          "execution_count": 19
        }
      ]
    },
    {
      "cell_type": "code",
      "source": [
        "## creating doc object\n",
        "doc=nlp(text)"
      ],
      "metadata": {
        "id": "imfD5BCD2ibd"
      },
      "execution_count": null,
      "outputs": []
    },
    {
      "cell_type": "code",
      "source": [
        "## getting the named entities\n",
        "for entity in doc.ents:\n",
        "  print(entity.text,\"==\",entity.start_char,\"==\",entity.end_char,\"==\",entity.label_)"
      ],
      "metadata": {
        "colab": {
          "base_uri": "https://localhost:8080/"
        },
        "id": "wzITWaBf1Rbc",
        "outputId": "b7056b38-8de6-4cce-e7bc-bdfb1efd8d71"
      },
      "execution_count": null,
      "outputs": [
        {
          "output_type": "stream",
          "name": "stdout",
          "text": [
            "Switzerland == 0 == 11 == GPE\n",
            "the Swiss Confederation == 24 == 47 == ORG\n",
            "Western == 92 == 99 == NORP\n",
            "Central == 101 == 108 == ORG\n",
            "Southern Europe == 114 == 129 == LOC\n",
            "26 == 168 == 170 == CARDINAL\n",
            "Bern == 214 == 218 == GPE\n",
            "Switzerland == 220 == 231 == GPE\n",
            "Italy == 268 == 273 == GPE\n",
            "France == 288 == 294 == GPE\n",
            "Germany == 308 == 315 == GPE\n",
            "Austria == 334 == 341 == GPE\n",
            "Liechtenstein == 346 == 359 == PERSON\n",
            "the Swiss Plateau == 408 == 425 == GPE\n",
            "Alps == 431 == 435 == LOC\n",
            "Jura == 445 == 449 == PERSON\n",
            "41,285 == 476 == 482 == CARDINAL\n",
            "15,940 sq mi == 488 == 500 == QUANTITY\n",
            "39,997 == 520 == 526 == CARDINAL\n",
            "15,443 sq mi == 532 == 544 == QUANTITY\n",
            "Alps == 557 == 561 == LOC\n",
            "Swiss == 608 == 613 == NORP\n",
            "approximately 8.5 million == 628 == 653 == CARDINAL\n",
            "Zürich == 763 == 769 == GPE\n",
            "Geneva == 771 == 777 == GPE\n",
            "Basel == 782 == 787 == GPE\n",
            "FIFA == 855 == 859 == ORG\n",
            "UN == 865 == 867 == ORG\n",
            "second == 870 == 876 == ORDINAL\n",
            "the Bank for International Settlements == 897 == 935 == ORG\n",
            "Switzerland == 982 == 993 == GPE\n"
          ]
        }
      ]
    },
    {
      "cell_type": "code",
      "source": [
        "## displaying the entities\n",
        "displacy.render(doc,style=\"ent\",jupyter=True)"
      ],
      "metadata": {
        "colab": {
          "base_uri": "https://localhost:8080/",
          "height": 317
        },
        "id": "0UH7Jxkf2KSb",
        "outputId": "dda10e58-ad41-4e36-cffa-268f22a518ed"
      },
      "execution_count": null,
      "outputs": [
        {
          "output_type": "display_data",
          "data": {
            "text/plain": [
              "<IPython.core.display.HTML object>"
            ],
            "text/html": [
              "<span class=\"tex2jax_ignore\"><div class=\"entities\" style=\"line-height: 2.5; direction: ltr\">\n",
              "<mark class=\"entity\" style=\"background: #feca74; padding: 0.45em 0.6em; margin: 0 0.25em; line-height: 1; border-radius: 0.35em;\">\n",
              "    Switzerland\n",
              "    <span style=\"font-size: 0.8em; font-weight: bold; line-height: 1; border-radius: 0.35em; vertical-align: middle; margin-left: 0.5rem\">GPE</span>\n",
              "</mark>\n",
              ", officially \n",
              "<mark class=\"entity\" style=\"background: #7aecec; padding: 0.45em 0.6em; margin: 0 0.25em; line-height: 1; border-radius: 0.35em;\">\n",
              "    the Swiss Confederation\n",
              "    <span style=\"font-size: 0.8em; font-weight: bold; line-height: 1; border-radius: 0.35em; vertical-align: middle; margin-left: 0.5rem\">ORG</span>\n",
              "</mark>\n",
              ", is a country situated in the confluence of \n",
              "<mark class=\"entity\" style=\"background: #c887fb; padding: 0.45em 0.6em; margin: 0 0.25em; line-height: 1; border-radius: 0.35em;\">\n",
              "    Western\n",
              "    <span style=\"font-size: 0.8em; font-weight: bold; line-height: 1; border-radius: 0.35em; vertical-align: middle; margin-left: 0.5rem\">NORP</span>\n",
              "</mark>\n",
              ", \n",
              "<mark class=\"entity\" style=\"background: #7aecec; padding: 0.45em 0.6em; margin: 0 0.25em; line-height: 1; border-radius: 0.35em;\">\n",
              "    Central\n",
              "    <span style=\"font-size: 0.8em; font-weight: bold; line-height: 1; border-radius: 0.35em; vertical-align: middle; margin-left: 0.5rem\">ORG</span>\n",
              "</mark>\n",
              ", and \n",
              "<mark class=\"entity\" style=\"background: #ff9561; padding: 0.45em 0.6em; margin: 0 0.25em; line-height: 1; border-radius: 0.35em;\">\n",
              "    Southern Europe\n",
              "    <span style=\"font-size: 0.8em; font-weight: bold; line-height: 1; border-radius: 0.35em; vertical-align: middle; margin-left: 0.5rem\">LOC</span>\n",
              "</mark>\n",
              ". It is a federal republic composed of \n",
              "<mark class=\"entity\" style=\"background: #e4e7d2; padding: 0.45em 0.6em; margin: 0 0.25em; line-height: 1; border-radius: 0.35em;\">\n",
              "    26\n",
              "    <span style=\"font-size: 0.8em; font-weight: bold; line-height: 1; border-radius: 0.35em; vertical-align: middle; margin-left: 0.5rem\">CARDINAL</span>\n",
              "</mark>\n",
              " cantons, with federal authorities based in \n",
              "<mark class=\"entity\" style=\"background: #feca74; padding: 0.45em 0.6em; margin: 0 0.25em; line-height: 1; border-radius: 0.35em;\">\n",
              "    Bern\n",
              "    <span style=\"font-size: 0.8em; font-weight: bold; line-height: 1; border-radius: 0.35em; vertical-align: middle; margin-left: 0.5rem\">GPE</span>\n",
              "</mark>\n",
              ". \n",
              "<mark class=\"entity\" style=\"background: #feca74; padding: 0.45em 0.6em; margin: 0 0.25em; line-height: 1; border-radius: 0.35em;\">\n",
              "    Switzerland\n",
              "    <span style=\"font-size: 0.8em; font-weight: bold; line-height: 1; border-radius: 0.35em; vertical-align: middle; margin-left: 0.5rem\">GPE</span>\n",
              "</mark>\n",
              " is a landlocked country bordered by \n",
              "<mark class=\"entity\" style=\"background: #feca74; padding: 0.45em 0.6em; margin: 0 0.25em; line-height: 1; border-radius: 0.35em;\">\n",
              "    Italy\n",
              "    <span style=\"font-size: 0.8em; font-weight: bold; line-height: 1; border-radius: 0.35em; vertical-align: middle; margin-left: 0.5rem\">GPE</span>\n",
              "</mark>\n",
              " to the south, \n",
              "<mark class=\"entity\" style=\"background: #feca74; padding: 0.45em 0.6em; margin: 0 0.25em; line-height: 1; border-radius: 0.35em;\">\n",
              "    France\n",
              "    <span style=\"font-size: 0.8em; font-weight: bold; line-height: 1; border-radius: 0.35em; vertical-align: middle; margin-left: 0.5rem\">GPE</span>\n",
              "</mark>\n",
              " to the west, \n",
              "<mark class=\"entity\" style=\"background: #feca74; padding: 0.45em 0.6em; margin: 0 0.25em; line-height: 1; border-radius: 0.35em;\">\n",
              "    Germany\n",
              "    <span style=\"font-size: 0.8em; font-weight: bold; line-height: 1; border-radius: 0.35em; vertical-align: middle; margin-left: 0.5rem\">GPE</span>\n",
              "</mark>\n",
              " to the north, and \n",
              "<mark class=\"entity\" style=\"background: #feca74; padding: 0.45em 0.6em; margin: 0 0.25em; line-height: 1; border-radius: 0.35em;\">\n",
              "    Austria\n",
              "    <span style=\"font-size: 0.8em; font-weight: bold; line-height: 1; border-radius: 0.35em; vertical-align: middle; margin-left: 0.5rem\">GPE</span>\n",
              "</mark>\n",
              " and \n",
              "<mark class=\"entity\" style=\"background: #aa9cfc; padding: 0.45em 0.6em; margin: 0 0.25em; line-height: 1; border-radius: 0.35em;\">\n",
              "    Liechtenstein\n",
              "    <span style=\"font-size: 0.8em; font-weight: bold; line-height: 1; border-radius: 0.35em; vertical-align: middle; margin-left: 0.5rem\">PERSON</span>\n",
              "</mark>\n",
              " to the east. It is geographically divided among \n",
              "<mark class=\"entity\" style=\"background: #feca74; padding: 0.45em 0.6em; margin: 0 0.25em; line-height: 1; border-radius: 0.35em;\">\n",
              "    the Swiss Plateau\n",
              "    <span style=\"font-size: 0.8em; font-weight: bold; line-height: 1; border-radius: 0.35em; vertical-align: middle; margin-left: 0.5rem\">GPE</span>\n",
              "</mark>\n",
              ", the \n",
              "<mark class=\"entity\" style=\"background: #ff9561; padding: 0.45em 0.6em; margin: 0 0.25em; line-height: 1; border-radius: 0.35em;\">\n",
              "    Alps\n",
              "    <span style=\"font-size: 0.8em; font-weight: bold; line-height: 1; border-radius: 0.35em; vertical-align: middle; margin-left: 0.5rem\">LOC</span>\n",
              "</mark>\n",
              ", and the \n",
              "<mark class=\"entity\" style=\"background: #aa9cfc; padding: 0.45em 0.6em; margin: 0 0.25em; line-height: 1; border-radius: 0.35em;\">\n",
              "    Jura\n",
              "    <span style=\"font-size: 0.8em; font-weight: bold; line-height: 1; border-radius: 0.35em; vertical-align: middle; margin-left: 0.5rem\">PERSON</span>\n",
              "</mark>\n",
              ", spanning a total area of \n",
              "<mark class=\"entity\" style=\"background: #e4e7d2; padding: 0.45em 0.6em; margin: 0 0.25em; line-height: 1; border-radius: 0.35em;\">\n",
              "    41,285\n",
              "    <span style=\"font-size: 0.8em; font-weight: bold; line-height: 1; border-radius: 0.35em; vertical-align: middle; margin-left: 0.5rem\">CARDINAL</span>\n",
              "</mark>\n",
              " km2 (\n",
              "<mark class=\"entity\" style=\"background: #e4e7d2; padding: 0.45em 0.6em; margin: 0 0.25em; line-height: 1; border-radius: 0.35em;\">\n",
              "    15,940 sq mi\n",
              "    <span style=\"font-size: 0.8em; font-weight: bold; line-height: 1; border-radius: 0.35em; vertical-align: middle; margin-left: 0.5rem\">QUANTITY</span>\n",
              "</mark>\n",
              "), and land area of \n",
              "<mark class=\"entity\" style=\"background: #e4e7d2; padding: 0.45em 0.6em; margin: 0 0.25em; line-height: 1; border-radius: 0.35em;\">\n",
              "    39,997\n",
              "    <span style=\"font-size: 0.8em; font-weight: bold; line-height: 1; border-radius: 0.35em; vertical-align: middle; margin-left: 0.5rem\">CARDINAL</span>\n",
              "</mark>\n",
              " km2 (\n",
              "<mark class=\"entity\" style=\"background: #e4e7d2; padding: 0.45em 0.6em; margin: 0 0.25em; line-height: 1; border-radius: 0.35em;\">\n",
              "    15,443 sq mi\n",
              "    <span style=\"font-size: 0.8em; font-weight: bold; line-height: 1; border-radius: 0.35em; vertical-align: middle; margin-left: 0.5rem\">QUANTITY</span>\n",
              "</mark>\n",
              "). While the \n",
              "<mark class=\"entity\" style=\"background: #ff9561; padding: 0.45em 0.6em; margin: 0 0.25em; line-height: 1; border-radius: 0.35em;\">\n",
              "    Alps\n",
              "    <span style=\"font-size: 0.8em; font-weight: bold; line-height: 1; border-radius: 0.35em; vertical-align: middle; margin-left: 0.5rem\">LOC</span>\n",
              "</mark>\n",
              " occupy the greater part of the territory, the \n",
              "<mark class=\"entity\" style=\"background: #c887fb; padding: 0.45em 0.6em; margin: 0 0.25em; line-height: 1; border-radius: 0.35em;\">\n",
              "    Swiss\n",
              "    <span style=\"font-size: 0.8em; font-weight: bold; line-height: 1; border-radius: 0.35em; vertical-align: middle; margin-left: 0.5rem\">NORP</span>\n",
              "</mark>\n",
              " population of \n",
              "<mark class=\"entity\" style=\"background: #e4e7d2; padding: 0.45em 0.6em; margin: 0 0.25em; line-height: 1; border-radius: 0.35em;\">\n",
              "    approximately 8.5 million\n",
              "    <span style=\"font-size: 0.8em; font-weight: bold; line-height: 1; border-radius: 0.35em; vertical-align: middle; margin-left: 0.5rem\">CARDINAL</span>\n",
              "</mark>\n",
              " is concentrated mostly on the plateau, where the largest cities and economic centres are located, among them \n",
              "<mark class=\"entity\" style=\"background: #feca74; padding: 0.45em 0.6em; margin: 0 0.25em; line-height: 1; border-radius: 0.35em;\">\n",
              "    Zürich\n",
              "    <span style=\"font-size: 0.8em; font-weight: bold; line-height: 1; border-radius: 0.35em; vertical-align: middle; margin-left: 0.5rem\">GPE</span>\n",
              "</mark>\n",
              ", \n",
              "<mark class=\"entity\" style=\"background: #feca74; padding: 0.45em 0.6em; margin: 0 0.25em; line-height: 1; border-radius: 0.35em;\">\n",
              "    Geneva\n",
              "    <span style=\"font-size: 0.8em; font-weight: bold; line-height: 1; border-radius: 0.35em; vertical-align: middle; margin-left: 0.5rem\">GPE</span>\n",
              "</mark>\n",
              " and \n",
              "<mark class=\"entity\" style=\"background: #feca74; padding: 0.45em 0.6em; margin: 0 0.25em; line-height: 1; border-radius: 0.35em;\">\n",
              "    Basel\n",
              "    <span style=\"font-size: 0.8em; font-weight: bold; line-height: 1; border-radius: 0.35em; vertical-align: middle; margin-left: 0.5rem\">GPE</span>\n",
              "</mark>\n",
              ", where multiple international organisations are domiciled (such as \n",
              "<mark class=\"entity\" style=\"background: #7aecec; padding: 0.45em 0.6em; margin: 0 0.25em; line-height: 1; border-radius: 0.35em;\">\n",
              "    FIFA\n",
              "    <span style=\"font-size: 0.8em; font-weight: bold; line-height: 1; border-radius: 0.35em; vertical-align: middle; margin-left: 0.5rem\">ORG</span>\n",
              "</mark>\n",
              ", the \n",
              "<mark class=\"entity\" style=\"background: #7aecec; padding: 0.45em 0.6em; margin: 0 0.25em; line-height: 1; border-radius: 0.35em;\">\n",
              "    UN\n",
              "    <span style=\"font-size: 0.8em; font-weight: bold; line-height: 1; border-radius: 0.35em; vertical-align: middle; margin-left: 0.5rem\">ORG</span>\n",
              "</mark>\n",
              "'s \n",
              "<mark class=\"entity\" style=\"background: #e4e7d2; padding: 0.45em 0.6em; margin: 0 0.25em; line-height: 1; border-radius: 0.35em;\">\n",
              "    second\n",
              "    <span style=\"font-size: 0.8em; font-weight: bold; line-height: 1; border-radius: 0.35em; vertical-align: middle; margin-left: 0.5rem\">ORDINAL</span>\n",
              "</mark>\n",
              "-largest Office, and \n",
              "<mark class=\"entity\" style=\"background: #7aecec; padding: 0.45em 0.6em; margin: 0 0.25em; line-height: 1; border-radius: 0.35em;\">\n",
              "    the Bank for International Settlements\n",
              "    <span style=\"font-size: 0.8em; font-weight: bold; line-height: 1; border-radius: 0.35em; vertical-align: middle; margin-left: 0.5rem\">ORG</span>\n",
              "</mark>\n",
              ") and where the main international airports of \n",
              "<mark class=\"entity\" style=\"background: #feca74; padding: 0.45em 0.6em; margin: 0 0.25em; line-height: 1; border-radius: 0.35em;\">\n",
              "    Switzerland\n",
              "    <span style=\"font-size: 0.8em; font-weight: bold; line-height: 1; border-radius: 0.35em; vertical-align: middle; margin-left: 0.5rem\">GPE</span>\n",
              "</mark>\n",
              " are.<br></div></span>"
            ]
          },
          "metadata": {}
        }
      ]
    },
    {
      "cell_type": "code",
      "source": [
        "##reading another file and performing named entity recognition\n",
        "file3=open(\"/content/usa.txt\",mode=\"r\")\n",
        "text=file3.read()\n",
        "text"
      ],
      "metadata": {
        "colab": {
          "base_uri": "https://localhost:8080/",
          "height": 418
        },
        "id": "vH6HSwmh2a0v",
        "outputId": "a6864182-cffb-43da-e6df-92c0b90dae38"
      },
      "execution_count": null,
      "outputs": [
        {
          "output_type": "execute_result",
          "data": {
            "text/plain": [
              "\"The United States of America (USA), commonly known as the United States (U.S. or US) or America, is a country mostly located in central North America, between Canada and Mexico. It consists of 50 states, a federal district, five major self-governing territories, and various possessions. At 3.8 million square miles (9.8 million square kilometres), it is the world's third- or fourth-largest country by total area. With a population of 328 million as of 2019, it is the third most populous country in the world. The capital is Washington, D.C., and the most populous city is New York City.\\n\\nPaleo-Indians migrated from Siberia to the North American mainland at least 12,000 years ago, and European colonization began in the 16th century. The United States emerged from the thirteen British colonies established along the East Coast. Disputes with Great Britain led to the American Revolutionary War (1775–1783), which established independence. In the late 18th century, the U.S. began vigorously expanding across North America, gradually acquiring new territories, often times killing and displacing Native Americans, and admitting new states; by 1848, the United States spanned the continent. Slavery was legal in the southern United States until the second half of the 19th century, when the American Civil War led to its abolition. The Spanish–American War and World War I established the U.S. as a world power, a status confirmed by the outcome of World War II. During the Cold War, the United States and the Soviet Union engaged in various proxy wars, but avoided direct military conflict. They also competed in the Space Race, culminating in the 1969 spaceflight that first landed humans on the Moon. The collapse of the Soviet Union in 1991 ended the Cold War and left the United States as the world's sole superpower.\\n\\nThe United States is a federal republic and a representative democracy, with three branches of government and a bicameral legislature. It is a founding member of the United Nations, World Bank, International Monetary Fund, Organization of American States (OAS), NATO, and other international organizations. It is a permanent member of the United Nations Security Council. The U.S. ranks high in international measures of economic freedom, government corruption, quality of life, and quality of higher education. Despite income and wealth disparities, the United States continues to rank high in measures of socioeconomic performance. It is one of the most racially and ethnically diverse nations and its population has been shaped through centuries of immigration. A highly developed country, the United States is the world's largest economy and accounts for approximately a quarter of global gross domestic product (GDP). By value, the United States is the world's largest importer and the second-largest exporter of goods. Although its population is only 4.3% of the world total, it holds 29.4% of the total wealth in the world, the largest share held by any country. It is the foremost military power in the world, making up more than a third of global military spending, and is a leading political, cultural, and scientific force internationally.\\n\""
            ],
            "application/vnd.google.colaboratory.intrinsic+json": {
              "type": "string"
            }
          },
          "metadata": {},
          "execution_count": 23
        }
      ]
    },
    {
      "cell_type": "code",
      "source": [
        "## creating doc object\n",
        "doc=nlp(text)\n",
        "\n",
        "## getting named entities\n",
        "for entity in doc.ents:\n",
        "  print(entity.text,\"==\",entity.start_char,\"==\",entity.end_char,\"==\",entity.label_)"
      ],
      "metadata": {
        "colab": {
          "base_uri": "https://localhost:8080/"
        },
        "id": "Uk6JXCq33Mi4",
        "outputId": "afb6e78b-7aba-4d5d-c929-89c8095471a1"
      },
      "execution_count": null,
      "outputs": [
        {
          "output_type": "stream",
          "name": "stdout",
          "text": [
            "The United States of America == 0 == 28 == GPE\n",
            "USA == 30 == 33 == GPE\n",
            "the United States == 54 == 71 == GPE\n",
            "U.S. == 73 == 77 == GPE\n",
            "US == 81 == 83 == GPE\n",
            "America == 88 == 95 == GPE\n",
            "North America == 136 == 149 == LOC\n",
            "Canada == 159 == 165 == GPE\n",
            "Mexico == 170 == 176 == GPE\n",
            "50 == 193 == 195 == CARDINAL\n",
            "five == 224 == 228 == CARDINAL\n",
            "3.8 million square miles == 291 == 315 == QUANTITY\n",
            "9.8 million square kilometres == 317 == 346 == QUANTITY\n",
            "fourth == 377 == 383 == ORDINAL\n",
            "328 million == 436 == 447 == CARDINAL\n",
            "2019 == 454 == 458 == DATE\n",
            "third == 470 == 475 == ORDINAL\n",
            "Washington == 527 == 537 == GPE\n",
            "D.C. == 539 == 543 == GPE\n",
            "New York City == 575 == 588 == GPE\n",
            "Paleo-Indians == 591 == 604 == NORP\n",
            "Siberia == 619 == 626 == LOC\n",
            "North American == 634 == 648 == NORP\n",
            "at least 12,000 years ago == 658 == 683 == DATE\n",
            "European == 689 == 697 == NORP\n",
            "the 16th century == 720 == 736 == DATE\n",
            "The United States == 738 == 755 == GPE\n",
            "thirteen == 773 == 781 == CARDINAL\n",
            "British == 782 == 789 == NORP\n",
            "the East Coast == 817 == 831 == LOC\n",
            "Great Britain == 847 == 860 == GPE\n",
            "the American Revolutionary War == 868 == 898 == ORG\n",
            "the late 18th century == 947 == 968 == DATE\n",
            "U.S. == 974 == 978 == GPE\n",
            "North America == 1013 == 1026 == LOC\n",
            "Native Americans == 1100 == 1116 == NORP\n",
            "1848 == 1147 == 1151 == DATE\n",
            "the United States == 1153 == 1170 == GPE\n",
            "United States == 1228 == 1241 == GPE\n",
            "the second half of the 19th century == 1248 == 1283 == DATE\n",
            "the American Civil War == 1290 == 1312 == ORG\n",
            "Spanish == 1339 == 1346 == NORP\n",
            "World War == 1364 == 1373 == EVENT\n",
            "U.S. == 1392 == 1396 == GPE\n",
            "World War II == 1452 == 1464 == EVENT\n",
            "the Cold War == 1473 == 1485 == EVENT\n",
            "the United States == 1487 == 1504 == GPE\n",
            "the Soviet Union == 1509 == 1525 == GPE\n",
            "the Space Race == 1617 == 1631 == FAC\n",
            "1969 == 1652 == 1656 == DATE\n",
            "first == 1674 == 1679 == ORDINAL\n",
            "the Soviet Union == 1723 == 1739 == GPE\n",
            "1991 == 1743 == 1747 == DATE\n",
            "the Cold War == 1754 == 1766 == EVENT\n",
            "the United States == 1776 == 1793 == GPE\n",
            "The United States == 1827 == 1844 == GPE\n",
            "three == 1904 == 1909 == CARDINAL\n",
            "the United Nations == 1989 == 2007 == ORG\n",
            "World Bank == 2009 == 2019 == ORG\n",
            "International Monetary Fund == 2021 == 2048 == ORG\n",
            "Organization of American States == 2050 == 2081 == ORG\n",
            "OAS == 2083 == 2086 == ORG\n",
            "NATO == 2089 == 2093 == ORG\n",
            "the United Nations Security Council == 2162 == 2197 == ORG\n",
            "U.S. == 2203 == 2207 == GPE\n",
            "the United States == 2378 == 2395 == GPE\n",
            "the United States == 2620 == 2637 == GPE\n",
            "approximately a quarter == 2686 == 2709 == DATE\n",
            "the United States == 2760 == 2777 == GPE\n",
            "second == 2818 == 2824 == ORDINAL\n",
            "only 4.3% == 2879 == 2888 == PERCENT\n",
            "29.4% == 2918 == 2923 == PERCENT\n",
            "more than a third == 3055 == 3072 == CARDINAL\n"
          ]
        }
      ]
    },
    {
      "cell_type": "code",
      "source": [
        "displacy.render(doc,style=\"ent\",jupyter=True)"
      ],
      "metadata": {
        "colab": {
          "base_uri": "https://localhost:8080/",
          "height": 947
        },
        "id": "4TGpF9Kx3qdH",
        "outputId": "4a02ad83-caa1-49e9-a25c-fdb19d7dfb25"
      },
      "execution_count": null,
      "outputs": [
        {
          "output_type": "display_data",
          "data": {
            "text/plain": [
              "<IPython.core.display.HTML object>"
            ],
            "text/html": [
              "<span class=\"tex2jax_ignore\"><div class=\"entities\" style=\"line-height: 2.5; direction: ltr\">\n",
              "<mark class=\"entity\" style=\"background: #feca74; padding: 0.45em 0.6em; margin: 0 0.25em; line-height: 1; border-radius: 0.35em;\">\n",
              "    The United States of America\n",
              "    <span style=\"font-size: 0.8em; font-weight: bold; line-height: 1; border-radius: 0.35em; vertical-align: middle; margin-left: 0.5rem\">GPE</span>\n",
              "</mark>\n",
              " (\n",
              "<mark class=\"entity\" style=\"background: #feca74; padding: 0.45em 0.6em; margin: 0 0.25em; line-height: 1; border-radius: 0.35em;\">\n",
              "    USA\n",
              "    <span style=\"font-size: 0.8em; font-weight: bold; line-height: 1; border-radius: 0.35em; vertical-align: middle; margin-left: 0.5rem\">GPE</span>\n",
              "</mark>\n",
              "), commonly known as \n",
              "<mark class=\"entity\" style=\"background: #feca74; padding: 0.45em 0.6em; margin: 0 0.25em; line-height: 1; border-radius: 0.35em;\">\n",
              "    the United States\n",
              "    <span style=\"font-size: 0.8em; font-weight: bold; line-height: 1; border-radius: 0.35em; vertical-align: middle; margin-left: 0.5rem\">GPE</span>\n",
              "</mark>\n",
              " (\n",
              "<mark class=\"entity\" style=\"background: #feca74; padding: 0.45em 0.6em; margin: 0 0.25em; line-height: 1; border-radius: 0.35em;\">\n",
              "    U.S.\n",
              "    <span style=\"font-size: 0.8em; font-weight: bold; line-height: 1; border-radius: 0.35em; vertical-align: middle; margin-left: 0.5rem\">GPE</span>\n",
              "</mark>\n",
              " or \n",
              "<mark class=\"entity\" style=\"background: #feca74; padding: 0.45em 0.6em; margin: 0 0.25em; line-height: 1; border-radius: 0.35em;\">\n",
              "    US\n",
              "    <span style=\"font-size: 0.8em; font-weight: bold; line-height: 1; border-radius: 0.35em; vertical-align: middle; margin-left: 0.5rem\">GPE</span>\n",
              "</mark>\n",
              ") or \n",
              "<mark class=\"entity\" style=\"background: #feca74; padding: 0.45em 0.6em; margin: 0 0.25em; line-height: 1; border-radius: 0.35em;\">\n",
              "    America\n",
              "    <span style=\"font-size: 0.8em; font-weight: bold; line-height: 1; border-radius: 0.35em; vertical-align: middle; margin-left: 0.5rem\">GPE</span>\n",
              "</mark>\n",
              ", is a country mostly located in central \n",
              "<mark class=\"entity\" style=\"background: #ff9561; padding: 0.45em 0.6em; margin: 0 0.25em; line-height: 1; border-radius: 0.35em;\">\n",
              "    North America\n",
              "    <span style=\"font-size: 0.8em; font-weight: bold; line-height: 1; border-radius: 0.35em; vertical-align: middle; margin-left: 0.5rem\">LOC</span>\n",
              "</mark>\n",
              ", between \n",
              "<mark class=\"entity\" style=\"background: #feca74; padding: 0.45em 0.6em; margin: 0 0.25em; line-height: 1; border-radius: 0.35em;\">\n",
              "    Canada\n",
              "    <span style=\"font-size: 0.8em; font-weight: bold; line-height: 1; border-radius: 0.35em; vertical-align: middle; margin-left: 0.5rem\">GPE</span>\n",
              "</mark>\n",
              " and \n",
              "<mark class=\"entity\" style=\"background: #feca74; padding: 0.45em 0.6em; margin: 0 0.25em; line-height: 1; border-radius: 0.35em;\">\n",
              "    Mexico\n",
              "    <span style=\"font-size: 0.8em; font-weight: bold; line-height: 1; border-radius: 0.35em; vertical-align: middle; margin-left: 0.5rem\">GPE</span>\n",
              "</mark>\n",
              ". It consists of \n",
              "<mark class=\"entity\" style=\"background: #e4e7d2; padding: 0.45em 0.6em; margin: 0 0.25em; line-height: 1; border-radius: 0.35em;\">\n",
              "    50\n",
              "    <span style=\"font-size: 0.8em; font-weight: bold; line-height: 1; border-radius: 0.35em; vertical-align: middle; margin-left: 0.5rem\">CARDINAL</span>\n",
              "</mark>\n",
              " states, a federal district, \n",
              "<mark class=\"entity\" style=\"background: #e4e7d2; padding: 0.45em 0.6em; margin: 0 0.25em; line-height: 1; border-radius: 0.35em;\">\n",
              "    five\n",
              "    <span style=\"font-size: 0.8em; font-weight: bold; line-height: 1; border-radius: 0.35em; vertical-align: middle; margin-left: 0.5rem\">CARDINAL</span>\n",
              "</mark>\n",
              " major self-governing territories, and various possessions. At \n",
              "<mark class=\"entity\" style=\"background: #e4e7d2; padding: 0.45em 0.6em; margin: 0 0.25em; line-height: 1; border-radius: 0.35em;\">\n",
              "    3.8 million square miles\n",
              "    <span style=\"font-size: 0.8em; font-weight: bold; line-height: 1; border-radius: 0.35em; vertical-align: middle; margin-left: 0.5rem\">QUANTITY</span>\n",
              "</mark>\n",
              " (\n",
              "<mark class=\"entity\" style=\"background: #e4e7d2; padding: 0.45em 0.6em; margin: 0 0.25em; line-height: 1; border-radius: 0.35em;\">\n",
              "    9.8 million square kilometres\n",
              "    <span style=\"font-size: 0.8em; font-weight: bold; line-height: 1; border-radius: 0.35em; vertical-align: middle; margin-left: 0.5rem\">QUANTITY</span>\n",
              "</mark>\n",
              "), it is the world's third- or \n",
              "<mark class=\"entity\" style=\"background: #e4e7d2; padding: 0.45em 0.6em; margin: 0 0.25em; line-height: 1; border-radius: 0.35em;\">\n",
              "    fourth\n",
              "    <span style=\"font-size: 0.8em; font-weight: bold; line-height: 1; border-radius: 0.35em; vertical-align: middle; margin-left: 0.5rem\">ORDINAL</span>\n",
              "</mark>\n",
              "-largest country by total area. With a population of \n",
              "<mark class=\"entity\" style=\"background: #e4e7d2; padding: 0.45em 0.6em; margin: 0 0.25em; line-height: 1; border-radius: 0.35em;\">\n",
              "    328 million\n",
              "    <span style=\"font-size: 0.8em; font-weight: bold; line-height: 1; border-radius: 0.35em; vertical-align: middle; margin-left: 0.5rem\">CARDINAL</span>\n",
              "</mark>\n",
              " as of \n",
              "<mark class=\"entity\" style=\"background: #bfe1d9; padding: 0.45em 0.6em; margin: 0 0.25em; line-height: 1; border-radius: 0.35em;\">\n",
              "    2019\n",
              "    <span style=\"font-size: 0.8em; font-weight: bold; line-height: 1; border-radius: 0.35em; vertical-align: middle; margin-left: 0.5rem\">DATE</span>\n",
              "</mark>\n",
              ", it is the \n",
              "<mark class=\"entity\" style=\"background: #e4e7d2; padding: 0.45em 0.6em; margin: 0 0.25em; line-height: 1; border-radius: 0.35em;\">\n",
              "    third\n",
              "    <span style=\"font-size: 0.8em; font-weight: bold; line-height: 1; border-radius: 0.35em; vertical-align: middle; margin-left: 0.5rem\">ORDINAL</span>\n",
              "</mark>\n",
              " most populous country in the world. The capital is \n",
              "<mark class=\"entity\" style=\"background: #feca74; padding: 0.45em 0.6em; margin: 0 0.25em; line-height: 1; border-radius: 0.35em;\">\n",
              "    Washington\n",
              "    <span style=\"font-size: 0.8em; font-weight: bold; line-height: 1; border-radius: 0.35em; vertical-align: middle; margin-left: 0.5rem\">GPE</span>\n",
              "</mark>\n",
              ", \n",
              "<mark class=\"entity\" style=\"background: #feca74; padding: 0.45em 0.6em; margin: 0 0.25em; line-height: 1; border-radius: 0.35em;\">\n",
              "    D.C.\n",
              "    <span style=\"font-size: 0.8em; font-weight: bold; line-height: 1; border-radius: 0.35em; vertical-align: middle; margin-left: 0.5rem\">GPE</span>\n",
              "</mark>\n",
              ", and the most populous city is \n",
              "<mark class=\"entity\" style=\"background: #feca74; padding: 0.45em 0.6em; margin: 0 0.25em; line-height: 1; border-radius: 0.35em;\">\n",
              "    New York City\n",
              "    <span style=\"font-size: 0.8em; font-weight: bold; line-height: 1; border-radius: 0.35em; vertical-align: middle; margin-left: 0.5rem\">GPE</span>\n",
              "</mark>\n",
              ".<br><br>\n",
              "<mark class=\"entity\" style=\"background: #c887fb; padding: 0.45em 0.6em; margin: 0 0.25em; line-height: 1; border-radius: 0.35em;\">\n",
              "    Paleo-Indians\n",
              "    <span style=\"font-size: 0.8em; font-weight: bold; line-height: 1; border-radius: 0.35em; vertical-align: middle; margin-left: 0.5rem\">NORP</span>\n",
              "</mark>\n",
              " migrated from \n",
              "<mark class=\"entity\" style=\"background: #ff9561; padding: 0.45em 0.6em; margin: 0 0.25em; line-height: 1; border-radius: 0.35em;\">\n",
              "    Siberia\n",
              "    <span style=\"font-size: 0.8em; font-weight: bold; line-height: 1; border-radius: 0.35em; vertical-align: middle; margin-left: 0.5rem\">LOC</span>\n",
              "</mark>\n",
              " to the \n",
              "<mark class=\"entity\" style=\"background: #c887fb; padding: 0.45em 0.6em; margin: 0 0.25em; line-height: 1; border-radius: 0.35em;\">\n",
              "    North American\n",
              "    <span style=\"font-size: 0.8em; font-weight: bold; line-height: 1; border-radius: 0.35em; vertical-align: middle; margin-left: 0.5rem\">NORP</span>\n",
              "</mark>\n",
              " mainland \n",
              "<mark class=\"entity\" style=\"background: #bfe1d9; padding: 0.45em 0.6em; margin: 0 0.25em; line-height: 1; border-radius: 0.35em;\">\n",
              "    at least 12,000 years ago\n",
              "    <span style=\"font-size: 0.8em; font-weight: bold; line-height: 1; border-radius: 0.35em; vertical-align: middle; margin-left: 0.5rem\">DATE</span>\n",
              "</mark>\n",
              ", and \n",
              "<mark class=\"entity\" style=\"background: #c887fb; padding: 0.45em 0.6em; margin: 0 0.25em; line-height: 1; border-radius: 0.35em;\">\n",
              "    European\n",
              "    <span style=\"font-size: 0.8em; font-weight: bold; line-height: 1; border-radius: 0.35em; vertical-align: middle; margin-left: 0.5rem\">NORP</span>\n",
              "</mark>\n",
              " colonization began in \n",
              "<mark class=\"entity\" style=\"background: #bfe1d9; padding: 0.45em 0.6em; margin: 0 0.25em; line-height: 1; border-radius: 0.35em;\">\n",
              "    the 16th century\n",
              "    <span style=\"font-size: 0.8em; font-weight: bold; line-height: 1; border-radius: 0.35em; vertical-align: middle; margin-left: 0.5rem\">DATE</span>\n",
              "</mark>\n",
              ". \n",
              "<mark class=\"entity\" style=\"background: #feca74; padding: 0.45em 0.6em; margin: 0 0.25em; line-height: 1; border-radius: 0.35em;\">\n",
              "    The United States\n",
              "    <span style=\"font-size: 0.8em; font-weight: bold; line-height: 1; border-radius: 0.35em; vertical-align: middle; margin-left: 0.5rem\">GPE</span>\n",
              "</mark>\n",
              " emerged from the \n",
              "<mark class=\"entity\" style=\"background: #e4e7d2; padding: 0.45em 0.6em; margin: 0 0.25em; line-height: 1; border-radius: 0.35em;\">\n",
              "    thirteen\n",
              "    <span style=\"font-size: 0.8em; font-weight: bold; line-height: 1; border-radius: 0.35em; vertical-align: middle; margin-left: 0.5rem\">CARDINAL</span>\n",
              "</mark>\n",
              " \n",
              "<mark class=\"entity\" style=\"background: #c887fb; padding: 0.45em 0.6em; margin: 0 0.25em; line-height: 1; border-radius: 0.35em;\">\n",
              "    British\n",
              "    <span style=\"font-size: 0.8em; font-weight: bold; line-height: 1; border-radius: 0.35em; vertical-align: middle; margin-left: 0.5rem\">NORP</span>\n",
              "</mark>\n",
              " colonies established along \n",
              "<mark class=\"entity\" style=\"background: #ff9561; padding: 0.45em 0.6em; margin: 0 0.25em; line-height: 1; border-radius: 0.35em;\">\n",
              "    the East Coast\n",
              "    <span style=\"font-size: 0.8em; font-weight: bold; line-height: 1; border-radius: 0.35em; vertical-align: middle; margin-left: 0.5rem\">LOC</span>\n",
              "</mark>\n",
              ". Disputes with \n",
              "<mark class=\"entity\" style=\"background: #feca74; padding: 0.45em 0.6em; margin: 0 0.25em; line-height: 1; border-radius: 0.35em;\">\n",
              "    Great Britain\n",
              "    <span style=\"font-size: 0.8em; font-weight: bold; line-height: 1; border-radius: 0.35em; vertical-align: middle; margin-left: 0.5rem\">GPE</span>\n",
              "</mark>\n",
              " led to \n",
              "<mark class=\"entity\" style=\"background: #7aecec; padding: 0.45em 0.6em; margin: 0 0.25em; line-height: 1; border-radius: 0.35em;\">\n",
              "    the American Revolutionary War\n",
              "    <span style=\"font-size: 0.8em; font-weight: bold; line-height: 1; border-radius: 0.35em; vertical-align: middle; margin-left: 0.5rem\">ORG</span>\n",
              "</mark>\n",
              " (1775–1783), which established independence. In \n",
              "<mark class=\"entity\" style=\"background: #bfe1d9; padding: 0.45em 0.6em; margin: 0 0.25em; line-height: 1; border-radius: 0.35em;\">\n",
              "    the late 18th century\n",
              "    <span style=\"font-size: 0.8em; font-weight: bold; line-height: 1; border-radius: 0.35em; vertical-align: middle; margin-left: 0.5rem\">DATE</span>\n",
              "</mark>\n",
              ", the \n",
              "<mark class=\"entity\" style=\"background: #feca74; padding: 0.45em 0.6em; margin: 0 0.25em; line-height: 1; border-radius: 0.35em;\">\n",
              "    U.S.\n",
              "    <span style=\"font-size: 0.8em; font-weight: bold; line-height: 1; border-radius: 0.35em; vertical-align: middle; margin-left: 0.5rem\">GPE</span>\n",
              "</mark>\n",
              " began vigorously expanding across \n",
              "<mark class=\"entity\" style=\"background: #ff9561; padding: 0.45em 0.6em; margin: 0 0.25em; line-height: 1; border-radius: 0.35em;\">\n",
              "    North America\n",
              "    <span style=\"font-size: 0.8em; font-weight: bold; line-height: 1; border-radius: 0.35em; vertical-align: middle; margin-left: 0.5rem\">LOC</span>\n",
              "</mark>\n",
              ", gradually acquiring new territories, often times killing and displacing \n",
              "<mark class=\"entity\" style=\"background: #c887fb; padding: 0.45em 0.6em; margin: 0 0.25em; line-height: 1; border-radius: 0.35em;\">\n",
              "    Native Americans\n",
              "    <span style=\"font-size: 0.8em; font-weight: bold; line-height: 1; border-radius: 0.35em; vertical-align: middle; margin-left: 0.5rem\">NORP</span>\n",
              "</mark>\n",
              ", and admitting new states; by \n",
              "<mark class=\"entity\" style=\"background: #bfe1d9; padding: 0.45em 0.6em; margin: 0 0.25em; line-height: 1; border-radius: 0.35em;\">\n",
              "    1848\n",
              "    <span style=\"font-size: 0.8em; font-weight: bold; line-height: 1; border-radius: 0.35em; vertical-align: middle; margin-left: 0.5rem\">DATE</span>\n",
              "</mark>\n",
              ", \n",
              "<mark class=\"entity\" style=\"background: #feca74; padding: 0.45em 0.6em; margin: 0 0.25em; line-height: 1; border-radius: 0.35em;\">\n",
              "    the United States\n",
              "    <span style=\"font-size: 0.8em; font-weight: bold; line-height: 1; border-radius: 0.35em; vertical-align: middle; margin-left: 0.5rem\">GPE</span>\n",
              "</mark>\n",
              " spanned the continent. Slavery was legal in the southern \n",
              "<mark class=\"entity\" style=\"background: #feca74; padding: 0.45em 0.6em; margin: 0 0.25em; line-height: 1; border-radius: 0.35em;\">\n",
              "    United States\n",
              "    <span style=\"font-size: 0.8em; font-weight: bold; line-height: 1; border-radius: 0.35em; vertical-align: middle; margin-left: 0.5rem\">GPE</span>\n",
              "</mark>\n",
              " until \n",
              "<mark class=\"entity\" style=\"background: #bfe1d9; padding: 0.45em 0.6em; margin: 0 0.25em; line-height: 1; border-radius: 0.35em;\">\n",
              "    the second half of the 19th century\n",
              "    <span style=\"font-size: 0.8em; font-weight: bold; line-height: 1; border-radius: 0.35em; vertical-align: middle; margin-left: 0.5rem\">DATE</span>\n",
              "</mark>\n",
              ", when \n",
              "<mark class=\"entity\" style=\"background: #7aecec; padding: 0.45em 0.6em; margin: 0 0.25em; line-height: 1; border-radius: 0.35em;\">\n",
              "    the American Civil War\n",
              "    <span style=\"font-size: 0.8em; font-weight: bold; line-height: 1; border-radius: 0.35em; vertical-align: middle; margin-left: 0.5rem\">ORG</span>\n",
              "</mark>\n",
              " led to its abolition. The \n",
              "<mark class=\"entity\" style=\"background: #c887fb; padding: 0.45em 0.6em; margin: 0 0.25em; line-height: 1; border-radius: 0.35em;\">\n",
              "    Spanish\n",
              "    <span style=\"font-size: 0.8em; font-weight: bold; line-height: 1; border-radius: 0.35em; vertical-align: middle; margin-left: 0.5rem\">NORP</span>\n",
              "</mark>\n",
              "–American War and \n",
              "<mark class=\"entity\" style=\"background: #ffeb80; padding: 0.45em 0.6em; margin: 0 0.25em; line-height: 1; border-radius: 0.35em;\">\n",
              "    World War\n",
              "    <span style=\"font-size: 0.8em; font-weight: bold; line-height: 1; border-radius: 0.35em; vertical-align: middle; margin-left: 0.5rem\">EVENT</span>\n",
              "</mark>\n",
              " I established the \n",
              "<mark class=\"entity\" style=\"background: #feca74; padding: 0.45em 0.6em; margin: 0 0.25em; line-height: 1; border-radius: 0.35em;\">\n",
              "    U.S.\n",
              "    <span style=\"font-size: 0.8em; font-weight: bold; line-height: 1; border-radius: 0.35em; vertical-align: middle; margin-left: 0.5rem\">GPE</span>\n",
              "</mark>\n",
              " as a world power, a status confirmed by the outcome of \n",
              "<mark class=\"entity\" style=\"background: #ffeb80; padding: 0.45em 0.6em; margin: 0 0.25em; line-height: 1; border-radius: 0.35em;\">\n",
              "    World War II\n",
              "    <span style=\"font-size: 0.8em; font-weight: bold; line-height: 1; border-radius: 0.35em; vertical-align: middle; margin-left: 0.5rem\">EVENT</span>\n",
              "</mark>\n",
              ". During \n",
              "<mark class=\"entity\" style=\"background: #ffeb80; padding: 0.45em 0.6em; margin: 0 0.25em; line-height: 1; border-radius: 0.35em;\">\n",
              "    the Cold War\n",
              "    <span style=\"font-size: 0.8em; font-weight: bold; line-height: 1; border-radius: 0.35em; vertical-align: middle; margin-left: 0.5rem\">EVENT</span>\n",
              "</mark>\n",
              ", \n",
              "<mark class=\"entity\" style=\"background: #feca74; padding: 0.45em 0.6em; margin: 0 0.25em; line-height: 1; border-radius: 0.35em;\">\n",
              "    the United States\n",
              "    <span style=\"font-size: 0.8em; font-weight: bold; line-height: 1; border-radius: 0.35em; vertical-align: middle; margin-left: 0.5rem\">GPE</span>\n",
              "</mark>\n",
              " and \n",
              "<mark class=\"entity\" style=\"background: #feca74; padding: 0.45em 0.6em; margin: 0 0.25em; line-height: 1; border-radius: 0.35em;\">\n",
              "    the Soviet Union\n",
              "    <span style=\"font-size: 0.8em; font-weight: bold; line-height: 1; border-radius: 0.35em; vertical-align: middle; margin-left: 0.5rem\">GPE</span>\n",
              "</mark>\n",
              " engaged in various proxy wars, but avoided direct military conflict. They also competed in \n",
              "<mark class=\"entity\" style=\"background: #9cc9cc; padding: 0.45em 0.6em; margin: 0 0.25em; line-height: 1; border-radius: 0.35em;\">\n",
              "    the Space Race\n",
              "    <span style=\"font-size: 0.8em; font-weight: bold; line-height: 1; border-radius: 0.35em; vertical-align: middle; margin-left: 0.5rem\">FAC</span>\n",
              "</mark>\n",
              ", culminating in the \n",
              "<mark class=\"entity\" style=\"background: #bfe1d9; padding: 0.45em 0.6em; margin: 0 0.25em; line-height: 1; border-radius: 0.35em;\">\n",
              "    1969\n",
              "    <span style=\"font-size: 0.8em; font-weight: bold; line-height: 1; border-radius: 0.35em; vertical-align: middle; margin-left: 0.5rem\">DATE</span>\n",
              "</mark>\n",
              " spaceflight that \n",
              "<mark class=\"entity\" style=\"background: #e4e7d2; padding: 0.45em 0.6em; margin: 0 0.25em; line-height: 1; border-radius: 0.35em;\">\n",
              "    first\n",
              "    <span style=\"font-size: 0.8em; font-weight: bold; line-height: 1; border-radius: 0.35em; vertical-align: middle; margin-left: 0.5rem\">ORDINAL</span>\n",
              "</mark>\n",
              " landed humans on the Moon. The collapse of \n",
              "<mark class=\"entity\" style=\"background: #feca74; padding: 0.45em 0.6em; margin: 0 0.25em; line-height: 1; border-radius: 0.35em;\">\n",
              "    the Soviet Union\n",
              "    <span style=\"font-size: 0.8em; font-weight: bold; line-height: 1; border-radius: 0.35em; vertical-align: middle; margin-left: 0.5rem\">GPE</span>\n",
              "</mark>\n",
              " in \n",
              "<mark class=\"entity\" style=\"background: #bfe1d9; padding: 0.45em 0.6em; margin: 0 0.25em; line-height: 1; border-radius: 0.35em;\">\n",
              "    1991\n",
              "    <span style=\"font-size: 0.8em; font-weight: bold; line-height: 1; border-radius: 0.35em; vertical-align: middle; margin-left: 0.5rem\">DATE</span>\n",
              "</mark>\n",
              " ended \n",
              "<mark class=\"entity\" style=\"background: #ffeb80; padding: 0.45em 0.6em; margin: 0 0.25em; line-height: 1; border-radius: 0.35em;\">\n",
              "    the Cold War\n",
              "    <span style=\"font-size: 0.8em; font-weight: bold; line-height: 1; border-radius: 0.35em; vertical-align: middle; margin-left: 0.5rem\">EVENT</span>\n",
              "</mark>\n",
              " and left \n",
              "<mark class=\"entity\" style=\"background: #feca74; padding: 0.45em 0.6em; margin: 0 0.25em; line-height: 1; border-radius: 0.35em;\">\n",
              "    the United States\n",
              "    <span style=\"font-size: 0.8em; font-weight: bold; line-height: 1; border-radius: 0.35em; vertical-align: middle; margin-left: 0.5rem\">GPE</span>\n",
              "</mark>\n",
              " as the world's sole superpower.<br><br>\n",
              "<mark class=\"entity\" style=\"background: #feca74; padding: 0.45em 0.6em; margin: 0 0.25em; line-height: 1; border-radius: 0.35em;\">\n",
              "    The United States\n",
              "    <span style=\"font-size: 0.8em; font-weight: bold; line-height: 1; border-radius: 0.35em; vertical-align: middle; margin-left: 0.5rem\">GPE</span>\n",
              "</mark>\n",
              " is a federal republic and a representative democracy, with \n",
              "<mark class=\"entity\" style=\"background: #e4e7d2; padding: 0.45em 0.6em; margin: 0 0.25em; line-height: 1; border-radius: 0.35em;\">\n",
              "    three\n",
              "    <span style=\"font-size: 0.8em; font-weight: bold; line-height: 1; border-radius: 0.35em; vertical-align: middle; margin-left: 0.5rem\">CARDINAL</span>\n",
              "</mark>\n",
              " branches of government and a bicameral legislature. It is a founding member of \n",
              "<mark class=\"entity\" style=\"background: #7aecec; padding: 0.45em 0.6em; margin: 0 0.25em; line-height: 1; border-radius: 0.35em;\">\n",
              "    the United Nations\n",
              "    <span style=\"font-size: 0.8em; font-weight: bold; line-height: 1; border-radius: 0.35em; vertical-align: middle; margin-left: 0.5rem\">ORG</span>\n",
              "</mark>\n",
              ", \n",
              "<mark class=\"entity\" style=\"background: #7aecec; padding: 0.45em 0.6em; margin: 0 0.25em; line-height: 1; border-radius: 0.35em;\">\n",
              "    World Bank\n",
              "    <span style=\"font-size: 0.8em; font-weight: bold; line-height: 1; border-radius: 0.35em; vertical-align: middle; margin-left: 0.5rem\">ORG</span>\n",
              "</mark>\n",
              ", \n",
              "<mark class=\"entity\" style=\"background: #7aecec; padding: 0.45em 0.6em; margin: 0 0.25em; line-height: 1; border-radius: 0.35em;\">\n",
              "    International Monetary Fund\n",
              "    <span style=\"font-size: 0.8em; font-weight: bold; line-height: 1; border-radius: 0.35em; vertical-align: middle; margin-left: 0.5rem\">ORG</span>\n",
              "</mark>\n",
              ", \n",
              "<mark class=\"entity\" style=\"background: #7aecec; padding: 0.45em 0.6em; margin: 0 0.25em; line-height: 1; border-radius: 0.35em;\">\n",
              "    Organization of American States\n",
              "    <span style=\"font-size: 0.8em; font-weight: bold; line-height: 1; border-radius: 0.35em; vertical-align: middle; margin-left: 0.5rem\">ORG</span>\n",
              "</mark>\n",
              " (\n",
              "<mark class=\"entity\" style=\"background: #7aecec; padding: 0.45em 0.6em; margin: 0 0.25em; line-height: 1; border-radius: 0.35em;\">\n",
              "    OAS\n",
              "    <span style=\"font-size: 0.8em; font-weight: bold; line-height: 1; border-radius: 0.35em; vertical-align: middle; margin-left: 0.5rem\">ORG</span>\n",
              "</mark>\n",
              "), \n",
              "<mark class=\"entity\" style=\"background: #7aecec; padding: 0.45em 0.6em; margin: 0 0.25em; line-height: 1; border-radius: 0.35em;\">\n",
              "    NATO\n",
              "    <span style=\"font-size: 0.8em; font-weight: bold; line-height: 1; border-radius: 0.35em; vertical-align: middle; margin-left: 0.5rem\">ORG</span>\n",
              "</mark>\n",
              ", and other international organizations. It is a permanent member of \n",
              "<mark class=\"entity\" style=\"background: #7aecec; padding: 0.45em 0.6em; margin: 0 0.25em; line-height: 1; border-radius: 0.35em;\">\n",
              "    the United Nations Security Council\n",
              "    <span style=\"font-size: 0.8em; font-weight: bold; line-height: 1; border-radius: 0.35em; vertical-align: middle; margin-left: 0.5rem\">ORG</span>\n",
              "</mark>\n",
              ". The \n",
              "<mark class=\"entity\" style=\"background: #feca74; padding: 0.45em 0.6em; margin: 0 0.25em; line-height: 1; border-radius: 0.35em;\">\n",
              "    U.S.\n",
              "    <span style=\"font-size: 0.8em; font-weight: bold; line-height: 1; border-radius: 0.35em; vertical-align: middle; margin-left: 0.5rem\">GPE</span>\n",
              "</mark>\n",
              " ranks high in international measures of economic freedom, government corruption, quality of life, and quality of higher education. Despite income and wealth disparities, \n",
              "<mark class=\"entity\" style=\"background: #feca74; padding: 0.45em 0.6em; margin: 0 0.25em; line-height: 1; border-radius: 0.35em;\">\n",
              "    the United States\n",
              "    <span style=\"font-size: 0.8em; font-weight: bold; line-height: 1; border-radius: 0.35em; vertical-align: middle; margin-left: 0.5rem\">GPE</span>\n",
              "</mark>\n",
              " continues to rank high in measures of socioeconomic performance. It is one of the most racially and ethnically diverse nations and its population has been shaped through centuries of immigration. A highly developed country, \n",
              "<mark class=\"entity\" style=\"background: #feca74; padding: 0.45em 0.6em; margin: 0 0.25em; line-height: 1; border-radius: 0.35em;\">\n",
              "    the United States\n",
              "    <span style=\"font-size: 0.8em; font-weight: bold; line-height: 1; border-radius: 0.35em; vertical-align: middle; margin-left: 0.5rem\">GPE</span>\n",
              "</mark>\n",
              " is the world's largest economy and accounts for \n",
              "<mark class=\"entity\" style=\"background: #bfe1d9; padding: 0.45em 0.6em; margin: 0 0.25em; line-height: 1; border-radius: 0.35em;\">\n",
              "    approximately a quarter\n",
              "    <span style=\"font-size: 0.8em; font-weight: bold; line-height: 1; border-radius: 0.35em; vertical-align: middle; margin-left: 0.5rem\">DATE</span>\n",
              "</mark>\n",
              " of global gross domestic product (GDP). By value, \n",
              "<mark class=\"entity\" style=\"background: #feca74; padding: 0.45em 0.6em; margin: 0 0.25em; line-height: 1; border-radius: 0.35em;\">\n",
              "    the United States\n",
              "    <span style=\"font-size: 0.8em; font-weight: bold; line-height: 1; border-radius: 0.35em; vertical-align: middle; margin-left: 0.5rem\">GPE</span>\n",
              "</mark>\n",
              " is the world's largest importer and the \n",
              "<mark class=\"entity\" style=\"background: #e4e7d2; padding: 0.45em 0.6em; margin: 0 0.25em; line-height: 1; border-radius: 0.35em;\">\n",
              "    second\n",
              "    <span style=\"font-size: 0.8em; font-weight: bold; line-height: 1; border-radius: 0.35em; vertical-align: middle; margin-left: 0.5rem\">ORDINAL</span>\n",
              "</mark>\n",
              "-largest exporter of goods. Although its population is \n",
              "<mark class=\"entity\" style=\"background: #e4e7d2; padding: 0.45em 0.6em; margin: 0 0.25em; line-height: 1; border-radius: 0.35em;\">\n",
              "    only 4.3%\n",
              "    <span style=\"font-size: 0.8em; font-weight: bold; line-height: 1; border-radius: 0.35em; vertical-align: middle; margin-left: 0.5rem\">PERCENT</span>\n",
              "</mark>\n",
              " of the world total, it holds \n",
              "<mark class=\"entity\" style=\"background: #e4e7d2; padding: 0.45em 0.6em; margin: 0 0.25em; line-height: 1; border-radius: 0.35em;\">\n",
              "    29.4%\n",
              "    <span style=\"font-size: 0.8em; font-weight: bold; line-height: 1; border-radius: 0.35em; vertical-align: middle; margin-left: 0.5rem\">PERCENT</span>\n",
              "</mark>\n",
              " of the total wealth in the world, the largest share held by any country. It is the foremost military power in the world, making up \n",
              "<mark class=\"entity\" style=\"background: #e4e7d2; padding: 0.45em 0.6em; margin: 0 0.25em; line-height: 1; border-radius: 0.35em;\">\n",
              "    more than a third\n",
              "    <span style=\"font-size: 0.8em; font-weight: bold; line-height: 1; border-radius: 0.35em; vertical-align: middle; margin-left: 0.5rem\">CARDINAL</span>\n",
              "</mark>\n",
              " of global military spending, and is a leading political, cultural, and scientific force internationally.<br></div></span>"
            ]
          },
          "metadata": {}
        }
      ]
    },
    {
      "cell_type": "markdown",
      "source": [
        "## Dependency Parsing"
      ],
      "metadata": {
        "id": "r3crq5vdk2w0"
      }
    },
    {
      "cell_type": "code",
      "source": [
        "import spacy\n",
        "from spacy import displacy"
      ],
      "metadata": {
        "id": "zD7FhIbok7zQ"
      },
      "execution_count": null,
      "outputs": []
    },
    {
      "cell_type": "code",
      "source": [
        "## loading the spacy model\n",
        "nlp=spacy.load('en_core_web_sm')"
      ],
      "metadata": {
        "id": "StNdpVVYlXda"
      },
      "execution_count": null,
      "outputs": []
    },
    {
      "cell_type": "code",
      "source": [
        "# Defining the string\n",
        "text=\"I will wear a white shirt on Monday.\"\n",
        "\n",
        "##creating doc object\n",
        "doc=nlp(text)\n",
        "\n",
        "print([token.text for token in doc])\n",
        "\n",
        "##using displacy to render tree graph\n",
        "displacy.render(doc,jupyter=True)"
      ],
      "metadata": {
        "colab": {
          "base_uri": "https://localhost:8080/",
          "height": 546
        },
        "id": "x4rSKpczlXZ9",
        "outputId": "5984ee40-e35f-4d69-915e-56b66ca19e13"
      },
      "execution_count": null,
      "outputs": [
        {
          "output_type": "stream",
          "name": "stdout",
          "text": [
            "['I', 'will', 'wear', 'a', 'white', 'shirt', 'on', 'Monday', '.']\n"
          ]
        },
        {
          "output_type": "display_data",
          "data": {
            "text/plain": [
              "<IPython.core.display.HTML object>"
            ],
            "text/html": [
              "<span class=\"tex2jax_ignore\"><svg xmlns=\"http://www.w3.org/2000/svg\" xmlns:xlink=\"http://www.w3.org/1999/xlink\" xml:lang=\"en\" id=\"7c655b99101d4a5bbcf17f7084ca6902-0\" class=\"displacy\" width=\"1450\" height=\"487.0\" direction=\"ltr\" style=\"max-width: none; height: 487.0px; color: #000000; background: #ffffff; font-family: Arial; direction: ltr\">\n",
              "<text class=\"displacy-token\" fill=\"currentColor\" text-anchor=\"middle\" y=\"397.0\">\n",
              "    <tspan class=\"displacy-word\" fill=\"currentColor\" x=\"50\">I</tspan>\n",
              "    <tspan class=\"displacy-tag\" dy=\"2em\" fill=\"currentColor\" x=\"50\">PRON</tspan>\n",
              "</text>\n",
              "\n",
              "<text class=\"displacy-token\" fill=\"currentColor\" text-anchor=\"middle\" y=\"397.0\">\n",
              "    <tspan class=\"displacy-word\" fill=\"currentColor\" x=\"225\">will</tspan>\n",
              "    <tspan class=\"displacy-tag\" dy=\"2em\" fill=\"currentColor\" x=\"225\">AUX</tspan>\n",
              "</text>\n",
              "\n",
              "<text class=\"displacy-token\" fill=\"currentColor\" text-anchor=\"middle\" y=\"397.0\">\n",
              "    <tspan class=\"displacy-word\" fill=\"currentColor\" x=\"400\">wear</tspan>\n",
              "    <tspan class=\"displacy-tag\" dy=\"2em\" fill=\"currentColor\" x=\"400\">VERB</tspan>\n",
              "</text>\n",
              "\n",
              "<text class=\"displacy-token\" fill=\"currentColor\" text-anchor=\"middle\" y=\"397.0\">\n",
              "    <tspan class=\"displacy-word\" fill=\"currentColor\" x=\"575\">a</tspan>\n",
              "    <tspan class=\"displacy-tag\" dy=\"2em\" fill=\"currentColor\" x=\"575\">DET</tspan>\n",
              "</text>\n",
              "\n",
              "<text class=\"displacy-token\" fill=\"currentColor\" text-anchor=\"middle\" y=\"397.0\">\n",
              "    <tspan class=\"displacy-word\" fill=\"currentColor\" x=\"750\">white</tspan>\n",
              "    <tspan class=\"displacy-tag\" dy=\"2em\" fill=\"currentColor\" x=\"750\">ADJ</tspan>\n",
              "</text>\n",
              "\n",
              "<text class=\"displacy-token\" fill=\"currentColor\" text-anchor=\"middle\" y=\"397.0\">\n",
              "    <tspan class=\"displacy-word\" fill=\"currentColor\" x=\"925\">shirt</tspan>\n",
              "    <tspan class=\"displacy-tag\" dy=\"2em\" fill=\"currentColor\" x=\"925\">NOUN</tspan>\n",
              "</text>\n",
              "\n",
              "<text class=\"displacy-token\" fill=\"currentColor\" text-anchor=\"middle\" y=\"397.0\">\n",
              "    <tspan class=\"displacy-word\" fill=\"currentColor\" x=\"1100\">on</tspan>\n",
              "    <tspan class=\"displacy-tag\" dy=\"2em\" fill=\"currentColor\" x=\"1100\">ADP</tspan>\n",
              "</text>\n",
              "\n",
              "<text class=\"displacy-token\" fill=\"currentColor\" text-anchor=\"middle\" y=\"397.0\">\n",
              "    <tspan class=\"displacy-word\" fill=\"currentColor\" x=\"1275\">Monday.</tspan>\n",
              "    <tspan class=\"displacy-tag\" dy=\"2em\" fill=\"currentColor\" x=\"1275\">PROPN</tspan>\n",
              "</text>\n",
              "\n",
              "<g class=\"displacy-arrow\">\n",
              "    <path class=\"displacy-arc\" id=\"arrow-7c655b99101d4a5bbcf17f7084ca6902-0-0\" stroke-width=\"2px\" d=\"M70,352.0 C70,177.0 390.0,177.0 390.0,352.0\" fill=\"none\" stroke=\"currentColor\"/>\n",
              "    <text dy=\"1.25em\" style=\"font-size: 0.8em; letter-spacing: 1px\">\n",
              "        <textPath xlink:href=\"#arrow-7c655b99101d4a5bbcf17f7084ca6902-0-0\" class=\"displacy-label\" startOffset=\"50%\" side=\"left\" fill=\"currentColor\" text-anchor=\"middle\">nsubj</textPath>\n",
              "    </text>\n",
              "    <path class=\"displacy-arrowhead\" d=\"M70,354.0 L62,342.0 78,342.0\" fill=\"currentColor\"/>\n",
              "</g>\n",
              "\n",
              "<g class=\"displacy-arrow\">\n",
              "    <path class=\"displacy-arc\" id=\"arrow-7c655b99101d4a5bbcf17f7084ca6902-0-1\" stroke-width=\"2px\" d=\"M245,352.0 C245,264.5 385.0,264.5 385.0,352.0\" fill=\"none\" stroke=\"currentColor\"/>\n",
              "    <text dy=\"1.25em\" style=\"font-size: 0.8em; letter-spacing: 1px\">\n",
              "        <textPath xlink:href=\"#arrow-7c655b99101d4a5bbcf17f7084ca6902-0-1\" class=\"displacy-label\" startOffset=\"50%\" side=\"left\" fill=\"currentColor\" text-anchor=\"middle\">aux</textPath>\n",
              "    </text>\n",
              "    <path class=\"displacy-arrowhead\" d=\"M245,354.0 L237,342.0 253,342.0\" fill=\"currentColor\"/>\n",
              "</g>\n",
              "\n",
              "<g class=\"displacy-arrow\">\n",
              "    <path class=\"displacy-arc\" id=\"arrow-7c655b99101d4a5bbcf17f7084ca6902-0-2\" stroke-width=\"2px\" d=\"M595,352.0 C595,177.0 915.0,177.0 915.0,352.0\" fill=\"none\" stroke=\"currentColor\"/>\n",
              "    <text dy=\"1.25em\" style=\"font-size: 0.8em; letter-spacing: 1px\">\n",
              "        <textPath xlink:href=\"#arrow-7c655b99101d4a5bbcf17f7084ca6902-0-2\" class=\"displacy-label\" startOffset=\"50%\" side=\"left\" fill=\"currentColor\" text-anchor=\"middle\">det</textPath>\n",
              "    </text>\n",
              "    <path class=\"displacy-arrowhead\" d=\"M595,354.0 L587,342.0 603,342.0\" fill=\"currentColor\"/>\n",
              "</g>\n",
              "\n",
              "<g class=\"displacy-arrow\">\n",
              "    <path class=\"displacy-arc\" id=\"arrow-7c655b99101d4a5bbcf17f7084ca6902-0-3\" stroke-width=\"2px\" d=\"M770,352.0 C770,264.5 910.0,264.5 910.0,352.0\" fill=\"none\" stroke=\"currentColor\"/>\n",
              "    <text dy=\"1.25em\" style=\"font-size: 0.8em; letter-spacing: 1px\">\n",
              "        <textPath xlink:href=\"#arrow-7c655b99101d4a5bbcf17f7084ca6902-0-3\" class=\"displacy-label\" startOffset=\"50%\" side=\"left\" fill=\"currentColor\" text-anchor=\"middle\">amod</textPath>\n",
              "    </text>\n",
              "    <path class=\"displacy-arrowhead\" d=\"M770,354.0 L762,342.0 778,342.0\" fill=\"currentColor\"/>\n",
              "</g>\n",
              "\n",
              "<g class=\"displacy-arrow\">\n",
              "    <path class=\"displacy-arc\" id=\"arrow-7c655b99101d4a5bbcf17f7084ca6902-0-4\" stroke-width=\"2px\" d=\"M420,352.0 C420,89.5 920.0,89.5 920.0,352.0\" fill=\"none\" stroke=\"currentColor\"/>\n",
              "    <text dy=\"1.25em\" style=\"font-size: 0.8em; letter-spacing: 1px\">\n",
              "        <textPath xlink:href=\"#arrow-7c655b99101d4a5bbcf17f7084ca6902-0-4\" class=\"displacy-label\" startOffset=\"50%\" side=\"left\" fill=\"currentColor\" text-anchor=\"middle\">dobj</textPath>\n",
              "    </text>\n",
              "    <path class=\"displacy-arrowhead\" d=\"M920.0,354.0 L928.0,342.0 912.0,342.0\" fill=\"currentColor\"/>\n",
              "</g>\n",
              "\n",
              "<g class=\"displacy-arrow\">\n",
              "    <path class=\"displacy-arc\" id=\"arrow-7c655b99101d4a5bbcf17f7084ca6902-0-5\" stroke-width=\"2px\" d=\"M420,352.0 C420,2.0 1100.0,2.0 1100.0,352.0\" fill=\"none\" stroke=\"currentColor\"/>\n",
              "    <text dy=\"1.25em\" style=\"font-size: 0.8em; letter-spacing: 1px\">\n",
              "        <textPath xlink:href=\"#arrow-7c655b99101d4a5bbcf17f7084ca6902-0-5\" class=\"displacy-label\" startOffset=\"50%\" side=\"left\" fill=\"currentColor\" text-anchor=\"middle\">prep</textPath>\n",
              "    </text>\n",
              "    <path class=\"displacy-arrowhead\" d=\"M1100.0,354.0 L1108.0,342.0 1092.0,342.0\" fill=\"currentColor\"/>\n",
              "</g>\n",
              "\n",
              "<g class=\"displacy-arrow\">\n",
              "    <path class=\"displacy-arc\" id=\"arrow-7c655b99101d4a5bbcf17f7084ca6902-0-6\" stroke-width=\"2px\" d=\"M1120,352.0 C1120,264.5 1260.0,264.5 1260.0,352.0\" fill=\"none\" stroke=\"currentColor\"/>\n",
              "    <text dy=\"1.25em\" style=\"font-size: 0.8em; letter-spacing: 1px\">\n",
              "        <textPath xlink:href=\"#arrow-7c655b99101d4a5bbcf17f7084ca6902-0-6\" class=\"displacy-label\" startOffset=\"50%\" side=\"left\" fill=\"currentColor\" text-anchor=\"middle\">pobj</textPath>\n",
              "    </text>\n",
              "    <path class=\"displacy-arrowhead\" d=\"M1260.0,354.0 L1268.0,342.0 1252.0,342.0\" fill=\"currentColor\"/>\n",
              "</g>\n",
              "</svg></span>"
            ]
          },
          "metadata": {}
        }
      ]
    },
    {
      "cell_type": "code",
      "source": [
        "## getting head token\n",
        "print(\"head of tokens\")\n",
        "for token in doc:\n",
        "  print(\"TOKEN :\",token.text,\"HEAD==>\",token.head.text)\n",
        "\n",
        "##gettting children\n",
        "print(\"===================\\n Children\")\n",
        "for token in doc:\n",
        "  print(\"TPKEN :\",token.text,\"CHILDREN==>\",token.children)"
      ],
      "metadata": {
        "colab": {
          "base_uri": "https://localhost:8080/"
        },
        "id": "02gBoSbQlXTc",
        "outputId": "c27f6eec-edc8-43a3-8887-7d031963ed9c"
      },
      "execution_count": null,
      "outputs": [
        {
          "output_type": "stream",
          "name": "stdout",
          "text": [
            "head of tokens\n",
            "TOKEN : I HEAD==> wear\n",
            "TOKEN : will HEAD==> wear\n",
            "TOKEN : wear HEAD==> wear\n",
            "TOKEN : a HEAD==> shirt\n",
            "TOKEN : white HEAD==> shirt\n",
            "TOKEN : shirt HEAD==> wear\n",
            "TOKEN : on HEAD==> wear\n",
            "TOKEN : Monday HEAD==> on\n",
            "TOKEN : . HEAD==> wear\n",
            "===================\n",
            " Children\n",
            "TPKEN : I CHILDREN==> <generator object at 0x7db75735d1c0>\n",
            "TPKEN : will CHILDREN==> <generator object at 0x7db75735d1c0>\n",
            "TPKEN : wear CHILDREN==> <generator object at 0x7db75735d1c0>\n",
            "TPKEN : a CHILDREN==> <generator object at 0x7db75735d1c0>\n",
            "TPKEN : white CHILDREN==> <generator object at 0x7db75735d1c0>\n",
            "TPKEN : shirt CHILDREN==> <generator object at 0x7db75735d1c0>\n",
            "TPKEN : on CHILDREN==> <generator object at 0x7db75735d1c0>\n",
            "TPKEN : Monday CHILDREN==> <generator object at 0x7db75735d1c0>\n",
            "TPKEN : . CHILDREN==> <generator object at 0x7db75735d1c0>\n"
          ]
        }
      ]
    },
    {
      "cell_type": "code",
      "source": [
        "##getting immediate children\n",
        "for token in doc:\n",
        "  print(token.text,\"==>\",[child.text for child in token.children])"
      ],
      "metadata": {
        "colab": {
          "base_uri": "https://localhost:8080/"
        },
        "id": "N0k2Qt8UlXII",
        "outputId": "1c30f578-9b65-41be-9e34-cb8cffc40606"
      },
      "execution_count": null,
      "outputs": [
        {
          "output_type": "stream",
          "name": "stdout",
          "text": [
            "I ==> []\n",
            "will ==> []\n",
            "wear ==> ['I', 'will', 'shirt', 'on', '.']\n",
            "a ==> []\n",
            "white ==> []\n",
            "shirt ==> ['a', 'white']\n",
            "on ==> ['Monday']\n",
            "Monday ==> []\n",
            ". ==> []\n"
          ]
        }
      ]
    },
    {
      "cell_type": "code",
      "source": [
        "##getting left and right children\n",
        "for token in doc:\n",
        "  print(token.text,\"==>\",token.rights,\"==>\",token.lefts)"
      ],
      "metadata": {
        "colab": {
          "base_uri": "https://localhost:8080/"
        },
        "id": "31kQ0Wqrnnsm",
        "outputId": "83e0a58f-93a4-4823-b673-ff5d02a0ebb5"
      },
      "execution_count": null,
      "outputs": [
        {
          "output_type": "stream",
          "name": "stdout",
          "text": [
            "I ==> <generator object at 0x7db74b213b00> ==> <generator object at 0x7db74b213880>\n",
            "will ==> <generator object at 0x7db74b213b00> ==> <generator object at 0x7db74b213880>\n",
            "wear ==> <generator object at 0x7db74b213b00> ==> <generator object at 0x7db74b213880>\n",
            "a ==> <generator object at 0x7db74b213b00> ==> <generator object at 0x7db74b213880>\n",
            "white ==> <generator object at 0x7db74b213b00> ==> <generator object at 0x7db74b213880>\n",
            "shirt ==> <generator object at 0x7db74b213b00> ==> <generator object at 0x7db74b213880>\n",
            "on ==> <generator object at 0x7db74b213b00> ==> <generator object at 0x7db74b213880>\n",
            "Monday ==> <generator object at 0x7db74b213b00> ==> <generator object at 0x7db74b213880>\n",
            ". ==> <generator object at 0x7db74b213b00> ==> <generator object at 0x7db74b213880>\n"
          ]
        }
      ]
    },
    {
      "cell_type": "code",
      "source": [
        "##getting right children\n",
        "for token in doc:\n",
        "  print(token.text,\"==>\",[child.text for child in token.rights])"
      ],
      "metadata": {
        "colab": {
          "base_uri": "https://localhost:8080/"
        },
        "id": "Z8wRpOAHnno6",
        "outputId": "9c397c22-0bd5-44da-f0ba-5cb37146d3b7"
      },
      "execution_count": null,
      "outputs": [
        {
          "output_type": "stream",
          "name": "stdout",
          "text": [
            "I ==> []\n",
            "will ==> []\n",
            "wear ==> ['shirt', 'on', '.']\n",
            "a ==> []\n",
            "white ==> []\n",
            "shirt ==> []\n",
            "on ==> ['Monday']\n",
            "Monday ==> []\n",
            ". ==> []\n"
          ]
        }
      ]
    },
    {
      "cell_type": "code",
      "source": [
        "##getting left children\n",
        "for token in doc:\n",
        "  print(token.text,\"==>\",[child.text for child in token.lefts])"
      ],
      "metadata": {
        "colab": {
          "base_uri": "https://localhost:8080/"
        },
        "id": "D_GAUISGnnmW",
        "outputId": "9d61a442-b307-498a-c415-88dd171d6af6"
      },
      "execution_count": null,
      "outputs": [
        {
          "output_type": "stream",
          "name": "stdout",
          "text": [
            "I ==> []\n",
            "will ==> []\n",
            "wear ==> ['I', 'will']\n",
            "a ==> []\n",
            "white ==> []\n",
            "shirt ==> ['a', 'white']\n",
            "on ==> []\n",
            "Monday ==> []\n",
            ". ==> []\n"
          ]
        }
      ]
    },
    {
      "cell_type": "markdown",
      "source": [
        "## Rule-based Relation Extraction\n",
        "Uses a lot of hand-written patterns for extracting information from the natural language text.\n",
        "<br>\n",
        "<br>\n",
        "[Automatic Acquisition of Hyponyms from Large Text Corpora](http://people.ischool.berkeley.edu/~hearst/papers/coling92.pdf)\n",
        "<br>\n",
        "**Marti Hearst** built a set of text-patterns that can be used for extracting meaningful information from text. These patterns are known as **Hearst Patterns**. These are lexico-syntactic patterns used to recognize hyponymy"
      ],
      "metadata": {
        "id": "T4EJLuybC0pC"
      }
    },
    {
      "cell_type": "markdown",
      "source": [
        "### Using Spacy's Matcher"
      ],
      "metadata": {
        "id": "QOTlAojA1ZtX"
      }
    },
    {
      "cell_type": "code",
      "source": [
        "## importing required libraries\n",
        "\n",
        "import spacy\n",
        "from spacy.matcher import Matcher\n",
        "from spacy import displacy\n"
      ],
      "metadata": {
        "id": "0DqL1_ne33Nf"
      },
      "execution_count": 1,
      "outputs": []
    },
    {
      "cell_type": "markdown",
      "source": [
        "#### Pattern 1:X such as Y"
      ],
      "metadata": {
        "id": "OxbXIoHb2PLe"
      }
    },
    {
      "cell_type": "code",
      "source": [
        "##loading spacy model\n",
        "nlp= spacy.load(\"en_core_web_sm\")\n",
        "\n",
        "##defining text\n",
        "text=\"Developed countries such as Canada have a better healthcare infrastructure compared to developing countries.\"\n",
        "\n",
        "##creating spacy object\n",
        "doc=nlp(text)"
      ],
      "metadata": {
        "id": "OGah4wYz1xQM"
      },
      "execution_count": 7,
      "outputs": []
    },
    {
      "cell_type": "code",
      "source": [
        "## printing pos tags and dependency tags\n",
        "for token in doc:\n",
        "  print(\"token : \",token.text,\"===\",\"pos tag:==\",token.pos_,\"===\",\"dependency_tag :== \",token.dep_)"
      ],
      "metadata": {
        "colab": {
          "base_uri": "https://localhost:8080/"
        },
        "id": "dTQzogrX2hhi",
        "outputId": "041e34b4-f34d-46de-ebce-e1d5b9e7cad9"
      },
      "execution_count": 8,
      "outputs": [
        {
          "output_type": "stream",
          "name": "stdout",
          "text": [
            "token :  Developed === pos tag:== ADJ === dependency_tag :==  amod\n",
            "token :  countries === pos tag:== NOUN === dependency_tag :==  nsubj\n",
            "token :  such === pos tag:== ADJ === dependency_tag :==  amod\n",
            "token :  as === pos tag:== ADP === dependency_tag :==  prep\n",
            "token :  Canada === pos tag:== PROPN === dependency_tag :==  pobj\n",
            "token :  have === pos tag:== VERB === dependency_tag :==  ROOT\n",
            "token :  a === pos tag:== DET === dependency_tag :==  det\n",
            "token :  better === pos tag:== ADJ === dependency_tag :==  amod\n",
            "token :  healthcare === pos tag:== NOUN === dependency_tag :==  compound\n",
            "token :  infrastructure === pos tag:== NOUN === dependency_tag :==  dobj\n",
            "token :  compared === pos tag:== VERB === dependency_tag :==  prep\n",
            "token :  to === pos tag:== ADP === dependency_tag :==  prep\n",
            "token :  developing === pos tag:== VERB === dependency_tag :==  amod\n",
            "token :  countries === pos tag:== NOUN === dependency_tag :==  pobj\n",
            "token :  . === pos tag:== PUNCT === dependency_tag :==  punct\n"
          ]
        }
      ]
    },
    {
      "cell_type": "code",
      "source": [
        "#defining the pattern ##pattern should be list of dict\n",
        "pattern=[{\"POS\":\"NOUN\"},{\"LOWER\":\"such\"},{\"LOWER\":\"as\"},{\"POS\":\"PROPN\"}]"
      ],
      "metadata": {
        "id": "_SrCsn783D4P"
      },
      "execution_count": 9,
      "outputs": []
    },
    {
      "cell_type": "code",
      "source": [
        "### creating the matcher object\n",
        "matcher=Matcher(nlp.vocab)\n",
        "\n",
        "##adding the rule to the matcher\n",
        "matcher.add(\"Pattern X such as Y\",[pattern])\n",
        "\n",
        "##running pattern on text\n",
        "matches=matcher(doc)\n",
        "\n",
        "matches"
      ],
      "metadata": {
        "colab": {
          "base_uri": "https://localhost:8080/"
        },
        "id": "kToZU2_n3qOB",
        "outputId": "dde6253c-f1c8-4e7b-ab3a-4418707e5b03"
      },
      "execution_count": 14,
      "outputs": [
        {
          "output_type": "execute_result",
          "data": {
            "text/plain": [
              "[(17711623125337077988, 1, 5)]"
            ]
          },
          "metadata": {},
          "execution_count": 14
        }
      ]
    },
    {
      "cell_type": "code",
      "source": [
        "##xtracting matched string\n",
        "span=doc[matches[0][1]:matches[0][2]]\n",
        "print(span)"
      ],
      "metadata": {
        "colab": {
          "base_uri": "https://localhost:8080/"
        },
        "id": "3aUE7bkh4Nnv",
        "outputId": "396d8d35-debb-42d3-917f-b44393b910c1"
      },
      "execution_count": 15,
      "outputs": [
        {
          "output_type": "stream",
          "name": "stdout",
          "text": [
            "countries such as Canada\n"
          ]
        }
      ]
    },
    {
      "cell_type": "code",
      "source": [
        "### defining another string\n",
        "text=text=\"I love eating healthy fruits such as Kiwi. I like supercars such as Bugatti.\"\n",
        "\n",
        "##creating spacy object\n",
        "doc=nlp(text)\n",
        "\n",
        "##running pattern on text\n",
        "matches=matcher(doc)\n",
        "\n",
        "##printing extracted text\n",
        "for match in matches:\n",
        "  print(doc[match[1]:match[2]])"
      ],
      "metadata": {
        "colab": {
          "base_uri": "https://localhost:8080/"
        },
        "id": "GG0qE7zm664B",
        "outputId": "b55874e7-55c6-491d-f093-aa5083fc730a"
      },
      "execution_count": 16,
      "outputs": [
        {
          "output_type": "stream",
          "name": "stdout",
          "text": [
            "fruits such as Kiwi\n",
            "supercars such as Bugatti\n"
          ]
        }
      ]
    },
    {
      "cell_type": "code",
      "source": [],
      "metadata": {
        "id": "Uqri7FL07sF4"
      },
      "execution_count": null,
      "outputs": []
    },
    {
      "cell_type": "markdown",
      "source": [
        "#### Pattern such as X and/or other Y"
      ],
      "metadata": {
        "id": "-ffQjeHy7uDV"
      }
    },
    {
      "cell_type": "code",
      "source": [
        "##defining the string and creating the object\n",
        "text=\"In this way you can disinfect your kitchen and other appliances.\"\n",
        "\n",
        "##creating nlp object\n",
        "doc=nlp(text)\n",
        "\n",
        "### printing pos tag and dependency tag\n",
        "for token in doc:\n",
        "   print(\"token : \",token.text,\"===\",\"pos tag:==\",token.pos_,\"===\",\"dependency_tag :== \",token.dep_)\n",
        "\n",
        "\n",
        "##rendering the tree grapg\n",
        "displacy.render(doc,jupyter=True)"
      ],
      "metadata": {
        "colab": {
          "base_uri": "https://localhost:8080/",
          "height": 649
        },
        "id": "pTpPJGHR70BF",
        "outputId": "d556eaac-4e98-426a-e0c9-a0fcd16c725a"
      },
      "execution_count": 18,
      "outputs": [
        {
          "output_type": "stream",
          "name": "stdout",
          "text": [
            "token :  In === pos tag:== ADP === dependency_tag :==  prep\n",
            "token :  this === pos tag:== DET === dependency_tag :==  det\n",
            "token :  way === pos tag:== NOUN === dependency_tag :==  pobj\n",
            "token :  you === pos tag:== PRON === dependency_tag :==  nsubj\n",
            "token :  can === pos tag:== AUX === dependency_tag :==  aux\n",
            "token :  disinfect === pos tag:== VERB === dependency_tag :==  ROOT\n",
            "token :  your === pos tag:== PRON === dependency_tag :==  poss\n",
            "token :  kitchen === pos tag:== NOUN === dependency_tag :==  dobj\n",
            "token :  and === pos tag:== CCONJ === dependency_tag :==  cc\n",
            "token :  other === pos tag:== ADJ === dependency_tag :==  amod\n",
            "token :  appliances === pos tag:== NOUN === dependency_tag :==  conj\n",
            "token :  . === pos tag:== PUNCT === dependency_tag :==  punct\n"
          ]
        },
        {
          "output_type": "display_data",
          "data": {
            "text/plain": [
              "<IPython.core.display.HTML object>"
            ],
            "text/html": [
              "<span class=\"tex2jax_ignore\"><svg xmlns=\"http://www.w3.org/2000/svg\" xmlns:xlink=\"http://www.w3.org/1999/xlink\" xml:lang=\"en\" id=\"ea3a6390607e49f691c28d9a40589f7a-0\" class=\"displacy\" width=\"1975\" height=\"399.5\" direction=\"ltr\" style=\"max-width: none; height: 399.5px; color: #000000; background: #ffffff; font-family: Arial; direction: ltr\">\n",
              "<text class=\"displacy-token\" fill=\"currentColor\" text-anchor=\"middle\" y=\"309.5\">\n",
              "    <tspan class=\"displacy-word\" fill=\"currentColor\" x=\"50\">In</tspan>\n",
              "    <tspan class=\"displacy-tag\" dy=\"2em\" fill=\"currentColor\" x=\"50\">ADP</tspan>\n",
              "</text>\n",
              "\n",
              "<text class=\"displacy-token\" fill=\"currentColor\" text-anchor=\"middle\" y=\"309.5\">\n",
              "    <tspan class=\"displacy-word\" fill=\"currentColor\" x=\"225\">this</tspan>\n",
              "    <tspan class=\"displacy-tag\" dy=\"2em\" fill=\"currentColor\" x=\"225\">DET</tspan>\n",
              "</text>\n",
              "\n",
              "<text class=\"displacy-token\" fill=\"currentColor\" text-anchor=\"middle\" y=\"309.5\">\n",
              "    <tspan class=\"displacy-word\" fill=\"currentColor\" x=\"400\">way</tspan>\n",
              "    <tspan class=\"displacy-tag\" dy=\"2em\" fill=\"currentColor\" x=\"400\">NOUN</tspan>\n",
              "</text>\n",
              "\n",
              "<text class=\"displacy-token\" fill=\"currentColor\" text-anchor=\"middle\" y=\"309.5\">\n",
              "    <tspan class=\"displacy-word\" fill=\"currentColor\" x=\"575\">you</tspan>\n",
              "    <tspan class=\"displacy-tag\" dy=\"2em\" fill=\"currentColor\" x=\"575\">PRON</tspan>\n",
              "</text>\n",
              "\n",
              "<text class=\"displacy-token\" fill=\"currentColor\" text-anchor=\"middle\" y=\"309.5\">\n",
              "    <tspan class=\"displacy-word\" fill=\"currentColor\" x=\"750\">can</tspan>\n",
              "    <tspan class=\"displacy-tag\" dy=\"2em\" fill=\"currentColor\" x=\"750\">AUX</tspan>\n",
              "</text>\n",
              "\n",
              "<text class=\"displacy-token\" fill=\"currentColor\" text-anchor=\"middle\" y=\"309.5\">\n",
              "    <tspan class=\"displacy-word\" fill=\"currentColor\" x=\"925\">disinfect</tspan>\n",
              "    <tspan class=\"displacy-tag\" dy=\"2em\" fill=\"currentColor\" x=\"925\">VERB</tspan>\n",
              "</text>\n",
              "\n",
              "<text class=\"displacy-token\" fill=\"currentColor\" text-anchor=\"middle\" y=\"309.5\">\n",
              "    <tspan class=\"displacy-word\" fill=\"currentColor\" x=\"1100\">your</tspan>\n",
              "    <tspan class=\"displacy-tag\" dy=\"2em\" fill=\"currentColor\" x=\"1100\">PRON</tspan>\n",
              "</text>\n",
              "\n",
              "<text class=\"displacy-token\" fill=\"currentColor\" text-anchor=\"middle\" y=\"309.5\">\n",
              "    <tspan class=\"displacy-word\" fill=\"currentColor\" x=\"1275\">kitchen</tspan>\n",
              "    <tspan class=\"displacy-tag\" dy=\"2em\" fill=\"currentColor\" x=\"1275\">NOUN</tspan>\n",
              "</text>\n",
              "\n",
              "<text class=\"displacy-token\" fill=\"currentColor\" text-anchor=\"middle\" y=\"309.5\">\n",
              "    <tspan class=\"displacy-word\" fill=\"currentColor\" x=\"1450\">and</tspan>\n",
              "    <tspan class=\"displacy-tag\" dy=\"2em\" fill=\"currentColor\" x=\"1450\">CCONJ</tspan>\n",
              "</text>\n",
              "\n",
              "<text class=\"displacy-token\" fill=\"currentColor\" text-anchor=\"middle\" y=\"309.5\">\n",
              "    <tspan class=\"displacy-word\" fill=\"currentColor\" x=\"1625\">other</tspan>\n",
              "    <tspan class=\"displacy-tag\" dy=\"2em\" fill=\"currentColor\" x=\"1625\">ADJ</tspan>\n",
              "</text>\n",
              "\n",
              "<text class=\"displacy-token\" fill=\"currentColor\" text-anchor=\"middle\" y=\"309.5\">\n",
              "    <tspan class=\"displacy-word\" fill=\"currentColor\" x=\"1800\">appliances.</tspan>\n",
              "    <tspan class=\"displacy-tag\" dy=\"2em\" fill=\"currentColor\" x=\"1800\">NOUN</tspan>\n",
              "</text>\n",
              "\n",
              "<g class=\"displacy-arrow\">\n",
              "    <path class=\"displacy-arc\" id=\"arrow-ea3a6390607e49f691c28d9a40589f7a-0-0\" stroke-width=\"2px\" d=\"M70,264.5 C70,2.0 925.0,2.0 925.0,264.5\" fill=\"none\" stroke=\"currentColor\"/>\n",
              "    <text dy=\"1.25em\" style=\"font-size: 0.8em; letter-spacing: 1px\">\n",
              "        <textPath xlink:href=\"#arrow-ea3a6390607e49f691c28d9a40589f7a-0-0\" class=\"displacy-label\" startOffset=\"50%\" side=\"left\" fill=\"currentColor\" text-anchor=\"middle\">prep</textPath>\n",
              "    </text>\n",
              "    <path class=\"displacy-arrowhead\" d=\"M70,266.5 L62,254.5 78,254.5\" fill=\"currentColor\"/>\n",
              "</g>\n",
              "\n",
              "<g class=\"displacy-arrow\">\n",
              "    <path class=\"displacy-arc\" id=\"arrow-ea3a6390607e49f691c28d9a40589f7a-0-1\" stroke-width=\"2px\" d=\"M245,264.5 C245,177.0 390.0,177.0 390.0,264.5\" fill=\"none\" stroke=\"currentColor\"/>\n",
              "    <text dy=\"1.25em\" style=\"font-size: 0.8em; letter-spacing: 1px\">\n",
              "        <textPath xlink:href=\"#arrow-ea3a6390607e49f691c28d9a40589f7a-0-1\" class=\"displacy-label\" startOffset=\"50%\" side=\"left\" fill=\"currentColor\" text-anchor=\"middle\">det</textPath>\n",
              "    </text>\n",
              "    <path class=\"displacy-arrowhead\" d=\"M245,266.5 L237,254.5 253,254.5\" fill=\"currentColor\"/>\n",
              "</g>\n",
              "\n",
              "<g class=\"displacy-arrow\">\n",
              "    <path class=\"displacy-arc\" id=\"arrow-ea3a6390607e49f691c28d9a40589f7a-0-2\" stroke-width=\"2px\" d=\"M70,264.5 C70,89.5 395.0,89.5 395.0,264.5\" fill=\"none\" stroke=\"currentColor\"/>\n",
              "    <text dy=\"1.25em\" style=\"font-size: 0.8em; letter-spacing: 1px\">\n",
              "        <textPath xlink:href=\"#arrow-ea3a6390607e49f691c28d9a40589f7a-0-2\" class=\"displacy-label\" startOffset=\"50%\" side=\"left\" fill=\"currentColor\" text-anchor=\"middle\">pobj</textPath>\n",
              "    </text>\n",
              "    <path class=\"displacy-arrowhead\" d=\"M395.0,266.5 L403.0,254.5 387.0,254.5\" fill=\"currentColor\"/>\n",
              "</g>\n",
              "\n",
              "<g class=\"displacy-arrow\">\n",
              "    <path class=\"displacy-arc\" id=\"arrow-ea3a6390607e49f691c28d9a40589f7a-0-3\" stroke-width=\"2px\" d=\"M595,264.5 C595,89.5 920.0,89.5 920.0,264.5\" fill=\"none\" stroke=\"currentColor\"/>\n",
              "    <text dy=\"1.25em\" style=\"font-size: 0.8em; letter-spacing: 1px\">\n",
              "        <textPath xlink:href=\"#arrow-ea3a6390607e49f691c28d9a40589f7a-0-3\" class=\"displacy-label\" startOffset=\"50%\" side=\"left\" fill=\"currentColor\" text-anchor=\"middle\">nsubj</textPath>\n",
              "    </text>\n",
              "    <path class=\"displacy-arrowhead\" d=\"M595,266.5 L587,254.5 603,254.5\" fill=\"currentColor\"/>\n",
              "</g>\n",
              "\n",
              "<g class=\"displacy-arrow\">\n",
              "    <path class=\"displacy-arc\" id=\"arrow-ea3a6390607e49f691c28d9a40589f7a-0-4\" stroke-width=\"2px\" d=\"M770,264.5 C770,177.0 915.0,177.0 915.0,264.5\" fill=\"none\" stroke=\"currentColor\"/>\n",
              "    <text dy=\"1.25em\" style=\"font-size: 0.8em; letter-spacing: 1px\">\n",
              "        <textPath xlink:href=\"#arrow-ea3a6390607e49f691c28d9a40589f7a-0-4\" class=\"displacy-label\" startOffset=\"50%\" side=\"left\" fill=\"currentColor\" text-anchor=\"middle\">aux</textPath>\n",
              "    </text>\n",
              "    <path class=\"displacy-arrowhead\" d=\"M770,266.5 L762,254.5 778,254.5\" fill=\"currentColor\"/>\n",
              "</g>\n",
              "\n",
              "<g class=\"displacy-arrow\">\n",
              "    <path class=\"displacy-arc\" id=\"arrow-ea3a6390607e49f691c28d9a40589f7a-0-5\" stroke-width=\"2px\" d=\"M1120,264.5 C1120,177.0 1265.0,177.0 1265.0,264.5\" fill=\"none\" stroke=\"currentColor\"/>\n",
              "    <text dy=\"1.25em\" style=\"font-size: 0.8em; letter-spacing: 1px\">\n",
              "        <textPath xlink:href=\"#arrow-ea3a6390607e49f691c28d9a40589f7a-0-5\" class=\"displacy-label\" startOffset=\"50%\" side=\"left\" fill=\"currentColor\" text-anchor=\"middle\">poss</textPath>\n",
              "    </text>\n",
              "    <path class=\"displacy-arrowhead\" d=\"M1120,266.5 L1112,254.5 1128,254.5\" fill=\"currentColor\"/>\n",
              "</g>\n",
              "\n",
              "<g class=\"displacy-arrow\">\n",
              "    <path class=\"displacy-arc\" id=\"arrow-ea3a6390607e49f691c28d9a40589f7a-0-6\" stroke-width=\"2px\" d=\"M945,264.5 C945,89.5 1270.0,89.5 1270.0,264.5\" fill=\"none\" stroke=\"currentColor\"/>\n",
              "    <text dy=\"1.25em\" style=\"font-size: 0.8em; letter-spacing: 1px\">\n",
              "        <textPath xlink:href=\"#arrow-ea3a6390607e49f691c28d9a40589f7a-0-6\" class=\"displacy-label\" startOffset=\"50%\" side=\"left\" fill=\"currentColor\" text-anchor=\"middle\">dobj</textPath>\n",
              "    </text>\n",
              "    <path class=\"displacy-arrowhead\" d=\"M1270.0,266.5 L1278.0,254.5 1262.0,254.5\" fill=\"currentColor\"/>\n",
              "</g>\n",
              "\n",
              "<g class=\"displacy-arrow\">\n",
              "    <path class=\"displacy-arc\" id=\"arrow-ea3a6390607e49f691c28d9a40589f7a-0-7\" stroke-width=\"2px\" d=\"M1295,264.5 C1295,177.0 1440.0,177.0 1440.0,264.5\" fill=\"none\" stroke=\"currentColor\"/>\n",
              "    <text dy=\"1.25em\" style=\"font-size: 0.8em; letter-spacing: 1px\">\n",
              "        <textPath xlink:href=\"#arrow-ea3a6390607e49f691c28d9a40589f7a-0-7\" class=\"displacy-label\" startOffset=\"50%\" side=\"left\" fill=\"currentColor\" text-anchor=\"middle\">cc</textPath>\n",
              "    </text>\n",
              "    <path class=\"displacy-arrowhead\" d=\"M1440.0,266.5 L1448.0,254.5 1432.0,254.5\" fill=\"currentColor\"/>\n",
              "</g>\n",
              "\n",
              "<g class=\"displacy-arrow\">\n",
              "    <path class=\"displacy-arc\" id=\"arrow-ea3a6390607e49f691c28d9a40589f7a-0-8\" stroke-width=\"2px\" d=\"M1645,264.5 C1645,177.0 1790.0,177.0 1790.0,264.5\" fill=\"none\" stroke=\"currentColor\"/>\n",
              "    <text dy=\"1.25em\" style=\"font-size: 0.8em; letter-spacing: 1px\">\n",
              "        <textPath xlink:href=\"#arrow-ea3a6390607e49f691c28d9a40589f7a-0-8\" class=\"displacy-label\" startOffset=\"50%\" side=\"left\" fill=\"currentColor\" text-anchor=\"middle\">amod</textPath>\n",
              "    </text>\n",
              "    <path class=\"displacy-arrowhead\" d=\"M1645,266.5 L1637,254.5 1653,254.5\" fill=\"currentColor\"/>\n",
              "</g>\n",
              "\n",
              "<g class=\"displacy-arrow\">\n",
              "    <path class=\"displacy-arc\" id=\"arrow-ea3a6390607e49f691c28d9a40589f7a-0-9\" stroke-width=\"2px\" d=\"M1295,264.5 C1295,89.5 1795.0,89.5 1795.0,264.5\" fill=\"none\" stroke=\"currentColor\"/>\n",
              "    <text dy=\"1.25em\" style=\"font-size: 0.8em; letter-spacing: 1px\">\n",
              "        <textPath xlink:href=\"#arrow-ea3a6390607e49f691c28d9a40589f7a-0-9\" class=\"displacy-label\" startOffset=\"50%\" side=\"left\" fill=\"currentColor\" text-anchor=\"middle\">conj</textPath>\n",
              "    </text>\n",
              "    <path class=\"displacy-arrowhead\" d=\"M1795.0,266.5 L1803.0,254.5 1787.0,254.5\" fill=\"currentColor\"/>\n",
              "</g>\n",
              "</svg></span>"
            ]
          },
          "metadata": {}
        }
      ]
    },
    {
      "cell_type": "code",
      "source": [
        "## defining the pattern\n",
        "pattern=[{\"POS\":\"NOUN\"},{\"LOWER\":\"and\"},{\"LOWER\":\"other\"},{\"POS\":\"NOUN\"}]\n",
        "\n",
        "##creating Matcher Object\n",
        "matcher=Matcher(nlp.vocab)\n",
        "##addding rule yo the matcher\n",
        "matcher.add(\"Pattern X and other Y\",[pattern])\n",
        "\n",
        "##running pattern on text\n",
        "matches=matcher(doc)\n",
        "\n",
        "##printing extracted text\n",
        "for match in matches:\n",
        "  print(doc[match[1]:match[2]])"
      ],
      "metadata": {
        "colab": {
          "base_uri": "https://localhost:8080/"
        },
        "id": "bv7XGSkI8oAQ",
        "outputId": "88e3d878-fba3-40e4-923e-0e607f454f10"
      },
      "execution_count": 19,
      "outputs": [
        {
          "output_type": "stream",
          "name": "stdout",
          "text": [
            "kitchen and other appliances\n"
          ]
        }
      ]
    },
    {
      "cell_type": "code",
      "source": [],
      "metadata": {
        "id": "xoSjLr0-9yiP"
      },
      "execution_count": null,
      "outputs": []
    }
  ]
}