{
  "nbformat": 4,
  "nbformat_minor": 0,
  "metadata": {
    "colab": {
      "provenance": []
    },
    "kernelspec": {
      "name": "python3",
      "display_name": "Python 3"
    },
    "language_info": {
      "name": "python"
    }
  },
  "cells": [
    {
      "cell_type": "markdown",
      "source": [
        "# REGULAR EXPRESSION,TOKENIZATION,STOPWORDS REMOVAL ---USING `RE AND SPACY `"
      ],
      "metadata": {
        "id": "aS5bgaBOEttR"
      }
    },
    {
      "cell_type": "code",
      "execution_count": null,
      "metadata": {
        "id": "iNvjMyRKDYFD"
      },
      "outputs": [],
      "source": [
        "import pandas as pd\n",
        "import re\n",
        "import spacy"
      ]
    },
    {
      "cell_type": "markdown",
      "source": [
        "## REGEX FOR CLEANING TEXT DATA"
      ],
      "metadata": {
        "id": "uh8GWz5oEs01"
      }
    },
    {
      "cell_type": "code",
      "source": [
        "df=pd.read_csv(\"/content/tweets.csv\",encoding=\"ISO_8859-1\")\n",
        "df.head()"
      ],
      "metadata": {
        "colab": {
          "base_uri": "https://localhost:8080/",
          "height": 469
        },
        "id": "xfkV9V39FHfC",
        "outputId": "368c540f-341c-4661-b979-4b1bb1fc274a"
      },
      "execution_count": null,
      "outputs": [
        {
          "output_type": "execute_result",
          "data": {
            "text/plain": [
              "   Unnamed: 0  X                                               text  \\\n",
              "0           1  1  RT @rssurjewala: Critical question: Was PayTM ...   \n",
              "1           2  2  RT @Hemant_80: Did you vote on #Demonetization...   \n",
              "2           3  3  RT @roshankar: Former FinSec, RBI Dy Governor,...   \n",
              "3           4  4  RT @ANI_news: Gurugram (Haryana): Post office ...   \n",
              "4           5  5  RT @satishacharya: Reddy Wedding! @mail_today ...   \n",
              "\n",
              "   favorited  favoriteCount replyToSN              created  truncated  \\\n",
              "0      False              0       NaN  2016-11-23 18:40:30      False   \n",
              "1      False              0       NaN  2016-11-23 18:40:29      False   \n",
              "2      False              0       NaN  2016-11-23 18:40:03      False   \n",
              "3      False              0       NaN  2016-11-23 18:39:59      False   \n",
              "4      False              0       NaN  2016-11-23 18:39:39      False   \n",
              "\n",
              "   replyToSID            id  replyToUID  \\\n",
              "0         NaN  8.014957e+17         NaN   \n",
              "1         NaN  8.014957e+17         NaN   \n",
              "2         NaN  8.014955e+17         NaN   \n",
              "3         NaN  8.014955e+17         NaN   \n",
              "4         NaN  8.014954e+17         NaN   \n",
              "\n",
              "                                        statusSource       screenName  \\\n",
              "0  <a href=\"http://twitter.com/download/android\" ...  HASHTAGFARZIWAL   \n",
              "1  <a href=\"http://twitter.com/download/android\" ...   PRAMODKAUSHIK9   \n",
              "2  <a href=\"http://twitter.com/download/android\" ...  rahulja13034944   \n",
              "3  <a href=\"http://twitter.com/download/android\" ...        deeptiyvd   \n",
              "4  <a href=\"http://cpimharyana.com\" rel=\"nofollow...        CPIMBadli   \n",
              "\n",
              "   retweetCount  isRetweet  retweeted  \n",
              "0           331       True      False  \n",
              "1            66       True      False  \n",
              "2            12       True      False  \n",
              "3           338       True      False  \n",
              "4           120       True      False  "
            ],
            "text/html": [
              "\n",
              "  <div id=\"df-a477adda-e273-422e-a569-89c8976fe3a8\" class=\"colab-df-container\">\n",
              "    <div>\n",
              "<style scoped>\n",
              "    .dataframe tbody tr th:only-of-type {\n",
              "        vertical-align: middle;\n",
              "    }\n",
              "\n",
              "    .dataframe tbody tr th {\n",
              "        vertical-align: top;\n",
              "    }\n",
              "\n",
              "    .dataframe thead th {\n",
              "        text-align: right;\n",
              "    }\n",
              "</style>\n",
              "<table border=\"1\" class=\"dataframe\">\n",
              "  <thead>\n",
              "    <tr style=\"text-align: right;\">\n",
              "      <th></th>\n",
              "      <th>Unnamed: 0</th>\n",
              "      <th>X</th>\n",
              "      <th>text</th>\n",
              "      <th>favorited</th>\n",
              "      <th>favoriteCount</th>\n",
              "      <th>replyToSN</th>\n",
              "      <th>created</th>\n",
              "      <th>truncated</th>\n",
              "      <th>replyToSID</th>\n",
              "      <th>id</th>\n",
              "      <th>replyToUID</th>\n",
              "      <th>statusSource</th>\n",
              "      <th>screenName</th>\n",
              "      <th>retweetCount</th>\n",
              "      <th>isRetweet</th>\n",
              "      <th>retweeted</th>\n",
              "    </tr>\n",
              "  </thead>\n",
              "  <tbody>\n",
              "    <tr>\n",
              "      <th>0</th>\n",
              "      <td>1</td>\n",
              "      <td>1</td>\n",
              "      <td>RT @rssurjewala: Critical question: Was PayTM ...</td>\n",
              "      <td>False</td>\n",
              "      <td>0</td>\n",
              "      <td>NaN</td>\n",
              "      <td>2016-11-23 18:40:30</td>\n",
              "      <td>False</td>\n",
              "      <td>NaN</td>\n",
              "      <td>8.014957e+17</td>\n",
              "      <td>NaN</td>\n",
              "      <td>&lt;a href=\"http://twitter.com/download/android\" ...</td>\n",
              "      <td>HASHTAGFARZIWAL</td>\n",
              "      <td>331</td>\n",
              "      <td>True</td>\n",
              "      <td>False</td>\n",
              "    </tr>\n",
              "    <tr>\n",
              "      <th>1</th>\n",
              "      <td>2</td>\n",
              "      <td>2</td>\n",
              "      <td>RT @Hemant_80: Did you vote on #Demonetization...</td>\n",
              "      <td>False</td>\n",
              "      <td>0</td>\n",
              "      <td>NaN</td>\n",
              "      <td>2016-11-23 18:40:29</td>\n",
              "      <td>False</td>\n",
              "      <td>NaN</td>\n",
              "      <td>8.014957e+17</td>\n",
              "      <td>NaN</td>\n",
              "      <td>&lt;a href=\"http://twitter.com/download/android\" ...</td>\n",
              "      <td>PRAMODKAUSHIK9</td>\n",
              "      <td>66</td>\n",
              "      <td>True</td>\n",
              "      <td>False</td>\n",
              "    </tr>\n",
              "    <tr>\n",
              "      <th>2</th>\n",
              "      <td>3</td>\n",
              "      <td>3</td>\n",
              "      <td>RT @roshankar: Former FinSec, RBI Dy Governor,...</td>\n",
              "      <td>False</td>\n",
              "      <td>0</td>\n",
              "      <td>NaN</td>\n",
              "      <td>2016-11-23 18:40:03</td>\n",
              "      <td>False</td>\n",
              "      <td>NaN</td>\n",
              "      <td>8.014955e+17</td>\n",
              "      <td>NaN</td>\n",
              "      <td>&lt;a href=\"http://twitter.com/download/android\" ...</td>\n",
              "      <td>rahulja13034944</td>\n",
              "      <td>12</td>\n",
              "      <td>True</td>\n",
              "      <td>False</td>\n",
              "    </tr>\n",
              "    <tr>\n",
              "      <th>3</th>\n",
              "      <td>4</td>\n",
              "      <td>4</td>\n",
              "      <td>RT @ANI_news: Gurugram (Haryana): Post office ...</td>\n",
              "      <td>False</td>\n",
              "      <td>0</td>\n",
              "      <td>NaN</td>\n",
              "      <td>2016-11-23 18:39:59</td>\n",
              "      <td>False</td>\n",
              "      <td>NaN</td>\n",
              "      <td>8.014955e+17</td>\n",
              "      <td>NaN</td>\n",
              "      <td>&lt;a href=\"http://twitter.com/download/android\" ...</td>\n",
              "      <td>deeptiyvd</td>\n",
              "      <td>338</td>\n",
              "      <td>True</td>\n",
              "      <td>False</td>\n",
              "    </tr>\n",
              "    <tr>\n",
              "      <th>4</th>\n",
              "      <td>5</td>\n",
              "      <td>5</td>\n",
              "      <td>RT @satishacharya: Reddy Wedding! @mail_today ...</td>\n",
              "      <td>False</td>\n",
              "      <td>0</td>\n",
              "      <td>NaN</td>\n",
              "      <td>2016-11-23 18:39:39</td>\n",
              "      <td>False</td>\n",
              "      <td>NaN</td>\n",
              "      <td>8.014954e+17</td>\n",
              "      <td>NaN</td>\n",
              "      <td>&lt;a href=\"http://cpimharyana.com\" rel=\"nofollow...</td>\n",
              "      <td>CPIMBadli</td>\n",
              "      <td>120</td>\n",
              "      <td>True</td>\n",
              "      <td>False</td>\n",
              "    </tr>\n",
              "  </tbody>\n",
              "</table>\n",
              "</div>\n",
              "    <div class=\"colab-df-buttons\">\n",
              "\n",
              "  <div class=\"colab-df-container\">\n",
              "    <button class=\"colab-df-convert\" onclick=\"convertToInteractive('df-a477adda-e273-422e-a569-89c8976fe3a8')\"\n",
              "            title=\"Convert this dataframe to an interactive table.\"\n",
              "            style=\"display:none;\">\n",
              "\n",
              "  <svg xmlns=\"http://www.w3.org/2000/svg\" height=\"24px\" viewBox=\"0 -960 960 960\">\n",
              "    <path d=\"M120-120v-720h720v720H120Zm60-500h600v-160H180v160Zm220 220h160v-160H400v160Zm0 220h160v-160H400v160ZM180-400h160v-160H180v160Zm440 0h160v-160H620v160ZM180-180h160v-160H180v160Zm440 0h160v-160H620v160Z\"/>\n",
              "  </svg>\n",
              "    </button>\n",
              "\n",
              "  <style>\n",
              "    .colab-df-container {\n",
              "      display:flex;\n",
              "      gap: 12px;\n",
              "    }\n",
              "\n",
              "    .colab-df-convert {\n",
              "      background-color: #E8F0FE;\n",
              "      border: none;\n",
              "      border-radius: 50%;\n",
              "      cursor: pointer;\n",
              "      display: none;\n",
              "      fill: #1967D2;\n",
              "      height: 32px;\n",
              "      padding: 0 0 0 0;\n",
              "      width: 32px;\n",
              "    }\n",
              "\n",
              "    .colab-df-convert:hover {\n",
              "      background-color: #E2EBFA;\n",
              "      box-shadow: 0px 1px 2px rgba(60, 64, 67, 0.3), 0px 1px 3px 1px rgba(60, 64, 67, 0.15);\n",
              "      fill: #174EA6;\n",
              "    }\n",
              "\n",
              "    .colab-df-buttons div {\n",
              "      margin-bottom: 4px;\n",
              "    }\n",
              "\n",
              "    [theme=dark] .colab-df-convert {\n",
              "      background-color: #3B4455;\n",
              "      fill: #D2E3FC;\n",
              "    }\n",
              "\n",
              "    [theme=dark] .colab-df-convert:hover {\n",
              "      background-color: #434B5C;\n",
              "      box-shadow: 0px 1px 3px 1px rgba(0, 0, 0, 0.15);\n",
              "      filter: drop-shadow(0px 1px 2px rgba(0, 0, 0, 0.3));\n",
              "      fill: #FFFFFF;\n",
              "    }\n",
              "  </style>\n",
              "\n",
              "    <script>\n",
              "      const buttonEl =\n",
              "        document.querySelector('#df-a477adda-e273-422e-a569-89c8976fe3a8 button.colab-df-convert');\n",
              "      buttonEl.style.display =\n",
              "        google.colab.kernel.accessAllowed ? 'block' : 'none';\n",
              "\n",
              "      async function convertToInteractive(key) {\n",
              "        const element = document.querySelector('#df-a477adda-e273-422e-a569-89c8976fe3a8');\n",
              "        const dataTable =\n",
              "          await google.colab.kernel.invokeFunction('convertToInteractive',\n",
              "                                                    [key], {});\n",
              "        if (!dataTable) return;\n",
              "\n",
              "        const docLinkHtml = 'Like what you see? Visit the ' +\n",
              "          '<a target=\"_blank\" href=https://colab.research.google.com/notebooks/data_table.ipynb>data table notebook</a>'\n",
              "          + ' to learn more about interactive tables.';\n",
              "        element.innerHTML = '';\n",
              "        dataTable['output_type'] = 'display_data';\n",
              "        await google.colab.output.renderOutput(dataTable, element);\n",
              "        const docLink = document.createElement('div');\n",
              "        docLink.innerHTML = docLinkHtml;\n",
              "        element.appendChild(docLink);\n",
              "      }\n",
              "    </script>\n",
              "  </div>\n",
              "\n",
              "\n",
              "<div id=\"df-4cda72c7-3902-46c8-87c4-343781bdd5f5\">\n",
              "  <button class=\"colab-df-quickchart\" onclick=\"quickchart('df-4cda72c7-3902-46c8-87c4-343781bdd5f5')\"\n",
              "            title=\"Suggest charts\"\n",
              "            style=\"display:none;\">\n",
              "\n",
              "<svg xmlns=\"http://www.w3.org/2000/svg\" height=\"24px\"viewBox=\"0 0 24 24\"\n",
              "     width=\"24px\">\n",
              "    <g>\n",
              "        <path d=\"M19 3H5c-1.1 0-2 .9-2 2v14c0 1.1.9 2 2 2h14c1.1 0 2-.9 2-2V5c0-1.1-.9-2-2-2zM9 17H7v-7h2v7zm4 0h-2V7h2v10zm4 0h-2v-4h2v4z\"/>\n",
              "    </g>\n",
              "</svg>\n",
              "  </button>\n",
              "\n",
              "<style>\n",
              "  .colab-df-quickchart {\n",
              "      --bg-color: #E8F0FE;\n",
              "      --fill-color: #1967D2;\n",
              "      --hover-bg-color: #E2EBFA;\n",
              "      --hover-fill-color: #174EA6;\n",
              "      --disabled-fill-color: #AAA;\n",
              "      --disabled-bg-color: #DDD;\n",
              "  }\n",
              "\n",
              "  [theme=dark] .colab-df-quickchart {\n",
              "      --bg-color: #3B4455;\n",
              "      --fill-color: #D2E3FC;\n",
              "      --hover-bg-color: #434B5C;\n",
              "      --hover-fill-color: #FFFFFF;\n",
              "      --disabled-bg-color: #3B4455;\n",
              "      --disabled-fill-color: #666;\n",
              "  }\n",
              "\n",
              "  .colab-df-quickchart {\n",
              "    background-color: var(--bg-color);\n",
              "    border: none;\n",
              "    border-radius: 50%;\n",
              "    cursor: pointer;\n",
              "    display: none;\n",
              "    fill: var(--fill-color);\n",
              "    height: 32px;\n",
              "    padding: 0;\n",
              "    width: 32px;\n",
              "  }\n",
              "\n",
              "  .colab-df-quickchart:hover {\n",
              "    background-color: var(--hover-bg-color);\n",
              "    box-shadow: 0 1px 2px rgba(60, 64, 67, 0.3), 0 1px 3px 1px rgba(60, 64, 67, 0.15);\n",
              "    fill: var(--button-hover-fill-color);\n",
              "  }\n",
              "\n",
              "  .colab-df-quickchart-complete:disabled,\n",
              "  .colab-df-quickchart-complete:disabled:hover {\n",
              "    background-color: var(--disabled-bg-color);\n",
              "    fill: var(--disabled-fill-color);\n",
              "    box-shadow: none;\n",
              "  }\n",
              "\n",
              "  .colab-df-spinner {\n",
              "    border: 2px solid var(--fill-color);\n",
              "    border-color: transparent;\n",
              "    border-bottom-color: var(--fill-color);\n",
              "    animation:\n",
              "      spin 1s steps(1) infinite;\n",
              "  }\n",
              "\n",
              "  @keyframes spin {\n",
              "    0% {\n",
              "      border-color: transparent;\n",
              "      border-bottom-color: var(--fill-color);\n",
              "      border-left-color: var(--fill-color);\n",
              "    }\n",
              "    20% {\n",
              "      border-color: transparent;\n",
              "      border-left-color: var(--fill-color);\n",
              "      border-top-color: var(--fill-color);\n",
              "    }\n",
              "    30% {\n",
              "      border-color: transparent;\n",
              "      border-left-color: var(--fill-color);\n",
              "      border-top-color: var(--fill-color);\n",
              "      border-right-color: var(--fill-color);\n",
              "    }\n",
              "    40% {\n",
              "      border-color: transparent;\n",
              "      border-right-color: var(--fill-color);\n",
              "      border-top-color: var(--fill-color);\n",
              "    }\n",
              "    60% {\n",
              "      border-color: transparent;\n",
              "      border-right-color: var(--fill-color);\n",
              "    }\n",
              "    80% {\n",
              "      border-color: transparent;\n",
              "      border-right-color: var(--fill-color);\n",
              "      border-bottom-color: var(--fill-color);\n",
              "    }\n",
              "    90% {\n",
              "      border-color: transparent;\n",
              "      border-bottom-color: var(--fill-color);\n",
              "    }\n",
              "  }\n",
              "</style>\n",
              "\n",
              "  <script>\n",
              "    async function quickchart(key) {\n",
              "      const quickchartButtonEl =\n",
              "        document.querySelector('#' + key + ' button');\n",
              "      quickchartButtonEl.disabled = true;  // To prevent multiple clicks.\n",
              "      quickchartButtonEl.classList.add('colab-df-spinner');\n",
              "      try {\n",
              "        const charts = await google.colab.kernel.invokeFunction(\n",
              "            'suggestCharts', [key], {});\n",
              "      } catch (error) {\n",
              "        console.error('Error during call to suggestCharts:', error);\n",
              "      }\n",
              "      quickchartButtonEl.classList.remove('colab-df-spinner');\n",
              "      quickchartButtonEl.classList.add('colab-df-quickchart-complete');\n",
              "    }\n",
              "    (() => {\n",
              "      let quickchartButtonEl =\n",
              "        document.querySelector('#df-4cda72c7-3902-46c8-87c4-343781bdd5f5 button');\n",
              "      quickchartButtonEl.style.display =\n",
              "        google.colab.kernel.accessAllowed ? 'block' : 'none';\n",
              "    })();\n",
              "  </script>\n",
              "</div>\n",
              "\n",
              "    </div>\n",
              "  </div>\n"
            ],
            "application/vnd.google.colaboratory.intrinsic+json": {
              "type": "dataframe",
              "variable_name": "df",
              "summary": "{\n  \"name\": \"df\",\n  \"rows\": 14940,\n  \"fields\": [\n    {\n      \"column\": \"Unnamed: 0\",\n      \"properties\": {\n        \"dtype\": \"number\",\n        \"std\": 4312,\n        \"min\": 1,\n        \"max\": 14940,\n        \"num_unique_values\": 14940,\n        \"samples\": [\n          5504,\n          3121,\n          12154\n        ],\n        \"semantic_type\": \"\",\n        \"description\": \"\"\n      }\n    },\n    {\n      \"column\": \"X\",\n      \"properties\": {\n        \"dtype\": \"number\",\n        \"std\": 4312,\n        \"min\": 1,\n        \"max\": 14940,\n        \"num_unique_values\": 14940,\n        \"samples\": [\n          5504,\n          3121,\n          12154\n        ],\n        \"semantic_type\": \"\",\n        \"description\": \"\"\n      }\n    },\n    {\n      \"column\": \"text\",\n      \"properties\": {\n        \"dtype\": \"category\",\n        \"num_unique_values\": 5147,\n        \"samples\": [\n          \". MVenkaiahNaidu blames opposition for not allowing #Parliament to function by creating uproar over #demonetization issue.\\r\\n\\r\\n\\u0097 All India Rad\\u0085\",\n          \"@mpvadodara @CMOGuj <ed><U+00A0><U+00BD><ed><U+00B9><U+008F> Please Include World Class Milkbar AMUL &amp; Baroda Dairy's Nutritious Products to Promote Agric\\u0085 https://t.co/1nzGkSBJsl\",\n          \"#DeMonetization - Finally - No country at such a large scale has gone ahead with such a move. Give it to all us citizens who bore the pain\"\n        ],\n        \"semantic_type\": \"\",\n        \"description\": \"\"\n      }\n    },\n    {\n      \"column\": \"favorited\",\n      \"properties\": {\n        \"dtype\": \"boolean\",\n        \"num_unique_values\": 1,\n        \"samples\": [\n          false\n        ],\n        \"semantic_type\": \"\",\n        \"description\": \"\"\n      }\n    },\n    {\n      \"column\": \"favoriteCount\",\n      \"properties\": {\n        \"dtype\": \"number\",\n        \"std\": 28,\n        \"min\": 0,\n        \"max\": 3166,\n        \"num_unique_values\": 85,\n        \"samples\": [\n          46\n        ],\n        \"semantic_type\": \"\",\n        \"description\": \"\"\n      }\n    },\n    {\n      \"column\": \"replyToSN\",\n      \"properties\": {\n        \"dtype\": \"category\",\n        \"num_unique_values\": 673,\n        \"samples\": [\n          \"anshud2843\"\n        ],\n        \"semantic_type\": \"\",\n        \"description\": \"\"\n      }\n    },\n    {\n      \"column\": \"created\",\n      \"properties\": {\n        \"dtype\": \"object\",\n        \"num_unique_values\": 14133,\n        \"samples\": [\n          \"2016-11-22 11:47:10\"\n        ],\n        \"semantic_type\": \"\",\n        \"description\": \"\"\n      }\n    },\n    {\n      \"column\": \"truncated\",\n      \"properties\": {\n        \"dtype\": \"boolean\",\n        \"num_unique_values\": 2,\n        \"samples\": [\n          true\n        ],\n        \"semantic_type\": \"\",\n        \"description\": \"\"\n      }\n    },\n    {\n      \"column\": \"replyToSID\",\n      \"properties\": {\n        \"dtype\": \"number\",\n        \"std\": 3.880259778636754e+16,\n        \"min\": 22096326007.0,\n        \"max\": 8.554541262760837e+17,\n        \"num_unique_values\": 834,\n        \"samples\": [\n          8.531224284735488e+17\n        ],\n        \"semantic_type\": \"\",\n        \"description\": \"\"\n      }\n    },\n    {\n      \"column\": \"id\",\n      \"properties\": {\n        \"dtype\": \"number\",\n        \"std\": 2.6103405589334468e+16,\n        \"min\": 8.010167637227969e+17,\n        \"max\": 8.554728794078167e+17,\n        \"num_unique_values\": 14940,\n        \"samples\": [\n          8.011364320561478e+17\n        ],\n        \"semantic_type\": \"\",\n        \"description\": \"\"\n      }\n    },\n    {\n      \"column\": \"replyToUID\",\n      \"properties\": {\n        \"dtype\": \"number\",\n        \"std\": 1.7969122325494813e+17,\n        \"min\": 1917731.0,\n        \"max\": 8.542509997662413e+17,\n        \"num_unique_values\": 673,\n        \"samples\": [\n          1602416263.0\n        ],\n        \"semantic_type\": \"\",\n        \"description\": \"\"\n      }\n    },\n    {\n      \"column\": \"statusSource\",\n      \"properties\": {\n        \"dtype\": \"category\",\n        \"num_unique_values\": 144,\n        \"samples\": [\n          \"<a href=\\\"https://github.com/mariotaku/twidere/\\\" rel=\\\"nofollow\\\">Twidere for Android #7</a>\"\n        ],\n        \"semantic_type\": \"\",\n        \"description\": \"\"\n      }\n    },\n    {\n      \"column\": \"screenName\",\n      \"properties\": {\n        \"dtype\": \"string\",\n        \"num_unique_values\": 11259,\n        \"samples\": [\n          \"malstronikus\"\n        ],\n        \"semantic_type\": \"\",\n        \"description\": \"\"\n      }\n    },\n    {\n      \"column\": \"retweetCount\",\n      \"properties\": {\n        \"dtype\": \"number\",\n        \"std\": 411,\n        \"min\": 0,\n        \"max\": 5170,\n        \"num_unique_values\": 220,\n        \"samples\": [\n          456\n        ],\n        \"semantic_type\": \"\",\n        \"description\": \"\"\n      }\n    },\n    {\n      \"column\": \"isRetweet\",\n      \"properties\": {\n        \"dtype\": \"boolean\",\n        \"num_unique_values\": 2,\n        \"samples\": [\n          false\n        ],\n        \"semantic_type\": \"\",\n        \"description\": \"\"\n      }\n    },\n    {\n      \"column\": \"retweeted\",\n      \"properties\": {\n        \"dtype\": \"boolean\",\n        \"num_unique_values\": 1,\n        \"samples\": [\n          false\n        ],\n        \"semantic_type\": \"\",\n        \"description\": \"\"\n      }\n    }\n  ]\n}"
            }
          },
          "metadata": {},
          "execution_count": 2
        }
      ]
    },
    {
      "cell_type": "code",
      "source": [
        "##looking at some tweets\n",
        "for tweet in df[\"text\"].iloc[0:20]:\n",
        "  print(tweet)\n",
        "  print(\"===============\")"
      ],
      "metadata": {
        "colab": {
          "base_uri": "https://localhost:8080/"
        },
        "id": "aLAnU6_AFHbz",
        "outputId": "9f0f745c-f3d3-44e0-be28-7b46ef58ddf5"
      },
      "execution_count": null,
      "outputs": [
        {
          "output_type": "stream",
          "name": "stdout",
          "text": [
            "RT @rssurjewala: Critical question: Was PayTM informed about #Demonetization edict by PM? It's clearly fishy and requires full disclosure &amp;\n",
            "===============\n",
            "RT @Hemant_80: Did you vote on #Demonetization on Modi survey app?\n",
            "===============\n",
            "RT @roshankar: Former FinSec, RBI Dy Governor, CBDT Chair + Harvard Professor lambaste #Demonetization.\r\n",
            "\r\n",
            "If not for Aam Aadmi, listen to th\n",
            "===============\n",
            "RT @ANI_news: Gurugram (Haryana): Post office employees provide cash exchange to patients in hospitals #demonetization https://t.co/uGMxUP9\n",
            "===============\n",
            "RT @satishacharya: Reddy Wedding! @mail_today cartoon #demonetization #ReddyWedding https://t.co/u7gLNrq31F\n",
            "===============\n",
            "@DerekScissors1: Indias #demonetization: #Blackmoney a symptom, not the disease https://t.co/HSl6Ihj0Qe via @ambazaarmag\n",
            "===============\n",
            "RT @gauravcsawant: Rs 40 lakh looted from a bank in Kishtwar in J&amp;K. Third such incident since #demonetization. That's how terrorists have\n",
            "===============\n",
            "RT @Joydeep_911: Calling all Nationalists to join...\r\n",
            "Walk for #CorruptionFreeIndia and spread the benefits of #Demonetization among the mas\n",
            "===============\n",
            "RT @sumitbhati2002: Many opposition leaders are with @narendramodi on the #Demonetization \r\n",
            "And respect their decision,but support oppositio\n",
            "===============\n",
            "National reform now destroyed even the essence of sagan. Such instances urge giving #demonetization a second though https://t.co/eyySIREiUq\n",
            "===============\n",
            "Many opposition leaders are with @narendramodi on the #Demonetization \r\n",
            "And respect their decision,but support opposition just b'coz of party\n",
            "===============\n",
            "RT @Joydas: Question in Narendra Modi App where PM is taking feedback if people support his #DeMonetization strategy https://t.co/pYgK8Rmg7r\n",
            "===============\n",
            "@Jaggesh2 Bharat band on 28??<ed><U+00A0><U+00BD><ed><U+00B8><U+0082>Those who  are protesting #demonetization  are all different party leaders.\n",
            "===============\n",
            "RT @Atheist_Krishna: The effect of #Demonetization !!\r\n",
            ". https://t.co/A8of7zh2f5\n",
            "===============\n",
            "RT @sona2905: When I explained #Demonetization to myself and tried to put it down in my words which are not laced with any heavy technical\n",
            "===============\n",
            "RT @Dipankar_cpiml: The Modi app on #DeMonetization proves once again that the govt is totally indifferent to the mounting misery and hards\n",
            "===============\n",
            "RT @roshankar: Former FinSec, RBI Dy Governor, CBDT Chair + Harvard Professor lambaste #Demonetization.\r\n",
            "\r\n",
            "If not for Aam Aadmi, listen to th\n",
            "===============\n",
            "RT @Atheist_Krishna: BEFORE and AFTER Gandhi ji heard they are standing there against #Demonetization\r\n",
            ". https://t.co/9NheK63TPg\n",
            "===============\n",
            "RT @pGurus1: #Demonetization The co-operative banking sector in Kerala is as good as a tax haven. Is Kerala a Black Money HQ? https://t.co/\n",
            "===============\n",
            "RT @roshankar: Former FinSec, RBI Dy Governor, CBDT Chair + Harvard Professor lambaste #Demonetization.\r\n",
            "\r\n",
            "If not for Aam Aadmi, listen to th\n",
            "===============\n"
          ]
        }
      ]
    },
    {
      "cell_type": "markdown",
      "source": [
        "#### Removing RT from each Tweet using REgex"
      ],
      "metadata": {
        "id": "Iop1TMZDGq3t"
      }
    },
    {
      "cell_type": "code",
      "source": [
        "###using apply function in pandas\n",
        "\n",
        "df[\"text\"]=df[\"text\"].apply(lambda x:re.sub(\"RT \",\"\",x))\n",
        "df[\"text\"]"
      ],
      "metadata": {
        "colab": {
          "base_uri": "https://localhost:8080/"
        },
        "id": "Bsj6E2t7FHYh",
        "outputId": "525e2ff8-08dc-4e12-ebe6-d6a1494edf73"
      },
      "execution_count": null,
      "outputs": [
        {
          "output_type": "execute_result",
          "data": {
            "text/plain": [
              "0        @rssurjewala: Critical question: Was PayTM inf...\n",
              "1        @Hemant_80: Did you vote on #Demonetization on...\n",
              "2        @roshankar: Former FinSec, RBI Dy Governor, CB...\n",
              "3        @ANI_news: Gurugram (Haryana): Post office emp...\n",
              "4        @satishacharya: Reddy Wedding! @mail_today car...\n",
              "                               ...                        \n",
              "14935    @saxenavishakha: Ghost of demonetization retur...\n",
              "14936    N d modi fans-d true nationalists of the count...\n",
              "14937    @bharat_builder: Lol. Demonetization has fixed...\n",
              "14938    @Stupidosaur: @Vidyut B team of BJP. CIA baby....\n",
              "14939    @Vidyut B team of BJP. CIA baby. CCTV, EVM but...\n",
              "Name: text, Length: 14940, dtype: object"
            ]
          },
          "metadata": {},
          "execution_count": 4
        }
      ]
    },
    {
      "cell_type": "markdown",
      "source": [
        "### Removing <U+...> like Symbols"
      ],
      "metadata": {
        "id": "HszhcSYKIMOy"
      }
    },
    {
      "cell_type": "code",
      "source": [
        "string=\"@Jaggesh2 Bharat band on 28??<ed><U+00A0><U+00BD><ed><U+00B8><U+0082>Those who  are protesting #demonetization  are all different party leaders.\"\n",
        "pattern='<U\\+[A-Z0-9]+>'\n",
        "re.sub(pattern,\"\",string)"
      ],
      "metadata": {
        "colab": {
          "base_uri": "https://localhost:8080/",
          "height": 36
        },
        "id": "4kEGU8OEFHVp",
        "outputId": "6d311a7b-9b9c-47e8-a43a-2c0351a64153"
      },
      "execution_count": null,
      "outputs": [
        {
          "output_type": "execute_result",
          "data": {
            "text/plain": [
              "'@Jaggesh2 Bharat band on 28??<ed><ed>Those who  are protesting #demonetization  are all different party leaders.'"
            ],
            "application/vnd.google.colaboratory.intrinsic+json": {
              "type": "string"
            }
          },
          "metadata": {},
          "execution_count": 5
        }
      ]
    },
    {
      "cell_type": "markdown",
      "source": [
        "Now we will apply same function to all of text column\n"
      ],
      "metadata": {
        "id": "pdJ2ii9_xxA6"
      }
    },
    {
      "cell_type": "code",
      "source": [
        "df[\"text\"]=df[\"text\"].apply(lambda x:re.sub('<U\\+[A-Z0-9]+>','',x))\n",
        "df[\"text\"]"
      ],
      "metadata": {
        "id": "peGclKs1FHSR",
        "colab": {
          "base_uri": "https://localhost:8080/"
        },
        "outputId": "def121e9-228b-4113-e17a-00d91132fe51"
      },
      "execution_count": null,
      "outputs": [
        {
          "output_type": "execute_result",
          "data": {
            "text/plain": [
              "0        @rssurjewala: Critical question: Was PayTM inf...\n",
              "1        @Hemant_80: Did you vote on #Demonetization on...\n",
              "2        @roshankar: Former FinSec, RBI Dy Governor, CB...\n",
              "3        @ANI_news: Gurugram (Haryana): Post office emp...\n",
              "4        @satishacharya: Reddy Wedding! @mail_today car...\n",
              "                               ...                        \n",
              "14935    @saxenavishakha: Ghost of demonetization retur...\n",
              "14936    N d modi fans-d true nationalists of the count...\n",
              "14937    @bharat_builder: Lol. Demonetization has fixed...\n",
              "14938    @Stupidosaur: @Vidyut B team of BJP. CIA baby....\n",
              "14939    @Vidyut B team of BJP. CIA baby. CCTV, EVM but...\n",
              "Name: text, Length: 14940, dtype: object"
            ]
          },
          "metadata": {},
          "execution_count": 6
        }
      ]
    },
    {
      "cell_type": "markdown",
      "source": [
        "### Removing `<ed>` types of tags from tweets"
      ],
      "metadata": {
        "id": "-z_hiMKE0Oqd"
      }
    },
    {
      "cell_type": "code",
      "source": [
        "string=\"@Jaggesh2 Bharat band on 28??<ed><ed>Those who  are protesting #demonetization  are all different party leaders.\"\n",
        "re.sub(\"<ed>\",\"\",string)"
      ],
      "metadata": {
        "id": "szSj9PQnFHO5",
        "colab": {
          "base_uri": "https://localhost:8080/",
          "height": 36
        },
        "outputId": "4930b90f-0df0-46ac-df88-b1740ae1c915"
      },
      "execution_count": null,
      "outputs": [
        {
          "output_type": "execute_result",
          "data": {
            "text/plain": [
              "'@Jaggesh2 Bharat band on 28??Those who  are protesting #demonetization  are all different party leaders.'"
            ],
            "application/vnd.google.colaboratory.intrinsic+json": {
              "type": "string"
            }
          },
          "metadata": {},
          "execution_count": 7
        }
      ]
    },
    {
      "cell_type": "code",
      "source": [
        "##applying on thetext column\n",
        "df[\"text\"]=df[\"text\"].apply(lambda x:re.sub(\"<ed>\",\"\",x))\n",
        "df[\"text\"]"
      ],
      "metadata": {
        "id": "HbrzjyhJFHLQ",
        "colab": {
          "base_uri": "https://localhost:8080/"
        },
        "outputId": "4a7273a3-66e5-441c-aa41-753592f9d2dd"
      },
      "execution_count": null,
      "outputs": [
        {
          "output_type": "execute_result",
          "data": {
            "text/plain": [
              "0        @rssurjewala: Critical question: Was PayTM inf...\n",
              "1        @Hemant_80: Did you vote on #Demonetization on...\n",
              "2        @roshankar: Former FinSec, RBI Dy Governor, CB...\n",
              "3        @ANI_news: Gurugram (Haryana): Post office emp...\n",
              "4        @satishacharya: Reddy Wedding! @mail_today car...\n",
              "                               ...                        \n",
              "14935    @saxenavishakha: Ghost of demonetization retur...\n",
              "14936    N d modi fans-d true nationalists of the count...\n",
              "14937    @bharat_builder: Lol. Demonetization has fixed...\n",
              "14938    @Stupidosaur: @Vidyut B team of BJP. CIA baby....\n",
              "14939    @Vidyut B team of BJP. CIA baby. CCTV, EVM but...\n",
              "Name: text, Length: 14940, dtype: object"
            ]
          },
          "metadata": {},
          "execution_count": 8
        }
      ]
    },
    {
      "cell_type": "markdown",
      "source": [
        "### Regex for text data extraction\n",
        "#### Extracting Platform type of tweets"
      ],
      "metadata": {
        "id": "nVRbCzJD3Riw"
      }
    },
    {
      "cell_type": "code",
      "source": [
        "for tweet in df[\"statusSource\"][:15]:\n",
        "  print(tweet)\n",
        "  print(\"======\")"
      ],
      "metadata": {
        "id": "BGW5cdm1FHHR",
        "colab": {
          "base_uri": "https://localhost:8080/"
        },
        "outputId": "ec759ee6-78a8-4076-ad27-ef14b74339eb"
      },
      "execution_count": null,
      "outputs": [
        {
          "output_type": "stream",
          "name": "stdout",
          "text": [
            "<a href=\"http://twitter.com/download/android\" rel=\"nofollow\">Twitter for Android</a>\n",
            "======\n",
            "<a href=\"http://twitter.com/download/android\" rel=\"nofollow\">Twitter for Android</a>\n",
            "======\n",
            "<a href=\"http://twitter.com/download/android\" rel=\"nofollow\">Twitter for Android</a>\n",
            "======\n",
            "<a href=\"http://twitter.com/download/android\" rel=\"nofollow\">Twitter for Android</a>\n",
            "======\n",
            "<a href=\"http://cpimharyana.com\" rel=\"nofollow\">CPIMBadli</a>\n",
            "======\n",
            "<a href=\"http://twitter.com\" rel=\"nofollow\">Twitter Web Client</a>\n",
            "======\n",
            "<a href=\"http://twitter.com/download/android\" rel=\"nofollow\">Twitter for Android</a>\n",
            "======\n",
            "<a href=\"http://twitter.com/download/android\" rel=\"nofollow\">Twitter for Android</a>\n",
            "======\n",
            "<a href=\"http://twitter.com/download/android\" rel=\"nofollow\">Twitter for Android</a>\n",
            "======\n",
            "<a href=\"https://mobile.twitter.com\" rel=\"nofollow\">Mobile Web (M5)</a>\n",
            "======\n",
            "<a href=\"http://twitter.com/download/android\" rel=\"nofollow\">Twitter for Android</a>\n",
            "======\n",
            "<a href=\"http://twitter.com/download/android\" rel=\"nofollow\">Twitter for Android</a>\n",
            "======\n",
            "<a href=\"http://twitter.com/download/android\" rel=\"nofollow\">Twitter for Android</a>\n",
            "======\n",
            "<a href=\"http://twitter.com/download/android\" rel=\"nofollow\">Twitter for Android</a>\n",
            "======\n",
            "<a href=\"http://twitter.com/download/iphone\" rel=\"nofollow\">Twitter for iPhone</a>\n",
            "======\n"
          ]
        }
      ]
    },
    {
      "cell_type": "code",
      "source": [
        "platform_count=df[\"statusSource\"].value_counts()\n",
        "platform_count"
      ],
      "metadata": {
        "colab": {
          "base_uri": "https://localhost:8080/"
        },
        "id": "loZ-PoI24jg_",
        "outputId": "2817909c-272d-4ebd-9ac5-53e2169d6ed3"
      },
      "execution_count": null,
      "outputs": [
        {
          "output_type": "execute_result",
          "data": {
            "text/plain": [
              "<a href=\"http://twitter.com/download/android\" rel=\"nofollow\">Twitter for Android</a>      7642\n",
              "<a href=\"http://twitter.com\" rel=\"nofollow\">Twitter Web Client</a>                        2548\n",
              "<a href=\"http://twitter.com/download/iphone\" rel=\"nofollow\">Twitter for iPhone</a>        2093\n",
              "<a href=\"https://about.twitter.com/products/tweetdeck\" rel=\"nofollow\">TweetDeck</a>        492\n",
              "<a href=\"https://mobile.twitter.com\" rel=\"nofollow\">Twitter Lite</a>                       263\n",
              "                                                                                          ... \n",
              "<a href=\"http://pnllg.com\" rel=\"nofollow\">PNLLG </a>                                         1\n",
              "<a href=\"http://www.toi.in\" rel=\"nofollow\">cmssocialservice</a>                              1\n",
              "<a href=\"http://sites.google.com/site/yorufukurou/\" rel=\"nofollow\">YoruFukurou</a>           1\n",
              "<a href=\"https://panel.socialpilot.co/\" rel=\"nofollow\">SocialPilot.co</a>                    1\n",
              "<a href=\"https://twitter.com/download/android\" rel=\"nofollow\">Twitter for  Android</a>       1\n",
              "Name: statusSource, Length: 144, dtype: int64"
            ]
          },
          "metadata": {},
          "execution_count": 10
        }
      ]
    },
    {
      "cell_type": "code",
      "source": [
        "top_platforms=platform_count.loc[platform_count>100]\n",
        "top_platforms"
      ],
      "metadata": {
        "colab": {
          "base_uri": "https://localhost:8080/"
        },
        "id": "0EGlproH42DR",
        "outputId": "45411eff-4288-4b8a-897f-0f33fd04a948"
      },
      "execution_count": null,
      "outputs": [
        {
          "output_type": "execute_result",
          "data": {
            "text/plain": [
              "<a href=\"http://twitter.com/download/android\" rel=\"nofollow\">Twitter for Android</a>    7642\n",
              "<a href=\"http://twitter.com\" rel=\"nofollow\">Twitter Web Client</a>                      2548\n",
              "<a href=\"http://twitter.com/download/iphone\" rel=\"nofollow\">Twitter for iPhone</a>      2093\n",
              "<a href=\"https://about.twitter.com/products/tweetdeck\" rel=\"nofollow\">TweetDeck</a>      492\n",
              "<a href=\"https://mobile.twitter.com\" rel=\"nofollow\">Twitter Lite</a>                     263\n",
              "<a href=\"https://mobile.twitter.com\" rel=\"nofollow\">Mobile Web (M5)</a>                  178\n",
              "<a href=\"http://www.facebook.com/twitter\" rel=\"nofollow\">Facebook</a>                    167\n",
              "<a href=\"http://twitter.com/#!/download/ipad\" rel=\"nofollow\">Twitter for iPad</a>        165\n",
              "<a href=\"http://www.twitter.com\" rel=\"nofollow\">Twitter for Windows Phone</a>            139\n",
              "<a href=\"http://onlywire.com/\" rel=\"nofollow\">OnlyWire / Official App</a>                136\n",
              "<a href=\"http://www.twitter.com\" rel=\"nofollow\">Twitter for Windows</a>                  110\n",
              "<a href=\"https://mobile.twitter.com\" rel=\"nofollow\">Mobile Web (M2)</a>                  105\n",
              "<a href=\"http://www.google.com/\" rel=\"nofollow\">Google</a>                               101\n",
              "Name: statusSource, dtype: int64"
            ]
          },
          "metadata": {},
          "execution_count": 11
        }
      ]
    },
    {
      "cell_type": "code",
      "source": [
        "def platform(x):\n",
        "  ser=re.search(\"Android|Web|iPhone|Mobile|iPad|Windows|Google|Facebook|OnlyWire\",x,re.IGNORECASE)\n",
        "  if ser:\n",
        "    return ser.group()\n",
        "  else:\n",
        "    return None"
      ],
      "metadata": {
        "id": "ZKr5o5MK6FNV"
      },
      "execution_count": null,
      "outputs": []
    },
    {
      "cell_type": "code",
      "source": [
        "##resetting the index\n",
        "top_platforms=top_platforms.reset_index()[\"index\"]\n",
        "\n",
        "##extracting platform types\n",
        "top_platforms.apply(platform)"
      ],
      "metadata": {
        "colab": {
          "base_uri": "https://localhost:8080/"
        },
        "id": "n4VrzlRo89--",
        "outputId": "9f151710-277b-42e9-a5b6-486e622a8e75"
      },
      "execution_count": null,
      "outputs": [
        {
          "output_type": "execute_result",
          "data": {
            "text/plain": [
              "0      android\n",
              "1          Web\n",
              "2       iphone\n",
              "3         None\n",
              "4       mobile\n",
              "5       mobile\n",
              "6     facebook\n",
              "7         ipad\n",
              "8      Windows\n",
              "9     onlywire\n",
              "10     Windows\n",
              "11      mobile\n",
              "12      google\n",
              "Name: index, dtype: object"
            ]
          },
          "metadata": {},
          "execution_count": 13
        }
      ]
    },
    {
      "cell_type": "markdown",
      "source": [
        "#### Extracting hashtags"
      ],
      "metadata": {
        "id": "xvjncpk0-JwF"
      }
    },
    {
      "cell_type": "code",
      "source": [
        "df[\"text\"][0]"
      ],
      "metadata": {
        "colab": {
          "base_uri": "https://localhost:8080/",
          "height": 53
        },
        "id": "QPB_zpYe9Uro",
        "outputId": "0a814080-8557-4d37-d48a-a27c1e11e475"
      },
      "execution_count": null,
      "outputs": [
        {
          "output_type": "execute_result",
          "data": {
            "text/plain": [
              "\"@rssurjewala: Critical question: Was PayTM informed about #Demonetization edict by PM? It's clearly fishy and requires full disclosure &amp;\\x85\""
            ],
            "application/vnd.google.colaboratory.intrinsic+json": {
              "type": "string"
            }
          },
          "metadata": {},
          "execution_count": 14
        }
      ]
    },
    {
      "cell_type": "code",
      "source": [
        "###extracting hastag from a tweet\n",
        "tweet=\"@rssurjewala: Critical question: Was PayTM informed about #Demonetization edict by PM? It's clearly fishy and requires full disclosure &amp;\\x85\"\n",
        "hashtag=re.search(\"#\\w+\",tweet)\n",
        "hashtag.group()"
      ],
      "metadata": {
        "colab": {
          "base_uri": "https://localhost:8080/",
          "height": 36
        },
        "id": "hYjoMSpg-fJY",
        "outputId": "6b1a383e-34e5-48b7-8bb8-270355057c8a"
      },
      "execution_count": null,
      "outputs": [
        {
          "output_type": "execute_result",
          "data": {
            "text/plain": [
              "'#Demonetization'"
            ],
            "application/vnd.google.colaboratory.intrinsic+json": {
              "type": "string"
            }
          },
          "metadata": {},
          "execution_count": 15
        }
      ]
    },
    {
      "cell_type": "code",
      "source": [
        "##extracting multiple hashtags from tweets\n",
        "df[\"text\"].apply(lambda x:re.findall(\"#\\w+\",x))"
      ],
      "metadata": {
        "colab": {
          "base_uri": "https://localhost:8080/"
        },
        "id": "W5NKTLaH_1IY",
        "outputId": "0dbc5c2d-c41f-4d0d-d33a-ec87ce4dd396"
      },
      "execution_count": null,
      "outputs": [
        {
          "output_type": "execute_result",
          "data": {
            "text/plain": [
              "0                       [#Demonetization]\n",
              "1                       [#Demonetization]\n",
              "2                       [#Demonetization]\n",
              "3                       [#demonetization]\n",
              "4        [#demonetization, #ReddyWedding]\n",
              "                       ...               \n",
              "14935                                  []\n",
              "14936                                  []\n",
              "14937                                  []\n",
              "14938                                  []\n",
              "14939                                  []\n",
              "Name: text, Length: 14940, dtype: object"
            ]
          },
          "metadata": {},
          "execution_count": 16
        }
      ]
    },
    {
      "cell_type": "markdown",
      "source": [
        "### Removing URLS from tweet"
      ],
      "metadata": {
        "id": "AVEBt7rLMTEI"
      }
    },
    {
      "cell_type": "code",
      "source": [
        "df[\"text\"].apply(lambda x:re.findall(\"http[s]?://[A-Za-z0-9\\.-/]+\",x))"
      ],
      "metadata": {
        "id": "z-1HECykAHq2",
        "colab": {
          "base_uri": "https://localhost:8080/"
        },
        "outputId": "a55b5997-bb57-4c63-80a0-ee6a25cb5579"
      },
      "execution_count": null,
      "outputs": [
        {
          "output_type": "execute_result",
          "data": {
            "text/plain": [
              "0                               []\n",
              "1                               []\n",
              "2                               []\n",
              "3           [https://t.co/uGMxUP9]\n",
              "4        [https://t.co/u7gLNrq31F]\n",
              "                   ...            \n",
              "14935    [https://t.co/kQsBesTIUs]\n",
              "14936    [https://t.co/9mgMEFu2sl]\n",
              "14937                           []\n",
              "14938                           []\n",
              "14939    [https://t.co/hwgqjbqgvG]\n",
              "Name: text, Length: 14940, dtype: object"
            ]
          },
          "metadata": {},
          "execution_count": 17
        }
      ]
    },
    {
      "cell_type": "code",
      "source": [
        "##removing urls from all the tweets\n",
        "df[\"text\"]=df[\"text\"].apply(lambda x:re.sub(\"http[s]?://[A-Za-z0-9\\.-/]+\",\"\",x))\n",
        "df[\"text\"]"
      ],
      "metadata": {
        "colab": {
          "base_uri": "https://localhost:8080/"
        },
        "id": "jKtaejP9NKID",
        "outputId": "87589b58-3eb0-4f5c-b6cc-0770c655f2d5"
      },
      "execution_count": null,
      "outputs": [
        {
          "output_type": "execute_result",
          "data": {
            "text/plain": [
              "0        @rssurjewala: Critical question: Was PayTM inf...\n",
              "1        @Hemant_80: Did you vote on #Demonetization on...\n",
              "2        @roshankar: Former FinSec, RBI Dy Governor, CB...\n",
              "3        @ANI_news: Gurugram (Haryana): Post office emp...\n",
              "4        @satishacharya: Reddy Wedding! @mail_today car...\n",
              "                               ...                        \n",
              "14935    @saxenavishakha: Ghost of demonetization retur...\n",
              "14936    N d modi fans-d true nationalists of the count...\n",
              "14937    @bharat_builder: Lol. Demonetization has fixed...\n",
              "14938    @Stupidosaur: @Vidyut B team of BJP. CIA baby....\n",
              "14939    @Vidyut B team of BJP. CIA baby. CCTV, EVM but...\n",
              "Name: text, Length: 14940, dtype: object"
            ]
          },
          "metadata": {},
          "execution_count": 18
        }
      ]
    },
    {
      "cell_type": "code",
      "source": [
        "df[\"text\"][14935]"
      ],
      "metadata": {
        "colab": {
          "base_uri": "https://localhost:8080/",
          "height": 36
        },
        "id": "DoeKjLvzNotp",
        "outputId": "3d6e3d6d-f128-41f2-a0df-e9f184bb54dd"
      },
      "execution_count": null,
      "outputs": [
        {
          "output_type": "execute_result",
          "data": {
            "text/plain": [
              "'@saxenavishakha: Ghost of demonetization returns with reports of cash crunch across the country '"
            ],
            "application/vnd.google.colaboratory.intrinsic+json": {
              "type": "string"
            }
          },
          "metadata": {},
          "execution_count": 19
        }
      ]
    },
    {
      "cell_type": "markdown",
      "source": [
        "### Extracting mentions from tweets\n",
        "### And getting Top 100 mentions"
      ],
      "metadata": {
        "id": "ycM5kwWrN5wf"
      }
    },
    {
      "cell_type": "code",
      "source": [
        "mentions=df[\"text\"].apply(lambda x:re.findall(\"@\\w+\",x))\n",
        "mentions"
      ],
      "metadata": {
        "colab": {
          "base_uri": "https://localhost:8080/"
        },
        "id": "TZoa-6THNx4j",
        "outputId": "b9e9ac7e-7a66-49e4-a3df-1ecee238db4c"
      },
      "execution_count": null,
      "outputs": [
        {
          "output_type": "execute_result",
          "data": {
            "text/plain": [
              "0                       [@rssurjewala]\n",
              "1                         [@Hemant_80]\n",
              "2                         [@roshankar]\n",
              "3                          [@ANI_news]\n",
              "4        [@satishacharya, @mail_today]\n",
              "                     ...              \n",
              "14935                [@saxenavishakha]\n",
              "14936                               []\n",
              "14937                [@bharat_builder]\n",
              "14938          [@Stupidosaur, @Vidyut]\n",
              "14939                        [@Vidyut]\n",
              "Name: text, Length: 14940, dtype: object"
            ]
          },
          "metadata": {},
          "execution_count": 21
        }
      ]
    },
    {
      "cell_type": "code",
      "source": [
        "exploded_mentions=mentions.explode()\n",
        "exploded_mentions"
      ],
      "metadata": {
        "colab": {
          "base_uri": "https://localhost:8080/"
        },
        "id": "T_u6FtfuOdvx",
        "outputId": "304707f0-c753-435d-a32d-4c9a6bfbfb7d"
      },
      "execution_count": null,
      "outputs": [
        {
          "output_type": "execute_result",
          "data": {
            "text/plain": [
              "0           @rssurjewala\n",
              "1             @Hemant_80\n",
              "2             @roshankar\n",
              "3              @ANI_news\n",
              "4         @satishacharya\n",
              "              ...       \n",
              "14936                NaN\n",
              "14937    @bharat_builder\n",
              "14938       @Stupidosaur\n",
              "14938            @Vidyut\n",
              "14939            @Vidyut\n",
              "Name: text, Length: 21123, dtype: object"
            ]
          },
          "metadata": {},
          "execution_count": 23
        }
      ]
    },
    {
      "cell_type": "code",
      "source": [
        "print(exploded_mentions.value_counts().nlargest(100))"
      ],
      "metadata": {
        "colab": {
          "base_uri": "https://localhost:8080/"
        },
        "id": "Ol1rAVpePSD4",
        "outputId": "72492cf4-0dc6-4fb7-a54c-81b6a2356344"
      },
      "execution_count": null,
      "outputs": [
        {
          "output_type": "stream",
          "name": "stdout",
          "text": [
            "@evanspiegel        1311\n",
            "@URautelaForever    1273\n",
            "@narendramodi       1138\n",
            "@gauravcsawant       541\n",
            "@ModiBharosa         540\n",
            "                    ... \n",
            "@rupasubramanya       30\n",
            "@hi_paresh            30\n",
            "@sanjayuv             30\n",
            "@upma23               29\n",
            "@MinhazMerchant       29\n",
            "Name: text, Length: 100, dtype: int64\n"
          ]
        }
      ]
    },
    {
      "cell_type": "markdown",
      "source": [
        "## TOKENIZATION"
      ],
      "metadata": {
        "id": "YH6vks7eQU6c"
      }
    },
    {
      "cell_type": "code",
      "source": [
        "text=\"I'm working as a Data Scientist in the U.S. and earning $160,000.\""
      ],
      "metadata": {
        "id": "aRWTMxGSPh4B"
      },
      "execution_count": null,
      "outputs": []
    },
    {
      "cell_type": "code",
      "source": [
        "### whiteSpace Tokenizer\n",
        "print(text.split())"
      ],
      "metadata": {
        "colab": {
          "base_uri": "https://localhost:8080/"
        },
        "id": "0vTFmzO1Tac4",
        "outputId": "13ee0858-26ad-408a-b573-31f90736290a"
      },
      "execution_count": null,
      "outputs": [
        {
          "output_type": "stream",
          "name": "stdout",
          "text": [
            "[\"I'm\", 'working', 'as', 'a', 'Data', 'Scientist', 'in', 'the', 'U.S.', 'and', 'earning', '$160,000.']\n"
          ]
        }
      ]
    },
    {
      "cell_type": "markdown",
      "source": [
        "- We are going to use Spacy for tokenization\n",
        "\n",
        "\n",
        "\n",
        "Models in spaCy for English Language as of release 2.3.1:\n",
        "- **en_core_web_sm:** 11MB\n",
        "- **en_core_web_md:** 48MB\n",
        "- **en_core_web_lg:** 746MB"
      ],
      "metadata": {
        "id": "Wvyy2PCMTw67"
      }
    },
    {
      "cell_type": "code",
      "source": [
        "#loading model\n",
        "nlp=spacy.load(\"en_core_web_sm\")\n",
        "\n",
        "\n",
        "## creating the doc object\n",
        "doc=nlp(text)\n",
        "print(\"the doc object  is :\",doc)\n",
        "print(\"the typeof doc object is :\",type(doc))"
      ],
      "metadata": {
        "colab": {
          "base_uri": "https://localhost:8080/"
        },
        "id": "3Fv0Xxm0Tl9C",
        "outputId": "fb79aac2-abd4-4926-d342-0d81ca57e7ca"
      },
      "execution_count": null,
      "outputs": [
        {
          "output_type": "stream",
          "name": "stdout",
          "text": [
            "the doc object  is : I'm working as a Data Scientist in the U.S. and earning $160,000.\n",
            "the typeof doc object is : <class 'spacy.tokens.doc.Doc'>\n"
          ]
        }
      ]
    },
    {
      "cell_type": "code",
      "source": [
        "### Spacy Tokenizer\n",
        "print([token for token in doc])"
      ],
      "metadata": {
        "colab": {
          "base_uri": "https://localhost:8080/"
        },
        "id": "cJHWSqkvUwSi",
        "outputId": "609870bf-098e-46c3-9aad-ab4f9d18cc38"
      },
      "execution_count": null,
      "outputs": [
        {
          "output_type": "stream",
          "name": "stdout",
          "text": [
            "[I, 'm, working, as, a, Data, Scientist, in, the, U.S., and, earning, $, 160,000, .]\n"
          ]
        }
      ]
    },
    {
      "cell_type": "markdown",
      "source": [
        "-Here we can see that Spacy tokenizer works better as it is condiering $ as a separate token  and period as a separate token also."
      ],
      "metadata": {
        "id": "682BOU9SVZwY"
      }
    },
    {
      "cell_type": "code",
      "source": [
        "##printing type of each token\n",
        "print([type(token) for token in doc])"
      ],
      "metadata": {
        "colab": {
          "base_uri": "https://localhost:8080/"
        },
        "id": "oaJNFvW_VSFq",
        "outputId": "49c6b62c-a4e0-40a3-c581-ab4ff47479ba"
      },
      "execution_count": null,
      "outputs": [
        {
          "output_type": "stream",
          "name": "stdout",
          "text": [
            "[<class 'spacy.tokens.token.Token'>, <class 'spacy.tokens.token.Token'>, <class 'spacy.tokens.token.Token'>, <class 'spacy.tokens.token.Token'>, <class 'spacy.tokens.token.Token'>, <class 'spacy.tokens.token.Token'>, <class 'spacy.tokens.token.Token'>, <class 'spacy.tokens.token.Token'>, <class 'spacy.tokens.token.Token'>, <class 'spacy.tokens.token.Token'>, <class 'spacy.tokens.token.Token'>, <class 'spacy.tokens.token.Token'>, <class 'spacy.tokens.token.Token'>, <class 'spacy.tokens.token.Token'>, <class 'spacy.tokens.token.Token'>]\n"
          ]
        }
      ]
    },
    {
      "cell_type": "code",
      "source": [
        "##Tokens as string\n",
        "print([token.text for token in doc])"
      ],
      "metadata": {
        "colab": {
          "base_uri": "https://localhost:8080/"
        },
        "id": "fgVjBgFYWVMf",
        "outputId": "2a4c2a6a-1e7a-44c9-c74a-91481a3a3096"
      },
      "execution_count": null,
      "outputs": [
        {
          "output_type": "stream",
          "name": "stdout",
          "text": [
            "['I', \"'m\", 'working', 'as', 'a', 'Data', 'Scientist', 'in', 'the', 'U.S.', 'and', 'earning', '$', '160,000', '.']\n"
          ]
        }
      ]
    },
    {
      "cell_type": "code",
      "source": [
        "## Comparing white space and spacy tokenizer\n",
        "def compare(text_input):\n",
        "  doc=nlp(text_input)\n",
        "  print(\"white Space tokenizer :\\n\",text_input.split())\n",
        "  print(\"Number of Tokens generated from white space tokenizer : \",len(text_input.split()))\n",
        "  print(\"Spacy Tokenizer tokens ; \\n\",[token for token in doc])\n",
        "  print(\"No of tokens gnerated from spacy tokenizer : \",len([token for token in doc]))"
      ],
      "metadata": {
        "id": "dr_X5q3AWlwo"
      },
      "execution_count": null,
      "outputs": []
    },
    {
      "cell_type": "code",
      "source": [
        "compare(\"The market has significantly increased from 35% to 60% over the past few years.\")"
      ],
      "metadata": {
        "colab": {
          "base_uri": "https://localhost:8080/"
        },
        "id": "KzK9ZrbBX_ki",
        "outputId": "aa2bc472-8337-4176-fea1-288d1a9ac7e5"
      },
      "execution_count": null,
      "outputs": [
        {
          "output_type": "stream",
          "name": "stdout",
          "text": [
            "white Space tokenizer :\n",
            " ['The', 'market', 'has', 'significantly', 'increased', 'from', '35%', 'to', '60%', 'over', 'the', 'past', 'few', 'years.']\n",
            "Number of Tokens generated from white space tokenizer :  14\n",
            "Spacy Tokenizer tokens ; \n",
            " [The, market, has, significantly, increased, from, 35, %, to, 60, %, over, the, past, few, years, .]\n",
            "No of tokens gnerated from spacy tokenizer :  17\n"
          ]
        }
      ]
    },
    {
      "cell_type": "code",
      "source": [
        "compare(\"I know HTML, CSS, JavaScript, C++, and Node.js.\")"
      ],
      "metadata": {
        "colab": {
          "base_uri": "https://localhost:8080/"
        },
        "id": "suT8b3lQYMmO",
        "outputId": "c79ebefa-d008-4c4c-d460-abb176ebb322"
      },
      "execution_count": null,
      "outputs": [
        {
          "output_type": "stream",
          "name": "stdout",
          "text": [
            "white Space tokenizer :\n",
            " ['I', 'know', 'HTML,', 'CSS,', 'JavaScript,', 'C++,', 'and', 'Node.js.']\n",
            "Number of Tokens generated from white space tokenizer :  8\n",
            "Spacy Tokenizer tokens ; \n",
            " [I, know, HTML, ,, CSS, ,, JavaScript, ,, C++, ,, and, Node.js, .]\n",
            "No of tokens gnerated from spacy tokenizer :  13\n"
          ]
        }
      ]
    },
    {
      "cell_type": "markdown",
      "source": [
        "## STOPWORDS REMOVAL\n",
        "- Stopwords are the most common words in a language which are added to make things more understandable to humans. Like in English we have a, an, the, for, where, when, at, etc. These words are removed during text pre-processing phase because these words do not add much value to the meaning of the document.\n",
        "- Due to stopwords a lot of resources get wasted in storing and pre-processing these. Removing them makes the process of analysis and model building faster because the corpus size gets reduced due to it.\n"
      ],
      "metadata": {
        "id": "y3b5TdlXZWI6"
      }
    },
    {
      "cell_type": "code",
      "source": [
        "#opening the file using open\n",
        "file_1=open(\"/content/moon.txt\",mode=\"r\",encoding=\"utf-8\")\n",
        "\n",
        "#reading the text data as string\n",
        "text=file_1.read()\n",
        "\n",
        "## closing the file\n",
        "file_1.close()"
      ],
      "metadata": {
        "id": "0-e-HlesYcJ3"
      },
      "execution_count": null,
      "outputs": []
    },
    {
      "cell_type": "code",
      "source": [
        "text"
      ],
      "metadata": {
        "colab": {
          "base_uri": "https://localhost:8080/",
          "height": 244
        },
        "id": "YFewmCoHanSk",
        "outputId": "5123bf65-40ac-4585-c723-9084c5cbf373"
      },
      "execution_count": null,
      "outputs": [
        {
          "output_type": "execute_result",
          "data": {
            "text/plain": [
              "'The moon is the satellite of the earth. It moves round the earth. It shines at night by light reflected from the Sun. It looks beautiful. The bright Moonlight is very soothing. The earthly objects shine like silver in the moonlight. We are fascinated by the enchanting beauty of the Moon. The moon is not as beautiful as it looks. It seems to be lovely when it shines in the sky at night. As a matter of fact it is devoid of plants and animals. The moon is not a suitable place for plants and animals. Therefore, no form of life can be found on the moon. Unlike the earth, the moon has got no atmosphere. Therefore, the lunar days are very hot and the lunar nights are intensely cold. The moon looks beautiful from the earth but in fact it has up forbidding appearance. It is full of rocks and craters. When we look at the moon at night we see some dark spots on it. These dark spots are dangerous rocks and craters. The gravitational pull of the moon is less than that of the earth, so it is difficult to walk on the surface of the Moon. The moon has fascinated man since the beginning of his life on the earth. He has looked at it with wonder. Many poets have composed beautiful poems on the moon. Scientists tried to reveal the mystery of the moon. They wanted to send human to the moon. Several attempts were made to place man on the moon. At last two Americans-Neil Armstrong and Edwin Aldrin-reached the moon on July 21, 1969. They walked on the surface of the moon and collected the lunar rocks. They returned to the earth safely. The American scientists have sent men to the moon several times. Now the moon has been conquered by man. It is no longer a mysterious object. The journey of the moon may be thrilling but it cannot make our life on the earth happy. It is better to have a happy life on the earth then to go to the moon.\\n'"
            ],
            "application/vnd.google.colaboratory.intrinsic+json": {
              "type": "string"
            }
          },
          "metadata": {},
          "execution_count": 40
        }
      ]
    },
    {
      "cell_type": "code",
      "source": [
        "## cleaning the text\n",
        "# Function for cleaning text\n",
        "def clean_text(text):\n",
        "\n",
        "    # Lowercasing the text\n",
        "    text=text.lower()\n",
        "\n",
        "    # Removing comma(,), period(.) and newline character(\\n)\n",
        "    text=re.sub('[,.\\n]','',text)\n",
        "\n",
        "    # Replacing hypen with blank space\n",
        "    text=re.sub('-',' ',text)\n",
        "\n",
        "    return text"
      ],
      "metadata": {
        "id": "55Pfs1sjbmpA"
      },
      "execution_count": null,
      "outputs": []
    },
    {
      "cell_type": "code",
      "source": [
        "clean_text=clean_text(text)\n",
        "clean_text"
      ],
      "metadata": {
        "colab": {
          "base_uri": "https://localhost:8080/",
          "height": 140
        },
        "id": "Z1dj6NAib2Am",
        "outputId": "56f0daf1-8977-4336-f19f-777c260709e2"
      },
      "execution_count": null,
      "outputs": [
        {
          "output_type": "execute_result",
          "data": {
            "text/plain": [
              "'the moon is the satellite of the earth it moves round the earth it shines at night by light reflected from the sun it looks beautiful the bright moonlight is very soothing the earthly objects shine like silver in the moonlight we are fascinated by the enchanting beauty of the moon the moon is not as beautiful as it looks it seems to be lovely when it shines in the sky at night as a matter of fact it is devoid of plants and animals the moon is not a suitable place for plants and animals therefore no form of life can be found on the moon unlike the earth the moon has got no atmosphere therefore the lunar days are very hot and the lunar nights are intensely cold the moon looks beautiful from the earth but in fact it has up forbidding appearance it is full of rocks and craters when we look at the moon at night we see some dark spots on it these dark spots are dangerous rocks and craters the gravitational pull of the moon is less than that of the earth so it is difficult to walk on the surface of the moon the moon has fascinated man since the beginning of his life on the earth he has looked at it with wonder many poets have composed beautiful poems on the moon scientists tried to reveal the mystery of the moon they wanted to send human to the moon several attempts were made to place man on the moon at last two americans neil armstrong and edwin aldrin reached the moon on july 21 1969 they walked on the surface of the moon and collected the lunar rocks they returned to the earth safely the american scientists have sent men to the moon several times now the moon has been conquered by man it is no longer a mysterious object the journey of the moon may be thrilling but it cannot make our life on the earth happy it is better to have a happy life on the earth then to go to the moon'"
            ],
            "application/vnd.google.colaboratory.intrinsic+json": {
              "type": "string"
            }
          },
          "metadata": {},
          "execution_count": 45
        }
      ]
    },
    {
      "cell_type": "code",
      "source": [
        "##loading the spacy model\n",
        "nlp=spacy.load(\"en_core_web_sm\")\n",
        "\n",
        "## creating a doc object\n",
        "doc=nlp(clean_text)"
      ],
      "metadata": {
        "id": "_jQQ3jl6cgsz"
      },
      "execution_count": null,
      "outputs": []
    },
    {
      "cell_type": "code",
      "source": [
        "## finding the count of each word\n",
        "word_dict={}\n",
        "\n",
        "#iterating over each token in doc object\n",
        "for token in doc:\n",
        "\n",
        "#if token already present in dictionary then increment by 1\n",
        "  if token.text in word_dict:\n",
        "    word_dict[token.text]=word_dict[token.text]+1\n",
        "#if not present then initialize by one\n",
        "  else:\n",
        "    word_dict[token.text]=1\n",
        "\n",
        "word_dict"
      ],
      "metadata": {
        "colab": {
          "base_uri": "https://localhost:8080/"
        },
        "id": "-mjSKA9saw1U",
        "outputId": "894a8b0c-2fba-42f2-e255-79988505aa00"
      },
      "execution_count": null,
      "outputs": [
        {
          "output_type": "execute_result",
          "data": {
            "text/plain": [
              "{'the': 47,\n",
              " 'moon': 21,\n",
              " 'is': 10,\n",
              " 'satellite': 1,\n",
              " 'of': 13,\n",
              " 'earth': 9,\n",
              " 'it': 15,\n",
              " 'moves': 1,\n",
              " 'round': 1,\n",
              " 'shines': 2,\n",
              " 'at': 6,\n",
              " 'night': 3,\n",
              " 'by': 3,\n",
              " 'light': 1,\n",
              " 'reflected': 1,\n",
              " 'from': 2,\n",
              " 'sun': 1,\n",
              " 'looks': 3,\n",
              " 'beautiful': 4,\n",
              " 'bright': 1,\n",
              " 'moonlight': 2,\n",
              " 'very': 2,\n",
              " 'soothing': 1,\n",
              " 'earthly': 1,\n",
              " 'objects': 1,\n",
              " 'shine': 1,\n",
              " 'like': 1,\n",
              " 'silver': 1,\n",
              " 'in': 3,\n",
              " 'we': 3,\n",
              " 'are': 4,\n",
              " 'fascinated': 2,\n",
              " 'enchanting': 1,\n",
              " 'beauty': 1,\n",
              " 'not': 3,\n",
              " 'as': 3,\n",
              " 'seems': 1,\n",
              " 'to': 11,\n",
              " 'be': 3,\n",
              " 'lovely': 1,\n",
              " 'when': 2,\n",
              " 'sky': 1,\n",
              " 'a': 4,\n",
              " 'matter': 1,\n",
              " 'fact': 2,\n",
              " 'devoid': 1,\n",
              " 'plants': 2,\n",
              " 'and': 7,\n",
              " 'animals': 2,\n",
              " 'suitable': 1,\n",
              " 'place': 2,\n",
              " 'for': 1,\n",
              " 'therefore': 2,\n",
              " 'no': 3,\n",
              " 'form': 1,\n",
              " 'life': 4,\n",
              " 'can': 2,\n",
              " 'found': 1,\n",
              " 'on': 10,\n",
              " 'unlike': 1,\n",
              " 'has': 5,\n",
              " 'got': 1,\n",
              " 'atmosphere': 1,\n",
              " 'lunar': 3,\n",
              " 'days': 1,\n",
              " 'hot': 1,\n",
              " 'nights': 1,\n",
              " 'intensely': 1,\n",
              " 'cold': 1,\n",
              " 'but': 2,\n",
              " 'up': 1,\n",
              " 'forbidding': 1,\n",
              " 'appearance': 1,\n",
              " 'full': 1,\n",
              " 'rocks': 3,\n",
              " 'craters': 2,\n",
              " 'look': 1,\n",
              " 'see': 1,\n",
              " 'some': 1,\n",
              " 'dark': 2,\n",
              " 'spots': 2,\n",
              " 'these': 1,\n",
              " 'dangerous': 1,\n",
              " 'gravitational': 1,\n",
              " 'pull': 1,\n",
              " 'less': 1,\n",
              " 'than': 1,\n",
              " 'that': 1,\n",
              " 'so': 1,\n",
              " 'difficult': 1,\n",
              " 'walk': 1,\n",
              " 'surface': 2,\n",
              " 'man': 3,\n",
              " 'since': 1,\n",
              " 'beginning': 1,\n",
              " 'his': 1,\n",
              " 'he': 1,\n",
              " 'looked': 1,\n",
              " 'with': 1,\n",
              " 'wonder': 1,\n",
              " 'many': 1,\n",
              " 'poets': 1,\n",
              " 'have': 3,\n",
              " 'composed': 1,\n",
              " 'poems': 1,\n",
              " 'scientists': 2,\n",
              " 'tried': 1,\n",
              " 'reveal': 1,\n",
              " 'mystery': 1,\n",
              " 'they': 3,\n",
              " 'wanted': 1,\n",
              " 'send': 1,\n",
              " 'human': 1,\n",
              " 'several': 2,\n",
              " 'attempts': 1,\n",
              " 'were': 1,\n",
              " 'made': 1,\n",
              " 'last': 1,\n",
              " 'two': 1,\n",
              " 'americans': 1,\n",
              " 'neil': 1,\n",
              " 'armstrong': 1,\n",
              " 'edwin': 1,\n",
              " 'aldrin': 1,\n",
              " 'reached': 1,\n",
              " 'july': 1,\n",
              " '21': 1,\n",
              " '1969': 1,\n",
              " 'walked': 1,\n",
              " 'collected': 1,\n",
              " 'returned': 1,\n",
              " 'safely': 1,\n",
              " 'american': 1,\n",
              " 'sent': 1,\n",
              " 'men': 1,\n",
              " 'times': 1,\n",
              " 'now': 1,\n",
              " 'been': 1,\n",
              " 'conquered': 1,\n",
              " 'longer': 1,\n",
              " 'mysterious': 1,\n",
              " 'object': 1,\n",
              " 'journey': 1,\n",
              " 'may': 1,\n",
              " 'thrilling': 1,\n",
              " 'make': 1,\n",
              " 'our': 1,\n",
              " 'happy': 2,\n",
              " 'better': 1,\n",
              " 'then': 1,\n",
              " 'go': 1}"
            ]
          },
          "metadata": {},
          "execution_count": 48
        }
      ]
    },
    {
      "cell_type": "code",
      "source": [
        "##converting into dataframe for proper visualization\n",
        "df=pd.DataFrame({\"word\":list(word_dict.keys()),\"count\":list(word_dict.values())})\n",
        "df.head()"
      ],
      "metadata": {
        "colab": {
          "base_uri": "https://localhost:8080/",
          "height": 206
        },
        "id": "4FurQRMQbZv-",
        "outputId": "fd032158-138c-421d-d9b9-a9de4fc083d2"
      },
      "execution_count": null,
      "outputs": [
        {
          "output_type": "execute_result",
          "data": {
            "text/plain": [
              "        word  count\n",
              "0        the     47\n",
              "1       moon     21\n",
              "2         is     10\n",
              "3  satellite      1\n",
              "4         of     13"
            ],
            "text/html": [
              "\n",
              "  <div id=\"df-61dd21a7-f0e9-4111-876a-461fd16450a3\" class=\"colab-df-container\">\n",
              "    <div>\n",
              "<style scoped>\n",
              "    .dataframe tbody tr th:only-of-type {\n",
              "        vertical-align: middle;\n",
              "    }\n",
              "\n",
              "    .dataframe tbody tr th {\n",
              "        vertical-align: top;\n",
              "    }\n",
              "\n",
              "    .dataframe thead th {\n",
              "        text-align: right;\n",
              "    }\n",
              "</style>\n",
              "<table border=\"1\" class=\"dataframe\">\n",
              "  <thead>\n",
              "    <tr style=\"text-align: right;\">\n",
              "      <th></th>\n",
              "      <th>word</th>\n",
              "      <th>count</th>\n",
              "    </tr>\n",
              "  </thead>\n",
              "  <tbody>\n",
              "    <tr>\n",
              "      <th>0</th>\n",
              "      <td>the</td>\n",
              "      <td>47</td>\n",
              "    </tr>\n",
              "    <tr>\n",
              "      <th>1</th>\n",
              "      <td>moon</td>\n",
              "      <td>21</td>\n",
              "    </tr>\n",
              "    <tr>\n",
              "      <th>2</th>\n",
              "      <td>is</td>\n",
              "      <td>10</td>\n",
              "    </tr>\n",
              "    <tr>\n",
              "      <th>3</th>\n",
              "      <td>satellite</td>\n",
              "      <td>1</td>\n",
              "    </tr>\n",
              "    <tr>\n",
              "      <th>4</th>\n",
              "      <td>of</td>\n",
              "      <td>13</td>\n",
              "    </tr>\n",
              "  </tbody>\n",
              "</table>\n",
              "</div>\n",
              "    <div class=\"colab-df-buttons\">\n",
              "\n",
              "  <div class=\"colab-df-container\">\n",
              "    <button class=\"colab-df-convert\" onclick=\"convertToInteractive('df-61dd21a7-f0e9-4111-876a-461fd16450a3')\"\n",
              "            title=\"Convert this dataframe to an interactive table.\"\n",
              "            style=\"display:none;\">\n",
              "\n",
              "  <svg xmlns=\"http://www.w3.org/2000/svg\" height=\"24px\" viewBox=\"0 -960 960 960\">\n",
              "    <path d=\"M120-120v-720h720v720H120Zm60-500h600v-160H180v160Zm220 220h160v-160H400v160Zm0 220h160v-160H400v160ZM180-400h160v-160H180v160Zm440 0h160v-160H620v160ZM180-180h160v-160H180v160Zm440 0h160v-160H620v160Z\"/>\n",
              "  </svg>\n",
              "    </button>\n",
              "\n",
              "  <style>\n",
              "    .colab-df-container {\n",
              "      display:flex;\n",
              "      gap: 12px;\n",
              "    }\n",
              "\n",
              "    .colab-df-convert {\n",
              "      background-color: #E8F0FE;\n",
              "      border: none;\n",
              "      border-radius: 50%;\n",
              "      cursor: pointer;\n",
              "      display: none;\n",
              "      fill: #1967D2;\n",
              "      height: 32px;\n",
              "      padding: 0 0 0 0;\n",
              "      width: 32px;\n",
              "    }\n",
              "\n",
              "    .colab-df-convert:hover {\n",
              "      background-color: #E2EBFA;\n",
              "      box-shadow: 0px 1px 2px rgba(60, 64, 67, 0.3), 0px 1px 3px 1px rgba(60, 64, 67, 0.15);\n",
              "      fill: #174EA6;\n",
              "    }\n",
              "\n",
              "    .colab-df-buttons div {\n",
              "      margin-bottom: 4px;\n",
              "    }\n",
              "\n",
              "    [theme=dark] .colab-df-convert {\n",
              "      background-color: #3B4455;\n",
              "      fill: #D2E3FC;\n",
              "    }\n",
              "\n",
              "    [theme=dark] .colab-df-convert:hover {\n",
              "      background-color: #434B5C;\n",
              "      box-shadow: 0px 1px 3px 1px rgba(0, 0, 0, 0.15);\n",
              "      filter: drop-shadow(0px 1px 2px rgba(0, 0, 0, 0.3));\n",
              "      fill: #FFFFFF;\n",
              "    }\n",
              "  </style>\n",
              "\n",
              "    <script>\n",
              "      const buttonEl =\n",
              "        document.querySelector('#df-61dd21a7-f0e9-4111-876a-461fd16450a3 button.colab-df-convert');\n",
              "      buttonEl.style.display =\n",
              "        google.colab.kernel.accessAllowed ? 'block' : 'none';\n",
              "\n",
              "      async function convertToInteractive(key) {\n",
              "        const element = document.querySelector('#df-61dd21a7-f0e9-4111-876a-461fd16450a3');\n",
              "        const dataTable =\n",
              "          await google.colab.kernel.invokeFunction('convertToInteractive',\n",
              "                                                    [key], {});\n",
              "        if (!dataTable) return;\n",
              "\n",
              "        const docLinkHtml = 'Like what you see? Visit the ' +\n",
              "          '<a target=\"_blank\" href=https://colab.research.google.com/notebooks/data_table.ipynb>data table notebook</a>'\n",
              "          + ' to learn more about interactive tables.';\n",
              "        element.innerHTML = '';\n",
              "        dataTable['output_type'] = 'display_data';\n",
              "        await google.colab.output.renderOutput(dataTable, element);\n",
              "        const docLink = document.createElement('div');\n",
              "        docLink.innerHTML = docLinkHtml;\n",
              "        element.appendChild(docLink);\n",
              "      }\n",
              "    </script>\n",
              "  </div>\n",
              "\n",
              "\n",
              "<div id=\"df-d93c5428-4274-4410-a2fd-ee3591e02d17\">\n",
              "  <button class=\"colab-df-quickchart\" onclick=\"quickchart('df-d93c5428-4274-4410-a2fd-ee3591e02d17')\"\n",
              "            title=\"Suggest charts\"\n",
              "            style=\"display:none;\">\n",
              "\n",
              "<svg xmlns=\"http://www.w3.org/2000/svg\" height=\"24px\"viewBox=\"0 0 24 24\"\n",
              "     width=\"24px\">\n",
              "    <g>\n",
              "        <path d=\"M19 3H5c-1.1 0-2 .9-2 2v14c0 1.1.9 2 2 2h14c1.1 0 2-.9 2-2V5c0-1.1-.9-2-2-2zM9 17H7v-7h2v7zm4 0h-2V7h2v10zm4 0h-2v-4h2v4z\"/>\n",
              "    </g>\n",
              "</svg>\n",
              "  </button>\n",
              "\n",
              "<style>\n",
              "  .colab-df-quickchart {\n",
              "      --bg-color: #E8F0FE;\n",
              "      --fill-color: #1967D2;\n",
              "      --hover-bg-color: #E2EBFA;\n",
              "      --hover-fill-color: #174EA6;\n",
              "      --disabled-fill-color: #AAA;\n",
              "      --disabled-bg-color: #DDD;\n",
              "  }\n",
              "\n",
              "  [theme=dark] .colab-df-quickchart {\n",
              "      --bg-color: #3B4455;\n",
              "      --fill-color: #D2E3FC;\n",
              "      --hover-bg-color: #434B5C;\n",
              "      --hover-fill-color: #FFFFFF;\n",
              "      --disabled-bg-color: #3B4455;\n",
              "      --disabled-fill-color: #666;\n",
              "  }\n",
              "\n",
              "  .colab-df-quickchart {\n",
              "    background-color: var(--bg-color);\n",
              "    border: none;\n",
              "    border-radius: 50%;\n",
              "    cursor: pointer;\n",
              "    display: none;\n",
              "    fill: var(--fill-color);\n",
              "    height: 32px;\n",
              "    padding: 0;\n",
              "    width: 32px;\n",
              "  }\n",
              "\n",
              "  .colab-df-quickchart:hover {\n",
              "    background-color: var(--hover-bg-color);\n",
              "    box-shadow: 0 1px 2px rgba(60, 64, 67, 0.3), 0 1px 3px 1px rgba(60, 64, 67, 0.15);\n",
              "    fill: var(--button-hover-fill-color);\n",
              "  }\n",
              "\n",
              "  .colab-df-quickchart-complete:disabled,\n",
              "  .colab-df-quickchart-complete:disabled:hover {\n",
              "    background-color: var(--disabled-bg-color);\n",
              "    fill: var(--disabled-fill-color);\n",
              "    box-shadow: none;\n",
              "  }\n",
              "\n",
              "  .colab-df-spinner {\n",
              "    border: 2px solid var(--fill-color);\n",
              "    border-color: transparent;\n",
              "    border-bottom-color: var(--fill-color);\n",
              "    animation:\n",
              "      spin 1s steps(1) infinite;\n",
              "  }\n",
              "\n",
              "  @keyframes spin {\n",
              "    0% {\n",
              "      border-color: transparent;\n",
              "      border-bottom-color: var(--fill-color);\n",
              "      border-left-color: var(--fill-color);\n",
              "    }\n",
              "    20% {\n",
              "      border-color: transparent;\n",
              "      border-left-color: var(--fill-color);\n",
              "      border-top-color: var(--fill-color);\n",
              "    }\n",
              "    30% {\n",
              "      border-color: transparent;\n",
              "      border-left-color: var(--fill-color);\n",
              "      border-top-color: var(--fill-color);\n",
              "      border-right-color: var(--fill-color);\n",
              "    }\n",
              "    40% {\n",
              "      border-color: transparent;\n",
              "      border-right-color: var(--fill-color);\n",
              "      border-top-color: var(--fill-color);\n",
              "    }\n",
              "    60% {\n",
              "      border-color: transparent;\n",
              "      border-right-color: var(--fill-color);\n",
              "    }\n",
              "    80% {\n",
              "      border-color: transparent;\n",
              "      border-right-color: var(--fill-color);\n",
              "      border-bottom-color: var(--fill-color);\n",
              "    }\n",
              "    90% {\n",
              "      border-color: transparent;\n",
              "      border-bottom-color: var(--fill-color);\n",
              "    }\n",
              "  }\n",
              "</style>\n",
              "\n",
              "  <script>\n",
              "    async function quickchart(key) {\n",
              "      const quickchartButtonEl =\n",
              "        document.querySelector('#' + key + ' button');\n",
              "      quickchartButtonEl.disabled = true;  // To prevent multiple clicks.\n",
              "      quickchartButtonEl.classList.add('colab-df-spinner');\n",
              "      try {\n",
              "        const charts = await google.colab.kernel.invokeFunction(\n",
              "            'suggestCharts', [key], {});\n",
              "      } catch (error) {\n",
              "        console.error('Error during call to suggestCharts:', error);\n",
              "      }\n",
              "      quickchartButtonEl.classList.remove('colab-df-spinner');\n",
              "      quickchartButtonEl.classList.add('colab-df-quickchart-complete');\n",
              "    }\n",
              "    (() => {\n",
              "      let quickchartButtonEl =\n",
              "        document.querySelector('#df-d93c5428-4274-4410-a2fd-ee3591e02d17 button');\n",
              "      quickchartButtonEl.style.display =\n",
              "        google.colab.kernel.accessAllowed ? 'block' : 'none';\n",
              "    })();\n",
              "  </script>\n",
              "</div>\n",
              "\n",
              "    </div>\n",
              "  </div>\n"
            ],
            "application/vnd.google.colaboratory.intrinsic+json": {
              "type": "dataframe",
              "variable_name": "df",
              "summary": "{\n  \"name\": \"df\",\n  \"rows\": 151,\n  \"fields\": [\n    {\n      \"column\": \"word\",\n      \"properties\": {\n        \"dtype\": \"string\",\n        \"num_unique_values\": 151,\n        \"samples\": [\n          \"look\",\n          \"beautiful\",\n          \"dangerous\"\n        ],\n        \"semantic_type\": \"\",\n        \"description\": \"\"\n      }\n    },\n    {\n      \"column\": \"count\",\n      \"properties\": {\n        \"dtype\": \"number\",\n        \"std\": 4,\n        \"min\": 1,\n        \"max\": 47,\n        \"num_unique_values\": 14,\n        \"samples\": [\n          3,\n          11,\n          47\n        ],\n        \"semantic_type\": \"\",\n        \"description\": \"\"\n      }\n    }\n  ]\n}"
            }
          },
          "metadata": {},
          "execution_count": 53
        }
      ]
    },
    {
      "cell_type": "code",
      "source": [
        "df.shape"
      ],
      "metadata": {
        "colab": {
          "base_uri": "https://localhost:8080/"
        },
        "id": "OIravuXIkMQc",
        "outputId": "15170b61-11df-4efd-9e88-5de13023d568"
      },
      "execution_count": null,
      "outputs": [
        {
          "output_type": "execute_result",
          "data": {
            "text/plain": [
              "(151, 2)"
            ]
          },
          "metadata": {},
          "execution_count": 60
        }
      ]
    },
    {
      "cell_type": "code",
      "source": [
        "###printing default stopwords\n",
        "print(nlp.Defaults.stop_words)\n",
        "\n",
        "##no of stopwords\n",
        "print(\"Number of defaukt stopwords :\",len(nlp.Defaults.stop_words))\n",
        "\n"
      ],
      "metadata": {
        "colab": {
          "base_uri": "https://localhost:8080/"
        },
        "id": "KgO2qBx-fIus",
        "outputId": "70391c96-73ef-4e29-d1eb-4acca02a87c1"
      },
      "execution_count": null,
      "outputs": [
        {
          "output_type": "stream",
          "name": "stdout",
          "text": [
            "{'can', 'except', 'keep', 'next', 'has', 'him', '’ll', 'although', 'five', \"'m\", 'afterwards', 'not', 'nor', 'thus', 'or', 'sixty', 'eight', 'themselves', 'please', \"'ve\", 'we', 'seem', 'every', 'but', 'indeed', 'ours', 'amount', 'its', 'before', 'nothing', 'their', 'at', 'any', 'hereupon', 'bottom', 'whenever', 'herself', 'they', '’s', 'along', 'beyond', 'yourself', 'whereby', 'since', 'already', 'yours', 'whereas', 'becoming', \"'s\", 'because', 'against', 'from', '‘s', 'been', 'between', 'side', 're', 'whoever', 'put', '’m', '‘ll', 'she', 'nobody', 'done', 'name', 'might', 'to', 'see', 'just', 'through', 'then', 'your', 'now', 'two', 'whom', 'thence', 'much', 'on', 'made', 'hers', '’ve', 'least', 'yet', 'make', 'had', 'for', 'there', 'mostly', 'another', 'you', 'could', 'such', 'doing', 'show', 'be', 'once', 'using', 'move', 'itself', 'everything', 'fifteen', 'when', 'part', 'into', 'seeming', 'however', 'nevertheless', 'one', 'while', '‘m', 'whither', 'mine', 'ever', 'nowhere', 'twelve', 'perhaps', 'anyhow', 'unless', 'without', 'therein', 'others', 'am', 'none', 'yourselves', 'down', 'moreover', 'where', 'are', 'eleven', 'cannot', 'our', 'alone', 'otherwise', 'everywhere', 'call', 'whose', 'thereafter', 'formerly', 'own', 'must', '‘ve', 'anyone', 'enough', 'due', 'over', 'became', 'i', 'will', 'further', 'ca', 'across', 'in', 'being', 'which', 'during', 'together', 'above', 'regarding', 'than', 'whether', 'why', 'well', 'n‘t', '‘d', 'often', 'this', 'towards', 'some', 'herein', 'whereafter', 'more', 'other', \"'re\", 'nine', 'former', 'back', 'really', 'and', '‘re', 'several', 'serious', 'get', 'again', 'what', 'would', 'say', 'whence', 'somehow', 'front', 'the', 'wherever', 'almost', 'besides', 'rather', 'is', 'six', 'sometime', 'his', 'take', 'amongst', 'them', 'latter', 'me', 'become', 'thereupon', 'anything', 'thru', 'too', 'among', 'third', 'less', 'used', 'ourselves', 'a', 'everyone', 'few', 'as', 'by', 'did', 'four', 'either', 'anywhere', 'somewhere', 'have', 'first', 'only', 'of', 'top', 'an', 'about', 'all', 'still', 'here', 'with', 'various', 'may', 'us', 'he', 'twenty', 'empty', 'same', 'until', 'three', 'full', 'anyway', 'therefore', '’re', 'meanwhile', 'around', 'ten', 'behind', 'hereafter', 'elsewhere', 'very', 'who', 'beside', 'so', 'noone', 'toward', 'within', 'upon', 'else', 'wherein', 'does', 'quite', 'even', 'seemed', 'latterly', \"n't\", 'off', 'something', 'hereby', 'it', 'many', 'hundred', 'most', 'last', \"'d\", 'go', 'if', 'do', 'whole', 'hence', 'those', 'after', 'that', 'was', '’d', 'give', 'never', 'beforehand', 'should', 'seems', 'below', 'whatever', 'myself', 'also', 'sometimes', 'fifty', 'himself', 'n’t', 'whereupon', 'were', 'someone', 'how', 'always', 'my', 'namely', 'these', 'each', \"'ll\", 'her', 'throughout', 'forty', 'becomes', 'out', 'under', 'thereby', 'both', 'via', 'no', 'onto', 'up', 'per', 'though', 'neither'}\n",
            "Number of defaukt stopwords : 326\n"
          ]
        }
      ]
    },
    {
      "cell_type": "code",
      "source": [
        "##getting those words which are not stopwords\n",
        "\n",
        "cleaned_tokens=[token.text for token in doc if(token.is_stop==False)]"
      ],
      "metadata": {
        "id": "YcdxWAowh6hF"
      },
      "execution_count": null,
      "outputs": []
    },
    {
      "cell_type": "code",
      "source": [
        "print(cleaned_tokens)"
      ],
      "metadata": {
        "colab": {
          "base_uri": "https://localhost:8080/"
        },
        "id": "Ilw6vkvCj1io",
        "outputId": "a1d858e5-15d3-46a8-f99f-ce8ffaa0ff0d"
      },
      "execution_count": null,
      "outputs": [
        {
          "output_type": "stream",
          "name": "stdout",
          "text": [
            "['moon', 'satellite', 'earth', 'moves', 'round', 'earth', 'shines', 'night', 'light', 'reflected', 'sun', 'looks', 'beautiful', 'bright', 'moonlight', 'soothing', 'earthly', 'objects', 'shine', 'like', 'silver', 'moonlight', 'fascinated', 'enchanting', 'beauty', 'moon', 'moon', 'beautiful', 'looks', 'lovely', 'shines', 'sky', 'night', 'matter', 'fact', 'devoid', 'plants', 'animals', 'moon', 'suitable', 'place', 'plants', 'animals', 'form', 'life', 'found', 'moon', 'unlike', 'earth', 'moon', 'got', 'atmosphere', 'lunar', 'days', 'hot', 'lunar', 'nights', 'intensely', 'cold', 'moon', 'looks', 'beautiful', 'earth', 'fact', 'forbidding', 'appearance', 'rocks', 'craters', 'look', 'moon', 'night', 'dark', 'spots', 'dark', 'spots', 'dangerous', 'rocks', 'craters', 'gravitational', 'pull', 'moon', 'earth', 'difficult', 'walk', 'surface', 'moon', 'moon', 'fascinated', 'man', 'beginning', 'life', 'earth', 'looked', 'wonder', 'poets', 'composed', 'beautiful', 'poems', 'moon', 'scientists', 'tried', 'reveal', 'mystery', 'moon', 'wanted', 'send', 'human', 'moon', 'attempts', 'place', 'man', 'moon', 'americans', 'neil', 'armstrong', 'edwin', 'aldrin', 'reached', 'moon', 'july', '21', '1969', 'walked', 'surface', 'moon', 'collected', 'lunar', 'rocks', 'returned', 'earth', 'safely', 'american', 'scientists', 'sent', 'men', 'moon', 'times', 'moon', 'conquered', 'man', 'longer', 'mysterious', 'object', 'journey', 'moon', 'thrilling', 'life', 'earth', 'happy', 'better', 'happy', 'life', 'earth', 'moon']\n"
          ]
        }
      ]
    },
    {
      "cell_type": "code",
      "source": [
        "### counting number of words\n",
        "new_words_dict={}\n",
        "\n",
        "# Add word-count pair to the dictionary\n",
        "for token in cleaned_tokens:\n",
        "    # Check if the word is already in dictionary\n",
        "    if token in new_words_dict:\n",
        "        # Increment count of word by 1\n",
        "        new_words_dict[token] = new_words_dict[token]+1\n",
        "    else:\n",
        "        # Add the word to dictionary with count 1\n",
        "        new_words_dict[token]=1"
      ],
      "metadata": {
        "id": "UD-0kgX5ktNk"
      },
      "execution_count": null,
      "outputs": []
    },
    {
      "cell_type": "code",
      "source": [
        "# Creating a dataframe from dictionary\n",
        "new_df = pd.DataFrame({'word':list(new_words_dict.keys()), 'count':list(new_words_dict.values())})"
      ],
      "metadata": {
        "id": "phr5Grmjl0dN"
      },
      "execution_count": null,
      "outputs": []
    },
    {
      "cell_type": "code",
      "source": [
        "print(new_df.shape)"
      ],
      "metadata": {
        "colab": {
          "base_uri": "https://localhost:8080/"
        },
        "id": "IzSztSYkl9V_",
        "outputId": "1ddbec11-0575-4c4c-d362-53112cf922e7"
      },
      "execution_count": null,
      "outputs": [
        {
          "output_type": "stream",
          "name": "stdout",
          "text": [
            "(97, 2)\n"
          ]
        }
      ]
    },
    {
      "cell_type": "code",
      "source": [
        "new_df.sort_values(by=\"count\",ascending=False)"
      ],
      "metadata": {
        "colab": {
          "base_uri": "https://localhost:8080/",
          "height": 423
        },
        "id": "_BUX7mE8mFm-",
        "outputId": "dd47a55b-8b3f-4935-9158-50227380d935"
      },
      "execution_count": null,
      "outputs": [
        {
          "output_type": "execute_result",
          "data": {
            "text/plain": [
              "          word  count\n",
              "0         moon     21\n",
              "2        earth      9\n",
              "33        life      4\n",
              "11   beautiful      4\n",
              "10       looks      3\n",
              "..         ...    ...\n",
              "37  atmosphere      1\n",
              "36         got      1\n",
              "35      unlike      1\n",
              "34       found      1\n",
              "96      better      1\n",
              "\n",
              "[97 rows x 2 columns]"
            ],
            "text/html": [
              "\n",
              "  <div id=\"df-499c7f9b-cc3d-4ee9-8d9d-cb28a1d4d089\" class=\"colab-df-container\">\n",
              "    <div>\n",
              "<style scoped>\n",
              "    .dataframe tbody tr th:only-of-type {\n",
              "        vertical-align: middle;\n",
              "    }\n",
              "\n",
              "    .dataframe tbody tr th {\n",
              "        vertical-align: top;\n",
              "    }\n",
              "\n",
              "    .dataframe thead th {\n",
              "        text-align: right;\n",
              "    }\n",
              "</style>\n",
              "<table border=\"1\" class=\"dataframe\">\n",
              "  <thead>\n",
              "    <tr style=\"text-align: right;\">\n",
              "      <th></th>\n",
              "      <th>word</th>\n",
              "      <th>count</th>\n",
              "    </tr>\n",
              "  </thead>\n",
              "  <tbody>\n",
              "    <tr>\n",
              "      <th>0</th>\n",
              "      <td>moon</td>\n",
              "      <td>21</td>\n",
              "    </tr>\n",
              "    <tr>\n",
              "      <th>2</th>\n",
              "      <td>earth</td>\n",
              "      <td>9</td>\n",
              "    </tr>\n",
              "    <tr>\n",
              "      <th>33</th>\n",
              "      <td>life</td>\n",
              "      <td>4</td>\n",
              "    </tr>\n",
              "    <tr>\n",
              "      <th>11</th>\n",
              "      <td>beautiful</td>\n",
              "      <td>4</td>\n",
              "    </tr>\n",
              "    <tr>\n",
              "      <th>10</th>\n",
              "      <td>looks</td>\n",
              "      <td>3</td>\n",
              "    </tr>\n",
              "    <tr>\n",
              "      <th>...</th>\n",
              "      <td>...</td>\n",
              "      <td>...</td>\n",
              "    </tr>\n",
              "    <tr>\n",
              "      <th>37</th>\n",
              "      <td>atmosphere</td>\n",
              "      <td>1</td>\n",
              "    </tr>\n",
              "    <tr>\n",
              "      <th>36</th>\n",
              "      <td>got</td>\n",
              "      <td>1</td>\n",
              "    </tr>\n",
              "    <tr>\n",
              "      <th>35</th>\n",
              "      <td>unlike</td>\n",
              "      <td>1</td>\n",
              "    </tr>\n",
              "    <tr>\n",
              "      <th>34</th>\n",
              "      <td>found</td>\n",
              "      <td>1</td>\n",
              "    </tr>\n",
              "    <tr>\n",
              "      <th>96</th>\n",
              "      <td>better</td>\n",
              "      <td>1</td>\n",
              "    </tr>\n",
              "  </tbody>\n",
              "</table>\n",
              "<p>97 rows × 2 columns</p>\n",
              "</div>\n",
              "    <div class=\"colab-df-buttons\">\n",
              "\n",
              "  <div class=\"colab-df-container\">\n",
              "    <button class=\"colab-df-convert\" onclick=\"convertToInteractive('df-499c7f9b-cc3d-4ee9-8d9d-cb28a1d4d089')\"\n",
              "            title=\"Convert this dataframe to an interactive table.\"\n",
              "            style=\"display:none;\">\n",
              "\n",
              "  <svg xmlns=\"http://www.w3.org/2000/svg\" height=\"24px\" viewBox=\"0 -960 960 960\">\n",
              "    <path d=\"M120-120v-720h720v720H120Zm60-500h600v-160H180v160Zm220 220h160v-160H400v160Zm0 220h160v-160H400v160ZM180-400h160v-160H180v160Zm440 0h160v-160H620v160ZM180-180h160v-160H180v160Zm440 0h160v-160H620v160Z\"/>\n",
              "  </svg>\n",
              "    </button>\n",
              "\n",
              "  <style>\n",
              "    .colab-df-container {\n",
              "      display:flex;\n",
              "      gap: 12px;\n",
              "    }\n",
              "\n",
              "    .colab-df-convert {\n",
              "      background-color: #E8F0FE;\n",
              "      border: none;\n",
              "      border-radius: 50%;\n",
              "      cursor: pointer;\n",
              "      display: none;\n",
              "      fill: #1967D2;\n",
              "      height: 32px;\n",
              "      padding: 0 0 0 0;\n",
              "      width: 32px;\n",
              "    }\n",
              "\n",
              "    .colab-df-convert:hover {\n",
              "      background-color: #E2EBFA;\n",
              "      box-shadow: 0px 1px 2px rgba(60, 64, 67, 0.3), 0px 1px 3px 1px rgba(60, 64, 67, 0.15);\n",
              "      fill: #174EA6;\n",
              "    }\n",
              "\n",
              "    .colab-df-buttons div {\n",
              "      margin-bottom: 4px;\n",
              "    }\n",
              "\n",
              "    [theme=dark] .colab-df-convert {\n",
              "      background-color: #3B4455;\n",
              "      fill: #D2E3FC;\n",
              "    }\n",
              "\n",
              "    [theme=dark] .colab-df-convert:hover {\n",
              "      background-color: #434B5C;\n",
              "      box-shadow: 0px 1px 3px 1px rgba(0, 0, 0, 0.15);\n",
              "      filter: drop-shadow(0px 1px 2px rgba(0, 0, 0, 0.3));\n",
              "      fill: #FFFFFF;\n",
              "    }\n",
              "  </style>\n",
              "\n",
              "    <script>\n",
              "      const buttonEl =\n",
              "        document.querySelector('#df-499c7f9b-cc3d-4ee9-8d9d-cb28a1d4d089 button.colab-df-convert');\n",
              "      buttonEl.style.display =\n",
              "        google.colab.kernel.accessAllowed ? 'block' : 'none';\n",
              "\n",
              "      async function convertToInteractive(key) {\n",
              "        const element = document.querySelector('#df-499c7f9b-cc3d-4ee9-8d9d-cb28a1d4d089');\n",
              "        const dataTable =\n",
              "          await google.colab.kernel.invokeFunction('convertToInteractive',\n",
              "                                                    [key], {});\n",
              "        if (!dataTable) return;\n",
              "\n",
              "        const docLinkHtml = 'Like what you see? Visit the ' +\n",
              "          '<a target=\"_blank\" href=https://colab.research.google.com/notebooks/data_table.ipynb>data table notebook</a>'\n",
              "          + ' to learn more about interactive tables.';\n",
              "        element.innerHTML = '';\n",
              "        dataTable['output_type'] = 'display_data';\n",
              "        await google.colab.output.renderOutput(dataTable, element);\n",
              "        const docLink = document.createElement('div');\n",
              "        docLink.innerHTML = docLinkHtml;\n",
              "        element.appendChild(docLink);\n",
              "      }\n",
              "    </script>\n",
              "  </div>\n",
              "\n",
              "\n",
              "<div id=\"df-1f433a01-46fe-48fd-97fd-25f3e7bd8224\">\n",
              "  <button class=\"colab-df-quickchart\" onclick=\"quickchart('df-1f433a01-46fe-48fd-97fd-25f3e7bd8224')\"\n",
              "            title=\"Suggest charts\"\n",
              "            style=\"display:none;\">\n",
              "\n",
              "<svg xmlns=\"http://www.w3.org/2000/svg\" height=\"24px\"viewBox=\"0 0 24 24\"\n",
              "     width=\"24px\">\n",
              "    <g>\n",
              "        <path d=\"M19 3H5c-1.1 0-2 .9-2 2v14c0 1.1.9 2 2 2h14c1.1 0 2-.9 2-2V5c0-1.1-.9-2-2-2zM9 17H7v-7h2v7zm4 0h-2V7h2v10zm4 0h-2v-4h2v4z\"/>\n",
              "    </g>\n",
              "</svg>\n",
              "  </button>\n",
              "\n",
              "<style>\n",
              "  .colab-df-quickchart {\n",
              "      --bg-color: #E8F0FE;\n",
              "      --fill-color: #1967D2;\n",
              "      --hover-bg-color: #E2EBFA;\n",
              "      --hover-fill-color: #174EA6;\n",
              "      --disabled-fill-color: #AAA;\n",
              "      --disabled-bg-color: #DDD;\n",
              "  }\n",
              "\n",
              "  [theme=dark] .colab-df-quickchart {\n",
              "      --bg-color: #3B4455;\n",
              "      --fill-color: #D2E3FC;\n",
              "      --hover-bg-color: #434B5C;\n",
              "      --hover-fill-color: #FFFFFF;\n",
              "      --disabled-bg-color: #3B4455;\n",
              "      --disabled-fill-color: #666;\n",
              "  }\n",
              "\n",
              "  .colab-df-quickchart {\n",
              "    background-color: var(--bg-color);\n",
              "    border: none;\n",
              "    border-radius: 50%;\n",
              "    cursor: pointer;\n",
              "    display: none;\n",
              "    fill: var(--fill-color);\n",
              "    height: 32px;\n",
              "    padding: 0;\n",
              "    width: 32px;\n",
              "  }\n",
              "\n",
              "  .colab-df-quickchart:hover {\n",
              "    background-color: var(--hover-bg-color);\n",
              "    box-shadow: 0 1px 2px rgba(60, 64, 67, 0.3), 0 1px 3px 1px rgba(60, 64, 67, 0.15);\n",
              "    fill: var(--button-hover-fill-color);\n",
              "  }\n",
              "\n",
              "  .colab-df-quickchart-complete:disabled,\n",
              "  .colab-df-quickchart-complete:disabled:hover {\n",
              "    background-color: var(--disabled-bg-color);\n",
              "    fill: var(--disabled-fill-color);\n",
              "    box-shadow: none;\n",
              "  }\n",
              "\n",
              "  .colab-df-spinner {\n",
              "    border: 2px solid var(--fill-color);\n",
              "    border-color: transparent;\n",
              "    border-bottom-color: var(--fill-color);\n",
              "    animation:\n",
              "      spin 1s steps(1) infinite;\n",
              "  }\n",
              "\n",
              "  @keyframes spin {\n",
              "    0% {\n",
              "      border-color: transparent;\n",
              "      border-bottom-color: var(--fill-color);\n",
              "      border-left-color: var(--fill-color);\n",
              "    }\n",
              "    20% {\n",
              "      border-color: transparent;\n",
              "      border-left-color: var(--fill-color);\n",
              "      border-top-color: var(--fill-color);\n",
              "    }\n",
              "    30% {\n",
              "      border-color: transparent;\n",
              "      border-left-color: var(--fill-color);\n",
              "      border-top-color: var(--fill-color);\n",
              "      border-right-color: var(--fill-color);\n",
              "    }\n",
              "    40% {\n",
              "      border-color: transparent;\n",
              "      border-right-color: var(--fill-color);\n",
              "      border-top-color: var(--fill-color);\n",
              "    }\n",
              "    60% {\n",
              "      border-color: transparent;\n",
              "      border-right-color: var(--fill-color);\n",
              "    }\n",
              "    80% {\n",
              "      border-color: transparent;\n",
              "      border-right-color: var(--fill-color);\n",
              "      border-bottom-color: var(--fill-color);\n",
              "    }\n",
              "    90% {\n",
              "      border-color: transparent;\n",
              "      border-bottom-color: var(--fill-color);\n",
              "    }\n",
              "  }\n",
              "</style>\n",
              "\n",
              "  <script>\n",
              "    async function quickchart(key) {\n",
              "      const quickchartButtonEl =\n",
              "        document.querySelector('#' + key + ' button');\n",
              "      quickchartButtonEl.disabled = true;  // To prevent multiple clicks.\n",
              "      quickchartButtonEl.classList.add('colab-df-spinner');\n",
              "      try {\n",
              "        const charts = await google.colab.kernel.invokeFunction(\n",
              "            'suggestCharts', [key], {});\n",
              "      } catch (error) {\n",
              "        console.error('Error during call to suggestCharts:', error);\n",
              "      }\n",
              "      quickchartButtonEl.classList.remove('colab-df-spinner');\n",
              "      quickchartButtonEl.classList.add('colab-df-quickchart-complete');\n",
              "    }\n",
              "    (() => {\n",
              "      let quickchartButtonEl =\n",
              "        document.querySelector('#df-1f433a01-46fe-48fd-97fd-25f3e7bd8224 button');\n",
              "      quickchartButtonEl.style.display =\n",
              "        google.colab.kernel.accessAllowed ? 'block' : 'none';\n",
              "    })();\n",
              "  </script>\n",
              "</div>\n",
              "\n",
              "    </div>\n",
              "  </div>\n"
            ],
            "application/vnd.google.colaboratory.intrinsic+json": {
              "type": "dataframe",
              "summary": "{\n  \"name\": \"new_df\",\n  \"rows\": 97,\n  \"fields\": [\n    {\n      \"column\": \"word\",\n      \"properties\": {\n        \"dtype\": \"string\",\n        \"num_unique_values\": 97,\n        \"samples\": [\n          \"lovely\",\n          \"collected\",\n          \"got\"\n        ],\n        \"semantic_type\": \"\",\n        \"description\": \"\"\n      }\n    },\n    {\n      \"column\": \"count\",\n      \"properties\": {\n        \"dtype\": \"number\",\n        \"std\": 2,\n        \"min\": 1,\n        \"max\": 21,\n        \"num_unique_values\": 6,\n        \"samples\": [\n          21,\n          9,\n          1\n        ],\n        \"semantic_type\": \"\",\n        \"description\": \"\"\n      }\n    }\n  ]\n}"
            }
          },
          "metadata": {},
          "execution_count": 68
        }
      ]
    },
    {
      "cell_type": "markdown",
      "source": [
        "From the above analysis it is clear that moon earth are the words occurring most frequently hence we can grasp that the context is related to moon and earth.  \n",
        "Earlier stopwords were in majority ,hence by removing stopwords we found the topic for the paragraph.  \n",
        "\n",
        "\n",
        "## Remove Stopwords:\n",
        "- Text Classification\n",
        "- Caption Generation\n",
        "- Auto-Tag Generation\n",
        "\n",
        "## Don't Remove Stopwords:\n",
        "- Machine Translation\n",
        "- Language Modeling\n",
        "- Text Summarization\n",
        "- Question-Answering Problems"
      ],
      "metadata": {
        "id": "ZpleScFSmPLf"
      }
    },
    {
      "cell_type": "code",
      "source": [],
      "metadata": {
        "id": "uJAmGtGVmNPG"
      },
      "execution_count": null,
      "outputs": []
    }
  ]
}